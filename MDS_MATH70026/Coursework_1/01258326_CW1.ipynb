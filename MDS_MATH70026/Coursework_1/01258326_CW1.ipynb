{
 "cells": [
  {
   "cell_type": "markdown",
   "metadata": {},
   "source": [
    "# Methods for Data Science - Coursework 1\n",
    "## Amaury Francou - CID : 01258326\n",
    "### amaury.francou16@imperial.ac.uk"
   ]
  },
  {
   "cell_type": "markdown",
   "metadata": {
    "id": "4xHSx8l1tUYN"
   },
   "source": [
    "<a name=\"outline\"></a>\n",
    "## Outline\n",
    "\n",
    "- [Task 1](#task-1): Regression\n",
    "  - [1.1](#q11) Linear regression\n",
    "  - [1.2](#q12) Ridge regression\n",
    "  - [1.3](#q13) Relaxation of Lasso regression\n",
    "- [Task 2](#task-2): Classification\n",
    "  - [2.1](#q21) kNN classifier\n",
    "  - [2.2](#q22) Random forest \n",
    "  - [2.3](#q23) Support vector machine (SVM) \n",
    "- [Task 3](#task-3): Mastery component \n",
    "  - [3.1](#q31) Logistic regression and bagging \n",
    "  - [3.2](#q32) Kernelised SVM classifier "
   ]
  },
  {
   "cell_type": "code",
   "execution_count": 539,
   "metadata": {},
   "outputs": [],
   "source": [
    "# Imports\n",
    "import pandas as pd\n",
    "import numpy as np\n",
    "import matplotlib.pyplot as plt\n",
    "import copy\n",
    "from numpy import random\n",
    "from collections import defaultdict\n",
    "%matplotlib inline\n",
    "import warnings\n",
    "warnings.filterwarnings(\"ignore\")"
   ]
  },
  {
   "cell_type": "markdown",
   "metadata": {
    "id": "J3sSxTA3yzhN"
   },
   "source": [
    "<a name=\"task-1\"></a>\n",
    "# Task 1: Regression [^](#outline)\n",
    "\n"
   ]
  },
  {
   "cell_type": "markdown",
   "metadata": {
    "id": "1gY8lFgnyzsF"
   },
   "source": [
    "<a name=\"q11\"></a>\n",
    "\n",
    "## 1.1 Linear regression  [^](#outline)\n",
    "\n",
    "We here implement a linear regression model to predict the toxicity factor (LC50) target variable, using all the other features present in the $\\texttt{chemistry_samples.csv}$ file dataset as predictors.\n",
    "\n",
    "We start by visualizing the data :"
   ]
  },
  {
   "cell_type": "code",
   "execution_count": 2,
   "metadata": {},
   "outputs": [
    {
     "data": {
      "text/html": [
       "<div>\n",
       "<style scoped>\n",
       "    .dataframe tbody tr th:only-of-type {\n",
       "        vertical-align: middle;\n",
       "    }\n",
       "\n",
       "    .dataframe tbody tr th {\n",
       "        vertical-align: top;\n",
       "    }\n",
       "\n",
       "    .dataframe thead th {\n",
       "        text-align: right;\n",
       "    }\n",
       "</style>\n",
       "<table border=\"1\" class=\"dataframe\">\n",
       "  <thead>\n",
       "    <tr style=\"text-align: right;\">\n",
       "      <th></th>\n",
       "      <th>CIC0</th>\n",
       "      <th>SM1_Dz(Z)</th>\n",
       "      <th>GATS1i</th>\n",
       "      <th>NdsCH</th>\n",
       "      <th>NdssC</th>\n",
       "      <th>MLOGP</th>\n",
       "      <th>FV1</th>\n",
       "      <th>VFV</th>\n",
       "      <th>FV2</th>\n",
       "      <th>FV3</th>\n",
       "      <th>LC50</th>\n",
       "    </tr>\n",
       "  </thead>\n",
       "  <tbody>\n",
       "    <tr>\n",
       "      <th>0</th>\n",
       "      <td>3.661280</td>\n",
       "      <td>0.658363</td>\n",
       "      <td>1.602232</td>\n",
       "      <td>1.994272</td>\n",
       "      <td>0.836488</td>\n",
       "      <td>3.153623</td>\n",
       "      <td>15.893033</td>\n",
       "      <td>-27.724370</td>\n",
       "      <td>0.059355</td>\n",
       "      <td>0.756698</td>\n",
       "      <td>5.506249</td>\n",
       "    </tr>\n",
       "    <tr>\n",
       "      <th>1</th>\n",
       "      <td>3.936362</td>\n",
       "      <td>1.154287</td>\n",
       "      <td>1.146997</td>\n",
       "      <td>0.904295</td>\n",
       "      <td>2.948308</td>\n",
       "      <td>5.141095</td>\n",
       "      <td>13.590177</td>\n",
       "      <td>-31.821521</td>\n",
       "      <td>-13.408855</td>\n",
       "      <td>1.161298</td>\n",
       "      <td>6.636791</td>\n",
       "    </tr>\n",
       "    <tr>\n",
       "      <th>2</th>\n",
       "      <td>0.964144</td>\n",
       "      <td>0.415485</td>\n",
       "      <td>1.481028</td>\n",
       "      <td>2.136585</td>\n",
       "      <td>0.043679</td>\n",
       "      <td>-1.156783</td>\n",
       "      <td>15.989419</td>\n",
       "      <td>-3.699312</td>\n",
       "      <td>2.561525</td>\n",
       "      <td>0.500115</td>\n",
       "      <td>1.563388</td>\n",
       "    </tr>\n",
       "    <tr>\n",
       "      <th>3</th>\n",
       "      <td>2.074617</td>\n",
       "      <td>1.417296</td>\n",
       "      <td>0.486216</td>\n",
       "      <td>0.000908</td>\n",
       "      <td>-0.066980</td>\n",
       "      <td>2.610960</td>\n",
       "      <td>7.962046</td>\n",
       "      <td>-16.374439</td>\n",
       "      <td>2.448975</td>\n",
       "      <td>1.481888</td>\n",
       "      <td>6.248432</td>\n",
       "    </tr>\n",
       "    <tr>\n",
       "      <th>4</th>\n",
       "      <td>1.448569</td>\n",
       "      <td>0.836892</td>\n",
       "      <td>1.951012</td>\n",
       "      <td>0.028318</td>\n",
       "      <td>-0.039121</td>\n",
       "      <td>1.851095</td>\n",
       "      <td>22.285266</td>\n",
       "      <td>-9.526361</td>\n",
       "      <td>2.870400</td>\n",
       "      <td>0.649234</td>\n",
       "      <td>3.676796</td>\n",
       "    </tr>\n",
       "  </tbody>\n",
       "</table>\n",
       "</div>"
      ],
      "text/plain": [
       "       CIC0  SM1_Dz(Z)    GATS1i     NdsCH     NdssC     MLOGP        FV1  \\\n",
       "0  3.661280   0.658363  1.602232  1.994272  0.836488  3.153623  15.893033   \n",
       "1  3.936362   1.154287  1.146997  0.904295  2.948308  5.141095  13.590177   \n",
       "2  0.964144   0.415485  1.481028  2.136585  0.043679 -1.156783  15.989419   \n",
       "3  2.074617   1.417296  0.486216  0.000908 -0.066980  2.610960   7.962046   \n",
       "4  1.448569   0.836892  1.951012  0.028318 -0.039121  1.851095  22.285266   \n",
       "\n",
       "         VFV        FV2       FV3      LC50  \n",
       "0 -27.724370   0.059355  0.756698  5.506249  \n",
       "1 -31.821521 -13.408855  1.161298  6.636791  \n",
       "2  -3.699312   2.561525  0.500115  1.563388  \n",
       "3 -16.374439   2.448975  1.481888  6.248432  \n",
       "4  -9.526361   2.870400  0.649234  3.676796  "
      ]
     },
     "execution_count": 2,
     "metadata": {},
     "output_type": "execute_result"
    }
   ],
   "source": [
    "# Load chemistry data into a pandas dataframe \n",
    "df_chemistry = pd.read_csv(\"chemistry_samples.csv\")\n",
    "# Displaying the first five rows\n",
    "df_chemistry.head()"
   ]
  },
  {
   "cell_type": "code",
   "execution_count": 3,
   "metadata": {},
   "outputs": [
    {
     "name": "stdout",
     "output_type": "stream",
     "text": [
      "Number of samples : 4111\n"
     ]
    }
   ],
   "source": [
    "# Finding number of samples\n",
    "nb_samples = df_chemistry['CIC0'].count()\n",
    "print('Number of samples : ' + str(nb_samples))"
   ]
  },
  {
   "cell_type": "markdown",
   "metadata": {},
   "source": [
    "### 1.1.1 Training\n",
    "\n",
    "We will consider that this given data has been cleaned and pre-processed appropriately, and is further ready for training. The first 10 columns give the 10 predictors and the 11th last column gives the corresponding target variable.\n",
    "\n",
    "We here consider a regression problem, in the sense of predicting a continuous output (i.e. a quantitative value, by opposition to a categorical output). The loss function that we use in this linear regression is the $\\textit{mean squared error}$.\n",
    "\n",
    "We consider a model $f_{LS}(\\mathbf{x}^{(i)},\\mathbf{\\beta}) = \\beta_0 + \\beta_1 x_1^{(i)} + \\dots + \\beta_{10} x_{10}^{(i)}$ where $\\mathbf{\\beta}$ is an appropriate parameter to be found and the $\\mathbf{x}^{(i)}$ are our predictors.\n",
    "\n",
    "We define an augmented matrix $\\mathbf{X}$ containing the descriptor variables in the same way as in the lecture notes. As well, we define a vector $\\mathbf{y}$ containing the observed target variables. The solution of the Normal Equation reads : $\\mathbf{\\beta}^{\\star} = (\\mathbf{X}^T\\mathbf{X})^{-1}\\mathbf{X}^T\\mathbf{y}$."
   ]
  },
  {
   "cell_type": "code",
   "execution_count": 308,
   "metadata": {},
   "outputs": [],
   "source": [
    "# Converting our dataframe to a numpy array\n",
    "dataArray = df_chemistry.to_numpy()\n",
    "predictorsArray = df_chemistry.to_numpy()[:,:10]\n",
    "targetArray = df_chemistry.to_numpy()[:,10]"
   ]
  },
  {
   "cell_type": "markdown",
   "metadata": {},
   "source": [
    "We build a function that retreives the minimizing beta given an array of predictors and a target value vector :"
   ]
  },
  {
   "cell_type": "code",
   "execution_count": 5,
   "metadata": {},
   "outputs": [],
   "source": [
    "def getBeta(predictors = predictorsArray, target = targetArray) :\n",
    "    \"\"\"\n",
    "    This function computes a beta vector minimizing the mean squared error upon a linear model, \n",
    "    using the closed form solution of the Normal Equation. \n",
    "\n",
    "    Parameters\n",
    "    ----------\n",
    "    predictors : an Nxp-dimensionnal numpy array containing the predictors\n",
    "    target : an N-dimensionnal numpy array containing the target values\n",
    "\n",
    "    Returns\n",
    "    -------\n",
    "    beta : a p+1-dimensionnal numpy array containing the minimizing beta\n",
    "    \"\"\"\n",
    "    \n",
    "    N, p = predictors.shape # Retreiving shapes\n",
    "    \n",
    "    # Building appropriate matrix X\n",
    "    X = np.zeros(shape = (N,p+1)) \n",
    "    X[:,0] = np.ones(N)\n",
    "    X[:,1:] = predictors\n",
    "    \n",
    "    # Computing beta \n",
    "    beta = (np.linalg.inv(X.T@X)@X.T)@target\n",
    "    \n",
    "    return beta"
   ]
  },
  {
   "cell_type": "markdown",
   "metadata": {},
   "source": [
    "We further retreive the corresponding beta vector :"
   ]
  },
  {
   "cell_type": "code",
   "execution_count": 6,
   "metadata": {},
   "outputs": [
    {
     "name": "stdout",
     "output_type": "stream",
     "text": [
      "beta = [ 2.61638041e+00  4.47138333e-02  1.25871884e+00 -3.80092766e-02\n",
      "  3.63073448e-01  4.66534885e-03  3.90510052e-01 -7.46028629e-02\n",
      " -3.57069460e-02 -1.52588258e-02 -1.80315940e-03]\n"
     ]
    }
   ],
   "source": [
    "beta = getBeta()\n",
    "print('beta =', beta)"
   ]
  },
  {
   "cell_type": "markdown",
   "metadata": {},
   "source": [
    "We analyze the quality of our model using the coefficient of determination $R^2 = 1 - \\frac{\\sum (\\hat{y}_i - y_i)^2}{\\sum (y_i - \\bar{y})^2}$, where $y_i$ is the target value, $\\hat{y}_i$ is the predicted value and $\\bar{y}$ is the mean of all target values. \n",
    "\n",
    "We implement a function that computes this coefficient :"
   ]
  },
  {
   "cell_type": "code",
   "execution_count": 63,
   "metadata": {},
   "outputs": [],
   "source": [
    "def getRsquared(predictors = predictorsArray, target = targetArray, beta = beta, noIntercept = False) :\n",
    "    \"\"\"\n",
    "    This function computes the coefficient of determination of the linear regression.\n",
    "\n",
    "    Parameters\n",
    "    ----------\n",
    "    predictors : an Nxp-dimensionnal numpy array containing the predictors\n",
    "    target : an N-dimensionnal numpy array containing the target values\n",
    "    beta : a p+1-dimensionnal numpy array containing the minimizing beta\n",
    "    noIntercept : a boolean value - set to True if we use a model in which beta_0 = 0\n",
    "\n",
    "    Returns\n",
    "    -------\n",
    "    Rsquared : a float number - the coefficient of determination\n",
    "    \"\"\"\n",
    "    \n",
    "    N, p = predictors.shape\n",
    "    meanTarget = np.mean(target) # Computing the mean of the target values\n",
    "    \n",
    "    numerator = 0 # Initializing for the count\n",
    "    denominator = 0\n",
    "    \n",
    "    for i in range(N) : # Computing predictions and building R^2 fraction components\n",
    "        \n",
    "        if noIntercept : # No need for augmented vector \n",
    "            \n",
    "            predictedValue = np.dot(beta,predictors[i])\n",
    "\n",
    "        else :\n",
    "            # Building augmented x_i\n",
    "            augmentedPredictor = np.zeros(p+1)\n",
    "            augmentedPredictor[0] = 1\n",
    "            augmentedPredictor[1:] = predictors[i]\n",
    "\n",
    "            # Using our linear model y_i = beta^Tx_i\n",
    "            predictedValue = np.dot(beta,augmentedPredictor)\n",
    "        \n",
    "        # Building R^2 fraction components\n",
    "        numerator += (target[i] - predictedValue)**2\n",
    "        denominator += (target[i] - meanTarget)**2\n",
    "        \n",
    "    return 1 - (numerator/denominator)\n",
    "        "
   ]
  },
  {
   "cell_type": "code",
   "execution_count": 64,
   "metadata": {},
   "outputs": [
    {
     "name": "stdout",
     "output_type": "stream",
     "text": [
      "R^2 = 0.8718259975718018\n"
     ]
    }
   ],
   "source": [
    "# Computing R^2 on the training set \n",
    "RsquaredTraining = getRsquared()\n",
    "print('R^2 =', RsquaredTraining)"
   ]
  },
  {
   "cell_type": "markdown",
   "metadata": {},
   "source": [
    "### 1.1.2 Testing\n",
    "\n",
    "We now apply our model $f_{LS}$ to the pre-cleaned testing data that has not been involved in the training phase. The aim is to predict the target variable LC50 of this testing set using the 10 same predictors. We compute the $R^2$ score on this test set."
   ]
  },
  {
   "cell_type": "code",
   "execution_count": 65,
   "metadata": {},
   "outputs": [
    {
     "data": {
      "text/html": [
       "<div>\n",
       "<style scoped>\n",
       "    .dataframe tbody tr th:only-of-type {\n",
       "        vertical-align: middle;\n",
       "    }\n",
       "\n",
       "    .dataframe tbody tr th {\n",
       "        vertical-align: top;\n",
       "    }\n",
       "\n",
       "    .dataframe thead th {\n",
       "        text-align: right;\n",
       "    }\n",
       "</style>\n",
       "<table border=\"1\" class=\"dataframe\">\n",
       "  <thead>\n",
       "    <tr style=\"text-align: right;\">\n",
       "      <th></th>\n",
       "      <th>CIC0</th>\n",
       "      <th>SM1_Dz(Z)</th>\n",
       "      <th>GATS1i</th>\n",
       "      <th>NdsCH</th>\n",
       "      <th>NdssC</th>\n",
       "      <th>MLOGP</th>\n",
       "      <th>FV1</th>\n",
       "      <th>VFV</th>\n",
       "      <th>FV2</th>\n",
       "      <th>FV3</th>\n",
       "      <th>LC50</th>\n",
       "    </tr>\n",
       "  </thead>\n",
       "  <tbody>\n",
       "    <tr>\n",
       "      <th>0</th>\n",
       "      <td>1.617579</td>\n",
       "      <td>0.376167</td>\n",
       "      <td>1.224281</td>\n",
       "      <td>0.849464</td>\n",
       "      <td>1.101738</td>\n",
       "      <td>-0.448372</td>\n",
       "      <td>14.913614</td>\n",
       "      <td>-9.091450</td>\n",
       "      <td>-1.953849</td>\n",
       "      <td>0.328298</td>\n",
       "      <td>1.791786</td>\n",
       "    </tr>\n",
       "    <tr>\n",
       "      <th>1</th>\n",
       "      <td>4.278766</td>\n",
       "      <td>0.514788</td>\n",
       "      <td>1.259734</td>\n",
       "      <td>0.210436</td>\n",
       "      <td>0.819626</td>\n",
       "      <td>4.446118</td>\n",
       "      <td>12.904817</td>\n",
       "      <td>-37.986185</td>\n",
       "      <td>-2.804426</td>\n",
       "      <td>0.452758</td>\n",
       "      <td>6.125609</td>\n",
       "    </tr>\n",
       "    <tr>\n",
       "      <th>2</th>\n",
       "      <td>3.578652</td>\n",
       "      <td>0.221018</td>\n",
       "      <td>1.552583</td>\n",
       "      <td>1.007153</td>\n",
       "      <td>-0.013073</td>\n",
       "      <td>1.960720</td>\n",
       "      <td>17.393050</td>\n",
       "      <td>-27.188863</td>\n",
       "      <td>3.565159</td>\n",
       "      <td>0.341665</td>\n",
       "      <td>3.953270</td>\n",
       "    </tr>\n",
       "    <tr>\n",
       "      <th>3</th>\n",
       "      <td>3.021762</td>\n",
       "      <td>1.602774</td>\n",
       "      <td>1.044233</td>\n",
       "      <td>0.054776</td>\n",
       "      <td>2.060890</td>\n",
       "      <td>4.510903</td>\n",
       "      <td>12.777434</td>\n",
       "      <td>-22.710306</td>\n",
       "      <td>-7.966119</td>\n",
       "      <td>1.729511</td>\n",
       "      <td>6.995314</td>\n",
       "    </tr>\n",
       "    <tr>\n",
       "      <th>4</th>\n",
       "      <td>2.487163</td>\n",
       "      <td>0.799948</td>\n",
       "      <td>1.005727</td>\n",
       "      <td>0.094923</td>\n",
       "      <td>0.146542</td>\n",
       "      <td>2.298082</td>\n",
       "      <td>13.336721</td>\n",
       "      <td>-16.839870</td>\n",
       "      <td>2.607198</td>\n",
       "      <td>0.904353</td>\n",
       "      <td>5.253633</td>\n",
       "    </tr>\n",
       "  </tbody>\n",
       "</table>\n",
       "</div>"
      ],
      "text/plain": [
       "       CIC0  SM1_Dz(Z)    GATS1i     NdsCH     NdssC     MLOGP        FV1  \\\n",
       "0  1.617579   0.376167  1.224281  0.849464  1.101738 -0.448372  14.913614   \n",
       "1  4.278766   0.514788  1.259734  0.210436  0.819626  4.446118  12.904817   \n",
       "2  3.578652   0.221018  1.552583  1.007153 -0.013073  1.960720  17.393050   \n",
       "3  3.021762   1.602774  1.044233  0.054776  2.060890  4.510903  12.777434   \n",
       "4  2.487163   0.799948  1.005727  0.094923  0.146542  2.298082  13.336721   \n",
       "\n",
       "         VFV       FV2       FV3      LC50  \n",
       "0  -9.091450 -1.953849  0.328298  1.791786  \n",
       "1 -37.986185 -2.804426  0.452758  6.125609  \n",
       "2 -27.188863  3.565159  0.341665  3.953270  \n",
       "3 -22.710306 -7.966119  1.729511  6.995314  \n",
       "4 -16.839870  2.607198  0.904353  5.253633  "
      ]
     },
     "execution_count": 65,
     "metadata": {},
     "output_type": "execute_result"
    }
   ],
   "source": [
    "# Load testing data into a pandas dataframe \n",
    "df_chemistry_testing = pd.read_csv(\"chemistry_test.csv\")\n",
    "# Displaying the first five rows\n",
    "df_chemistry_testing.head()"
   ]
  },
  {
   "cell_type": "code",
   "execution_count": 66,
   "metadata": {},
   "outputs": [
    {
     "name": "stdout",
     "output_type": "stream",
     "text": [
      "Number of samples : 1028\n"
     ]
    }
   ],
   "source": [
    "# Finding number of samples\n",
    "nb_samples = df_chemistry_testing['CIC0'].count()\n",
    "print('Number of samples : ' + str(nb_samples))"
   ]
  },
  {
   "cell_type": "code",
   "execution_count": 67,
   "metadata": {},
   "outputs": [],
   "source": [
    "# Converting our dataframe to a numpy array\n",
    "testingDataArray = df_chemistry_testing.to_numpy()\n",
    "predictorsTestingArray = df_chemistry_testing.to_numpy()[:,:10]\n",
    "targetTestingArray = df_chemistry_testing.to_numpy()[:,10]"
   ]
  },
  {
   "cell_type": "code",
   "execution_count": 68,
   "metadata": {},
   "outputs": [
    {
     "name": "stdout",
     "output_type": "stream",
     "text": [
      "R^2 = 0.8642933369927278\n"
     ]
    }
   ],
   "source": [
    "# Computing R^2 on the testing set | beta is unchanged\n",
    "RsquaredTesting = getRsquared(predictors = predictorsTestingArray, target = targetTestingArray, beta = beta) \n",
    "print('R^2 =', RsquaredTesting)"
   ]
  },
  {
   "cell_type": "markdown",
   "metadata": {},
   "source": [
    "We have a slightly smaller $R^2$ computed on the testing set than on the training set. This displays a good generalisability of the model although the linear correlation between the predictors and the target is rather low (86%).  "
   ]
  },
  {
   "cell_type": "markdown",
   "metadata": {
    "id": "gpbJPhupy0Cj"
   },
   "source": [
    "<a name=\"q12\"></a>\n",
    "## 1.2 Ridge regression [^](#outline)\n",
    "\n",
    "We now aim to predict the same target value using the same set of predictors, this time using Ridge regression. We use a 5-fold cross-validation method to find the optimal penalty hyperparameter of the model.\n",
    "\n",
    "We seek to reduce the number of descriptors by inducing sparsity in our model. We perform this by changing the loss function used. The idea is to maintain some of the coefficients small, by applying small weights.\n",
    "\n",
    "The loss function involved here is : $L_{RIDGE}(\\beta) = ||\\mathbf{y}-\\mathbf{X}\\mathbf{\\beta}||^2 + \\lambda||\\mathbf{\\beta}||^2$.\n",
    "\n",
    "The minimizing beta is $\\mathbf{\\beta}^{\\star} = (\\mathbf{X}^T\\mathbf{X} + \\lambda I)^{-1}\\mathbf{X}^T\\mathbf{y}$, where $\\lambda$ is a hyperparameter. \n",
    "\n",
    "Note that here we leave out the intercept $\\beta_0$ in the regularization part of the equation, in order to improve the shrinkage of the coefficients and avoid dominating values for said intercept in our linear model.\n",
    "\n",
    "### 1.2.1 Optimal $\\lambda$\n",
    "\n",
    "To find an optimal $\\lambda$, we use a 5-fold cross-validation process. We split our training data into 5 equal subsets. In turn, we then isolate one of the subsets and further train the model on the rest of the training data. We compute the mean squared error of the model, corresponding to predicting the target values of the subset that has been put aside. We repeat this operation for all the 5 subsets. We then compute the mean of mean squared errors, which gives us a measure to find the optimal lambda.\n",
    "\n",
    "We build relevant helper functions to implement this 5-fold cross-validation method.\n",
    "\n",
    "We first create a function that computes a minimizing beta, giving the parameter $\\lambda$ and the predictors and target.\n"
   ]
  },
  {
   "cell_type": "code",
   "execution_count": 102,
   "metadata": {},
   "outputs": [],
   "source": [
    "def getBetaRIDGE(lbda, predictors = dataArray[:,:10], target = dataArray[:,10]) :\n",
    "    \"\"\"\n",
    "    This function computes a beta vector minimizing the mean squared error upon a Ridge \n",
    "    regression model.\n",
    "\n",
    "    Parameters\n",
    "    ----------\n",
    "    lbda : a float number - the penalty term\n",
    "    predictors : an Nxp-dimensionnal numpy array containing the predictors\n",
    "    target : an N-dimensionnal numpy array containing the target values\n",
    "\n",
    "    Returns\n",
    "    -------\n",
    "    beta : a p+1-dimensionnal numpy array containing the minimizing beta\n",
    "    \"\"\"\n",
    "    \n",
    "    N, p = predictors.shape # Retreiving shapes\n",
    "    \n",
    "    # Building appropriate matrix X\n",
    "    X = np.zeros(shape = (N,p+1)) \n",
    "    X[:,0] = np.ones(N)\n",
    "    X[:,1:] = predictors\n",
    "    \n",
    "    ### We now leave out the intercept ###\n",
    "    I = np.identity(p+1)\n",
    "    I[0,0] = 0\n",
    "    \n",
    "    # Computing beta \n",
    "    beta = (np.linalg.inv(X.T@X + lbda * I)@X.T)@target\n",
    "    \n",
    "    return beta"
   ]
  },
  {
   "cell_type": "markdown",
   "metadata": {},
   "source": [
    "We then build a function that computes the mean squared error of the model."
   ]
  },
  {
   "cell_type": "code",
   "execution_count": 103,
   "metadata": {},
   "outputs": [],
   "source": [
    "def MSE(predictors, target, beta) :\n",
    "    \"\"\"\n",
    "    This function computes the mean squared error of the model.\n",
    "\n",
    "    Parameters\n",
    "    ----------\n",
    "    predictors : an Nxp-dimensionnal numpy array containing the predictors\n",
    "    target : an N-dimensionnal numpy array containing the target values\n",
    "    beta : a p+1-dimensionnal numpy array containing the minimizing beta\n",
    "\n",
    "    Returns\n",
    "    -------\n",
    "    MSE : a float number - the mean squared error of the model\n",
    "    \"\"\"\n",
    "    \n",
    "    N, p = predictors.shape # Retreiving shapes\n",
    "    \n",
    "    S = 0 # Initializing the sum\n",
    "    \n",
    "    for i in range(N) : # Computing predictions and mean squared error\n",
    "        \n",
    "        # Building augmented x_i\n",
    "        augmentedPredictor = np.zeros(p+1)\n",
    "        augmentedPredictor[0] = 1\n",
    "        augmentedPredictor[1:] = predictors[i]\n",
    "        \n",
    "        # Using our linear model y_i = beta^Tx_i\n",
    "        predictedValue = np.dot(beta,augmentedPredictor)\n",
    "        \n",
    "        S += (predictedValue - target[i])**2\n",
    "        \n",
    "    return S/N"
   ]
  },
  {
   "cell_type": "markdown",
   "metadata": {},
   "source": [
    "We finally implement the 5-fold cross-validation process as described previously."
   ]
  },
  {
   "cell_type": "code",
   "execution_count": 314,
   "metadata": {},
   "outputs": [],
   "source": [
    "def fiveFoldValidationRIDGE(dataArray, lbda) :\n",
    "    \"\"\"\n",
    "    This function computes the mean of mean squared errors of a five-fold cross-validation process\n",
    "    for the RIDGE regression model.\n",
    "\n",
    "    Parameters\n",
    "    ----------\n",
    "    lbda : a float number - the penalty term\n",
    "    dataArray : an Nxp-dimensionnal numpy array containing both the predictors and the target value\n",
    "\n",
    "    Returns\n",
    "    -------\n",
    "    meanMSE : a float number - the mean of mean squared errors of the five-fold cross-validation process\n",
    "    \"\"\"\n",
    "    \n",
    "    meanSquaredErrors = np.zeros(5) # Container for the mean squared errors\n",
    "    \n",
    "    # Building the 5 subsets indexes\n",
    "    # As seen in coding task - List of five index arrays, each correspond to one of the five folds.\n",
    "    folds_indexes = np.split(np.arange(dataArray.shape[0]-1), 5) # We drop the last one to allow division by 5\n",
    "    \n",
    "    for i in range(5) : # Five fold\n",
    "\n",
    "        # Building validation subset\n",
    "        validationSubset  = dataArray[folds_indexes[i]] \n",
    "        training_indexes = [] # Initializing \n",
    "        # Building training subset\n",
    "        for j in range(5) :\n",
    "            if j != i : \n",
    "                training_indexes += list(folds_indexes[j])\n",
    "        trainingSubset = dataArray[training_indexes]\n",
    "        \n",
    "        # Training\n",
    "        beta = getBetaRIDGE(lbda = lbda, predictors = trainingSubset[:,:10], target = trainingSubset[:,10])\n",
    "        # MSE on validation subset\n",
    "        meanSquaredErrors[i] = MSE(predictors = validationSubset[:,:10], target = validationSubset[:,10], \\\n",
    "                                   beta = beta)\n",
    "    \n",
    "    return np.mean(meanSquaredErrors)\n"
   ]
  },
  {
   "cell_type": "markdown",
   "metadata": {},
   "source": [
    "We are now able to scan a range of hyperparameters $\\lambda$, in order to find one minimizing the mean of mean squared errors over the 5 folds. "
   ]
  },
  {
   "cell_type": "code",
   "execution_count": 315,
   "metadata": {},
   "outputs": [],
   "source": [
    "def chooseBestLambdaRIDGE(dataArray, returnArray = False):\n",
    "    \"\"\"\n",
    "    This function computes the optimal hyperparameter lambda by using a five-fold cross-validation\n",
    "    method for the RIDGE regression.\n",
    "\n",
    "    Parameters\n",
    "    ----------\n",
    "    dataArray : an Nxp-dimensionnal numpy array containing both the predictors and the target value\n",
    "    returnArray : boolean value - if set to True the function returns the arrays containing the means \n",
    "        of mean squared errors and the tested lambdas \n",
    "\n",
    "    Returns\n",
    "    -------\n",
    "    best_lambda : a float number - the optimal hyperparameter\n",
    "    lambdas : an M-dimensionnal numpy array containing the tested lambdas\n",
    "    lbda_MMSE : an M-dimensionnal numpy array containing the means of MSEs\n",
    "    best_lambda_ind : an integer - the optimal lambda index in lambdas\n",
    "    \n",
    "    \"\"\"\n",
    "    # Initialization\n",
    "    lambdas = np.linspace(start = 1e-15, stop = 1.45, num = 500) # Scanning lambdas\n",
    "    lbda_MMSE = np.zeros(lambdas.shape[0])\n",
    "    \n",
    "    for i, lbda in enumerate(lambdas) :\n",
    "        # Minimizing mean of MSE\n",
    "        lbda_MMSE[i] = fiveFoldValidationRIDGE(dataArray = dataArray, lbda = lbda)\n",
    "        if i%50 == 0 : # Prints from time to time\n",
    "            print('Cross-validation for lambda = ' + str(lbda) + ' gives a mean of MSE = ' + str(lbda_MMSE[i]))\n",
    "        \n",
    "    best_lambda_ind = np.argmin(lbda_MMSE) # A minimizer of means of MSEs\n",
    "    \n",
    "    if returnArray :\n",
    "        return lambdas[best_lambda_ind], lambdas, lbda_MMSE, best_lambda_ind\n",
    "    \n",
    "    return lambdas[best_lambda_ind]"
   ]
  },
  {
   "cell_type": "code",
   "execution_count": 316,
   "metadata": {},
   "outputs": [
    {
     "name": "stdout",
     "output_type": "stream",
     "text": [
      "Cross-validation for lambda = 1e-15 gives a mean of MSE = 0.18792876597652347\n",
      "Cross-validation for lambda = 0.14529058116232554 gives a mean of MSE = 0.18792795031638843\n",
      "Cross-validation for lambda = 0.2905811623246501 gives a mean of MSE = 0.18792732584088223\n",
      "Cross-validation for lambda = 0.4358717434869746 gives a mean of MSE = 0.18792689014630146\n",
      "Cross-validation for lambda = 0.5811623246492992 gives a mean of MSE = 0.18792664086084016\n",
      "Cross-validation for lambda = 0.7264529058116237 gives a mean of MSE = 0.18792657564412468\n",
      "Cross-validation for lambda = 0.8717434869739482 gives a mean of MSE = 0.18792669218675254\n",
      "Cross-validation for lambda = 1.0170340681362728 gives a mean of MSE = 0.18792698820982445\n",
      "Cross-validation for lambda = 1.1623246492985975 gives a mean of MSE = 0.18792746146449585\n",
      "Cross-validation for lambda = 1.3076152304609219 gives a mean of MSE = 0.18792810973155943\n"
     ]
    }
   ],
   "source": [
    "# Computing optimal lambda\n",
    "bestLambdaRIDGE, lambdas, lbda_MMSE,\\\n",
    "best_lambda_ind = chooseBestLambdaRIDGE(dataArray = dataArray, returnArray = True)"
   ]
  },
  {
   "cell_type": "markdown",
   "metadata": {},
   "source": [
    "We compute this optimal $\\lambda$ and report the corresponding mean of mean squared errors : "
   ]
  },
  {
   "cell_type": "code",
   "execution_count": 317,
   "metadata": {},
   "outputs": [
    {
     "name": "stdout",
     "output_type": "stream",
     "text": [
      "Optimal λ = 0.7061122244488982\n",
      "Minimum mean of MSEs = 0.18792657378004998\n"
     ]
    }
   ],
   "source": [
    "# Optimal lambda hyperparameter RIDGE\n",
    "print('Optimal λ = ' + str(bestLambdaRIDGE))\n",
    "# Corresponding mean of MSEs\n",
    "print('Minimum mean of MSEs = ' + str(lbda_MMSE[best_lambda_ind]))"
   ]
  },
  {
   "cell_type": "code",
   "execution_count": 318,
   "metadata": {},
   "outputs": [
    {
     "data": {
      "text/plain": [
       "[<matplotlib.lines.Line2D at 0x7fc9ce8a6250>]"
      ]
     },
     "execution_count": 318,
     "metadata": {},
     "output_type": "execute_result"
    },
    {
     "data": {
      "image/png": "[encoded data removed]",
      "text/plain": [
       "<Figure size 432x288 with 1 Axes>"
      ]
     },
     "metadata": {
      "needs_background": "light"
     },
     "output_type": "display_data"
    }
   ],
   "source": [
    "# RIDGE : Plotting mean of MSEs against different lambdas\n",
    "plt.figure()\n",
    "title = 'Mean of mean squared errors computed using five-fold cross-validation against hyperparameter $\\lambda$ \\n'\n",
    "plt.title(title)\n",
    "plt.xlabel('$\\lambda$')\n",
    "plt.ylabel('Mean of MSEs')\n",
    "plt.plot(lambdas,lbda_MMSE)"
   ]
  },
  {
   "cell_type": "markdown",
   "metadata": {},
   "source": [
    "Our optimal $\\lambda \\approx 0.70$ well minimizes the mean of MSEs."
   ]
  },
  {
   "cell_type": "markdown",
   "metadata": {},
   "source": [
    "The method used is a regularization method where high components in $\\beta$ are penalized. It is intended to reduce overfitting by limiting the importance of unrelevant and covariates inputs. The $\\lambda$ term controls the magnitude of this penalty. \n",
    "\n",
    "For $\\lambda = 0$ we retreive the linear regression. As $\\lambda$ grows, the coefficients of $\\beta$ will shrink accordingly, reducing the impact of unrelevant entry variables on the model, further lowering the variance but increasing the bias. This method exchanges bias against variance. A tradeoff $\\lambda$ is found using our cross-validation process.\n",
    "\n",
    "### 1.2.2 Comparing $R^2$\n",
    "\n",
    "We now use our optimal $\\lambda$ to compute the vector $\\beta$ on the entire data set. We further compute the related coefficient of determination $R^2$. We compare it with the corresponding score computed on the unused testing set."
   ]
  },
  {
   "cell_type": "code",
   "execution_count": 119,
   "metadata": {},
   "outputs": [
    {
     "name": "stdout",
     "output_type": "stream",
     "text": [
      "beta_RIDGE =  [ 2.61821445  0.04433401  1.25230457 -0.03780147  0.36279609  0.00495367\n",
      "  0.39065473 -0.07463672 -0.03570967 -0.01524778  0.00319929]\n"
     ]
    }
   ],
   "source": [
    "# Training on full dataset - RIDGE Regression\n",
    "betaRIDGE = getBetaRIDGE(lbda = bestLambdaRIDGE, predictors = dataArray[:,:10], target = dataArray[:,10]) \n",
    "print('beta_RIDGE = ',betaRIDGE)"
   ]
  },
  {
   "cell_type": "code",
   "execution_count": 121,
   "metadata": {},
   "outputs": [
    {
     "name": "stdout",
     "output_type": "stream",
     "text": [
      "R^2 with RIDGE on full data set =  0.8718250436593374\n",
      "Previous R^2 = 0.8718259975718018\n",
      "Difference = -9.53912464352058e-07\n"
     ]
    }
   ],
   "source": [
    "# Computing R^2 with best lambda and on full data set\n",
    "RsquaredTrainingRIDGE = getRsquared(predictors = dataArray[:,:10], target = dataArray[:,10], \\\n",
    "                                    beta = betaRIDGE)\n",
    "print('R^2 with RIDGE on full data set = ',RsquaredTrainingRIDGE)\n",
    "print('Previous R^2 =', RsquaredTraining)\n",
    "print('Difference =', RsquaredTrainingRIDGE - RsquaredTraining)"
   ]
  },
  {
   "cell_type": "code",
   "execution_count": 123,
   "metadata": {},
   "outputs": [
    {
     "name": "stdout",
     "output_type": "stream",
     "text": [
      "R^2 with RIDGE on testing set =  0.8642791908122764\n",
      "Previous R^2 = 0.8642933369927278\n",
      "Difference = -1.4146180451368728e-05\n"
     ]
    }
   ],
   "source": [
    "# Computing R^2 with best lambda and on testing data set\n",
    "RsquaredTestingRIDGE = getRsquared(predictors = testingDataArray[:,:10], target = testingDataArray[:,10],\\\n",
    "                                   beta = betaRIDGE)\n",
    "print('R^2 with RIDGE on testing set = ',RsquaredTestingRIDGE)\n",
    "print('Previous R^2 =', RsquaredTesting)\n",
    "print('Difference =', RsquaredTestingRIDGE - RsquaredTesting)"
   ]
  },
  {
   "cell_type": "markdown",
   "metadata": {},
   "source": [
    "The linear correlation is moderately worse using ridge regression, as there is a difference of order $10^{-6}$ in the coefficient of determination, both on training and testing set. The shrinkage method used - here with a small penalty term that well balances variance and bias - does not allow to improve our model's predictions. In our considered case, a linear method may not be capable of modelling the perhaps more subtil relationship that exists between our predictors and our target.\n"
   ]
  },
  {
   "cell_type": "markdown",
   "metadata": {
    "id": "K9OTrzYly0Oz"
   },
   "source": [
    "<a name=\"q13\"></a>\n",
    "\n",
    "## 1.3 Relaxation of Lasso regression  [^](#outline)\n",
    "\n",
    "We now consider another shrinkage method : a relaxation of the Lasso optimisation. Namely, we now aim to minimize $L_{LASSO} = ||\\mathbf{y}-\\mathbf{X}\\beta||^2 + \\lambda \\sum_i^p L_c(\\beta_i)$, where the 1-norm is replaced by the use of smooth Huber functions $L_c$ defined by :$$L_c(\\beta)=\\begin{cases}\\frac{1}{2}\\beta^2 \\text{ if $|\\beta|\\leq c$}\\\\c(|\\beta|-\\frac{1}{2}c) \\text{ otherwise}\\end{cases}$$ This formulation makes the error function differentiable, and further allows the use of the gradient descent algorithm. The parameter $c$ is here fixed.\n",
    "\n",
    "### 1.3.1 Computing the gradient\n",
    "\n",
    "In order to perform the algorithm, we compute the gradient of the objective function :$$ \\nabla L_{LASSO}(\\beta) = -2\\mathbf{X}^T(\\mathbf{y}-\\mathbf{X}\\beta)+ \\lambda\\sum_i^p\\frac{dL_c(\\beta_i)}{d\\beta}\\vec{\\mathbf{e}}_i \\text{ with - as long as $c>0$ - }\\frac{dL_c(\\beta_i)}{d\\beta}=\\begin{cases}\\beta_i \\text{ if $|\\beta_i|\\leq c$} \\\\c\\frac{\\beta_i}{|\\beta_i|}\\text{ otherwise}\\end{cases}$$ \n",
    "\n",
    "We implement those functions and gradients in the following.\n"
   ]
  },
  {
   "cell_type": "code",
   "execution_count": 186,
   "metadata": {
    "id": "jg2TWPoT0J0Z"
   },
   "outputs": [],
   "source": [
    "def huber(beta, c=1e-6) :\n",
    "    \"\"\"\n",
    "    This function computes the regularization term of the relaxed LASSO method.\n",
    "\n",
    "    Parameters\n",
    "    ----------\n",
    "    beta : a p+1-dimensionnal numpy array containing the minimizing beta\n",
    "    c : a float number - a fixed parameter of Huber functions\n",
    "\n",
    "    Returns\n",
    "    -------\n",
    "    huberTerm : a float number - the regularization term\n",
    "    \"\"\"\n",
    "    \n",
    "    p = beta.shape[0] - 1 # Retreiving the number of parameters\n",
    "    Lcs = np.zeros(p+1)\n",
    "    \n",
    "    for i in range(p+1) : # Using Lc formula\n",
    "        if np.abs(beta[i]) <= c :\n",
    "            Lcs[i] = 0.5 * beta[i]**2\n",
    "        else :\n",
    "            Lcs[i] = c * (np.abs(beta[i]) - 0.5 * c)\n",
    "            \n",
    "    return np.sum(Lcs) \n",
    "\n",
    "\n",
    "\n",
    "def LASSOfunc(predictors, target, beta, lbda, c=1e-6) :\n",
    "    \"\"\"\n",
    "    This function computes the objective function of the relaxed LASSO method.\n",
    "\n",
    "    Parameters\n",
    "    ----------\n",
    "    predictors : an Nxp-dimensionnal numpy array containing the predictors\n",
    "    target : an N-dimensionnal numpy array containing the target values\n",
    "    beta : a p+1-dimensionnal numpy array containing the minimizing beta\n",
    "    lbda : a float number - the penalty term\n",
    "    c : a float number - a fixed parameter of Huber functions\n",
    "\n",
    "    Returns\n",
    "    -------\n",
    "    L : a float number - the value of the objective function\n",
    "    \"\"\"\n",
    "        \n",
    "    N, p = predictors.shape # Retreiving shapes\n",
    "    \n",
    "    # Building appropriate matrix X\n",
    "    X = np.zeros(shape = (N,p+1)) \n",
    "    X[:,0] = np.ones(N)\n",
    "    X[:,1:] = predictors\n",
    "    \n",
    "    # Using formula\n",
    "    L = np.linalg.norm(target - X@beta)**2 + lbda * huber(beta, c=c)\n",
    "    \n",
    "    return L\n",
    "    \n",
    "def grad_huber(beta, c=1e-6) :\n",
    "    \"\"\"\n",
    "    This function computes the gradient of the regularization term of the relaxed LASSO method.\n",
    "\n",
    "    Parameters\n",
    "    ----------\n",
    "    beta : a p+1-dimensionnal numpy array containing the minimizing beta\n",
    "    c : a float number - a fixed parameter of Huber functions\n",
    "\n",
    "    Returns\n",
    "    -------\n",
    "    huberTermGradient : a p+1-dimensionnal numpy array - the regularization term gradient\n",
    "    \"\"\"\n",
    "    p = beta.shape[0] - 1 # Retreiving the number of parameters\n",
    "    dLcs = np.zeros(p+1)\n",
    "    \n",
    "    for i in range(p+1) : # Using dLc/dB formula\n",
    "        if np.abs(beta[i]) <= c :\n",
    "            dLcs[i] = beta[i]\n",
    "        else :\n",
    "            dLcs[i] = c * beta[i]/np.abs(beta[i])\n",
    "            \n",
    "    return dLcs\n",
    "\n",
    "def gradLASSO(predictors, target, beta, lbda, c=1e-6) :\n",
    "    \"\"\"\n",
    "    This function computes the gradient of the objective function of the relaxed LASSO method.\n",
    "\n",
    "    Parameters\n",
    "    ----------\n",
    "    predictors : an Nxp-dimensionnal numpy array containing the predictors\n",
    "    target : an N-dimensionnal numpy array containing the target values\n",
    "    beta : a p+1-dimensionnal numpy array containing the minimizing beta\n",
    "    lbda : a float number - the penalty term\n",
    "    c : a float number - a fixed parameter of Huber functions\n",
    "\n",
    "    Returns\n",
    "    -------\n",
    "    grad : a p+1-dimensionnal numpy array - the gradient of the objective function\n",
    "    \"\"\"\n",
    "    \n",
    "    N, p = predictors.shape # Retreiving shapes\n",
    "    \n",
    "    # Building appropriate matrix X\n",
    "    X = np.zeros(shape = (N,p+1)) \n",
    "    X[:,0] = np.ones(N)\n",
    "    X[:,1:] = predictors\n",
    "    \n",
    "    # Using analytical expression with scaling\n",
    "    grad = -2 * (X.T/N)@(target - X@beta) + lbda * grad_huber(beta, c=1e-6)\n",
    "    \n",
    "    return grad"
   ]
  },
  {
   "cell_type": "markdown",
   "metadata": {},
   "source": [
    "We now implement the gradient descent algorithm using fixed step size, to compute a vector $\\beta$ minimizing our objective function $L_{LASSO}$."
   ]
  },
  {
   "cell_type": "code",
   "execution_count": 187,
   "metadata": {
    "id": "U7hMrAxK0LQN"
   },
   "outputs": [],
   "source": [
    "def gradientDescentHuber(predictors, target, lbda, initialGuess = np.array([]), step = 1e-9, maxIt = 100000, \\\n",
    "                         tol = 1e-4, c = 1e-6, printPath = False) :\n",
    "    \"\"\"\n",
    "    This function computes the beta vector minimizing the objective function of the relaxed LASSO method,\n",
    "    using gradient descent.\n",
    "\n",
    "    Parameters\n",
    "    ----------\n",
    "    predictors : an Nxp-dimensionnal numpy array containing the predictors\n",
    "    target : an N-dimensionnal numpy array containing the target values\n",
    "    lbda : a float number - the penalty term\n",
    "    initialGuess : a p+1-dimensionnal numpy array - an initial guess for beta - defaulted to zero-vector\n",
    "    step : a float number - the stepsize of the gradient descent\n",
    "    maxIt : an integer - the maximum number of iteration used \n",
    "    tol : a float number - a tolerance for the gradient norm of the searched minimizing beta\n",
    "    c : a float number - a fixed parameter of Huber functions\n",
    "    printPath : a boolean value - if set to True the function prints the path taken by the optimization process\n",
    "\n",
    "    Returns\n",
    "    -------\n",
    "    beta : a p+1-dimensionnal numpy array - a beta minimizing the objective function\n",
    "    it : an integer - the number of iterations needed\n",
    "    \"\"\"\n",
    "    \n",
    "    N, p = predictors.shape # Retreiving shapes\n",
    "    \n",
    "    it = 0\n",
    "    \n",
    "    if initialGuess.shape[0] == 0 :\n",
    "        beta = np.zeros(p+1) # Default initial guess\n",
    "    \n",
    "    else :\n",
    "        beta = initialGuess\n",
    "        \n",
    "    for i in range(maxIt) :\n",
    "        \n",
    "        it += 1\n",
    "        \n",
    "        # Computing gradient\n",
    "        grad = gradLASSO(predictors = predictors, target = target, beta = beta, lbda = lbda, c = c)\n",
    "        gradNorm = np.linalg.norm(grad)\n",
    "        \n",
    "        if gradNorm < tol : # We arrived at a stationary point for given tolerance\n",
    "            break\n",
    "        \n",
    "        # Otherwise descent in the steepest direction\n",
    "        beta = beta - step * grad\n",
    "        \n",
    "        if printPath :\n",
    "            if i%(int(0.0025 * maxIt)) == 0 : # Prints from time to time \n",
    "                score = LASSOfunc(predictors = predictors, target = target, beta = beta, lbda = lbda, c = c)\n",
    "                print('Iteration ' + str(it) + ' | Function = ' + str(score) + \\\n",
    "                      ' | Gradient Norm = ' + str(gradNorm))\n",
    "        \n",
    "    return beta, it"
   ]
  },
  {
   "cell_type": "code",
   "execution_count": 188,
   "metadata": {
    "scrolled": true
   },
   "outputs": [
    {
     "name": "stdout",
     "output_type": "stream",
     "text": [
      "Iteration 1 | Function = 28442.378959477992 | Gradient Norm = 227.75490382111786\n",
      "Iteration 25001 | Function = 830.424658999481 | Gradient Norm = 0.036279485132313785\n",
      "Iteration 50001 | Function = 775.1844743713776 | Gradient Norm = 0.012610316646409759\n",
      "Iteration 75001 | Function = 768.0425521098945 | Gradient Norm = 0.004785049935000894\n",
      "Iteration 100001 | Function = 766.9711351830725 | Gradient Norm = 0.0019128563798617815\n",
      "Iteration 125001 | Function = 766.795754931298 | Gradient Norm = 0.0007878749380624969\n",
      "Iteration 150001 | Function = 766.7655810608005 | Gradient Norm = 0.0003302272927778618\n",
      "Iteration 175001 | Function = 766.7602358427371 | Gradient Norm = 0.0001399123353415887\n",
      "Iteration 200001 | Function = 766.7592716999577 | Gradient Norm = 5.9702761418182735e-05\n",
      "Iteration 225001 | Function = 766.7590958773776 | Gradient Norm = 2.5601027484080937e-05\n",
      "Iteration 250001 | Function = 766.7590636622168 | Gradient Norm = 1.1015526426888262e-05\n"
     ]
    },
    {
     "data": {
      "text/plain": [
       "(array([ 2.61614876e+00,  4.47752378e-02,  1.25879634e+00, -3.81497307e-02,\n",
       "         3.63076934e-01,  4.66848449e-03,  3.90507450e-01, -7.45834813e-02,\n",
       "        -3.57030878e-02, -1.52566764e-02, -1.83963849e-03]),\n",
       " 252874)"
      ]
     },
     "execution_count": 188,
     "metadata": {},
     "output_type": "execute_result"
    }
   ],
   "source": [
    "# Testing gradient descent\n",
    "gradientDescentHuber(predictors = dataArray[:,:10], target = dataArray[:,10], \\\n",
    "                      lbda = 0.6, step = 1e-3, maxIt = 10000000, tol = 1e-5, \\\n",
    "                         c = 1e-6, printPath = True)"
   ]
  },
  {
   "cell_type": "code",
   "execution_count": 189,
   "metadata": {},
   "outputs": [
    {
     "name": "stdout",
     "output_type": "stream",
     "text": [
      "Iteration 1 | Function = 766.7590597190107 | Gradient Norm = 9.985721146600064e-06\n",
      "Iteration 25001 | Function = 766.7590549000959 | Gradient Norm = 4.231356969772427e-06\n",
      "Iteration 50001 | Function = 766.7590540150468 | Gradient Norm = 1.822314550042831e-06\n",
      "Iteration 75001 | Function = 766.7590538519114 | Gradient Norm = 7.867052342195796e-07\n",
      "Iteration 100001 | Function = 766.7590538220902 | Gradient Norm = 3.4013851444302373e-07\n",
      "Iteration 125001 | Function = 766.7590538167935 | Gradient Norm = 1.472084748134433e-07\n"
     ]
    },
    {
     "data": {
      "text/plain": [
       "(array([ 2.61637769e+00,  4.47142739e-02,  1.25871876e+00, -3.80099546e-02,\n",
       "         3.63073468e-01,  4.66533839e-03,  3.90510088e-01, -7.46027082e-02,\n",
       "        -3.57069269e-02, -1.52588058e-02, -1.80265209e-03]),\n",
       " 136551)"
      ]
     },
     "execution_count": 189,
     "metadata": {},
     "output_type": "execute_result"
    }
   ],
   "source": [
    "# We pre-computed a 'good' beta minimizer to get quicker convergence \n",
    "# (This works even if there is a dependence on lambda)\n",
    "# We use this initial guess\n",
    "initialBeta = np.array([ 2.61614876e+00,  4.47752378e-02,  1.25879634e+00, -3.81497307e-02,\n",
    "         3.63076934e-01,  4.66848449e-03,  3.90507450e-01, -7.45834813e-02,\n",
    "        -3.57030878e-02, -1.52566764e-02, -1.83963849e-03])\n",
    "\n",
    "\n",
    "gradientDescentHuber(predictors = dataArray[:,:10], target = dataArray[:,10], initialGuess = initialBeta, \\\n",
    "                      lbda = 0.05, step = 1e-3, maxIt = 10000000, tol = 1e-7, \\\n",
    "                         c = 1e-6, printPath = True)"
   ]
  },
  {
   "cell_type": "markdown",
   "metadata": {},
   "source": [
    "### 1.3.2 Finding optimal $\\lambda$\n",
    "\n",
    "We again use a 5-fold cross-validation process to find an optimal $\\lambda$ hyperparameter. We scan a range of possible lambdas computing the mean of mean squared errors, in order to find a suitable minimizer."
   ]
  },
  {
   "cell_type": "code",
   "execution_count": 319,
   "metadata": {},
   "outputs": [],
   "source": [
    "def fiveFoldValidationLASSO(dataArray, lbda, initialGuess = initialBeta) :\n",
    "    \"\"\"\n",
    "    This function computes the mean of mean squared errors of a five-fold cross-validation \n",
    "    of the relaxed LASSO regression model.\n",
    "\n",
    "    Parameters\n",
    "    ----------\n",
    "    lbda : a float number - the penalty term\n",
    "    dataArray : an Nxp-dimensionnal numpy array containing both the predictors and the target value\n",
    "    initialGuess : a p+1-dimensionnal numpy array - an initial guess for beta - defaulted to our pre-computed\n",
    "        'best bet'\n",
    "\n",
    "    Returns\n",
    "    -------\n",
    "    meanMSE : a float number - the mean of mean squared errors of the five-fold cross-validation \n",
    "    \"\"\"\n",
    "    \n",
    "    meanSquaredErrors = np.zeros(5) # Container for the mean squared errors\n",
    "    \n",
    "    # Building the 5 subsets indexes\n",
    "    # As seen in coding task - List of five index arrays, each correspond to one of the five folds.\n",
    "    folds_indexes = np.split(np.arange(dataArray.shape[0]-1), 5) # We drop the last one to allow division by 5\n",
    "    \n",
    "    for i in range(5) : # Five fold\n",
    "\n",
    "        # Building validation subset\n",
    "        validationSubset  = dataArray[folds_indexes[i]] \n",
    "        training_indexes = [] # Initializing \n",
    "        # Building training subset\n",
    "        for j in range(5) :\n",
    "            if j != i : \n",
    "                training_indexes += list(folds_indexes[j])\n",
    "        trainingSubset = dataArray[training_indexes]\n",
    "        \n",
    "        # Training\n",
    "        beta, _ = gradientDescentHuber(predictors = trainingSubset[:,:10], target = trainingSubset[:,10], \\\n",
    "                                    initialGuess = initialGuess, \\\n",
    "                      lbda = lbda, step = 1e-3, maxIt = 1000, tol = 1e-4, \\\n",
    "                         c = 1e-6, printPath = False)\n",
    "        # MSE on validation subset\n",
    "        meanSquaredErrors[i] = MSE(predictors = validationSubset[:,:10], target = validationSubset[:,10], \\\n",
    "                                   beta = beta)\n",
    "    \n",
    "    return np.mean(meanSquaredErrors)\n"
   ]
  },
  {
   "cell_type": "code",
   "execution_count": 320,
   "metadata": {},
   "outputs": [],
   "source": [
    "def chooseBestLambdaLASSO(dataArray, returnArray = False):\n",
    "    \"\"\"\n",
    "    This function computes the optimal hyperparameter lambda by using a five-fold cross-validation\n",
    "    method for the relaxed LASSO regression.\n",
    "\n",
    "    Parameters\n",
    "    ----------\n",
    "    dataArray : an Nxp-dimensionnal numpy array containing both the predictors and the target value\n",
    "    returnArray : boolean value - if set to True the function returns the arrays containing the means \n",
    "        of mean squared errors and the tested lambdas \n",
    "\n",
    "    Returns\n",
    "    -------\n",
    "    best_lambda : a float number - the optimal hyperparameter\n",
    "    lambdas : an M-dimensionnal numpy array containing the tested lambdas\n",
    "    lbda_MMSE : an M-dimensionnal numpy array containing the means of MSEs\n",
    "    best_lambda_ind : an integer - the optimal lambda index in lambdas\n",
    "    \n",
    "    \"\"\"\n",
    "    # Initialization\n",
    "    lambdas = np.linspace(start = 0.01, stop = 3400, num = 150) # Scanning lambdas\n",
    "    lbda_MMSE = np.zeros(lambdas.shape[0])\n",
    "    \n",
    "    for i, lbda in enumerate(lambdas) :\n",
    "        # Minimizing mean of MSE\n",
    "        lbda_MMSE[i] = fiveFoldValidationLASSO(dataArray = dataArray, lbda = lbda)\n",
    "        if i%25 == 0 : # Prints from time to time\n",
    "            print('Cross-validation for lambda = ' + str(lbda) + ' gives a mean of MSE = ' + str(lbda_MMSE[i]))\n",
    "        \n",
    "    best_lambda_ind = np.argmin(lbda_MMSE) # A minimizer of means of MSEs\n",
    "    \n",
    "    if returnArray :\n",
    "        return lambdas[best_lambda_ind], lambdas, lbda_MMSE, best_lambda_ind\n",
    "    \n",
    "    return lambdas[best_lambda_ind]"
   ]
  },
  {
   "cell_type": "code",
   "execution_count": 321,
   "metadata": {},
   "outputs": [
    {
     "name": "stdout",
     "output_type": "stream",
     "text": [
      "Cross-validation for lambda = 0.01 gives a mean of MSE = 0.1875322390984032\n",
      "Cross-validation for lambda = 570.478120805369 gives a mean of MSE = 0.18753209357249018\n",
      "Cross-validation for lambda = 1140.946241610738 gives a mean of MSE = 0.1875311307787258\n",
      "Cross-validation for lambda = 1711.4143624161072 gives a mean of MSE = 0.1875307346404845\n",
      "Cross-validation for lambda = 2281.8824832214764 gives a mean of MSE = 0.1875302241046819\n",
      "Cross-validation for lambda = 2852.3506040268453 gives a mean of MSE = 0.18753053819813637\n"
     ]
    }
   ],
   "source": [
    "# Computing optimal lambda for LASSO\n",
    "bestLambdaLASSO, lambdas, lbda_MMSE, best_lambda_ind \\\n",
    " = chooseBestLambdaLASSO(dataArray = dataArray, returnArray = True)"
   ]
  },
  {
   "cell_type": "code",
   "execution_count": 322,
   "metadata": {},
   "outputs": [
    {
     "name": "stdout",
     "output_type": "stream",
     "text": [
      "Optimal λ = 2327.519932885906\n",
      "Minimum mean of MSEs = 0.18753018726076942\n"
     ]
    }
   ],
   "source": [
    "# Optimal lambda hyperparameter for LASSO\n",
    "print('Optimal λ = ' + str(bestLambdaLASSO))\n",
    "# Corresponding mean of MSEs\n",
    "print('Minimum mean of MSEs = ' + str(lbda_MMSE[best_lambda_ind]))"
   ]
  },
  {
   "cell_type": "code",
   "execution_count": 323,
   "metadata": {},
   "outputs": [
    {
     "data": {
      "text/plain": [
       "[<matplotlib.lines.Line2D at 0x7fc9cd666e50>]"
      ]
     },
     "execution_count": 323,
     "metadata": {},
     "output_type": "execute_result"
    },
    {
     "data": {
      "image/png": "[encoded data removed]",
      "text/plain": [
       "<Figure size 432x288 with 1 Axes>"
      ]
     },
     "metadata": {
      "needs_background": "light"
     },
     "output_type": "display_data"
    }
   ],
   "source": [
    "# Plotting mean of MSEs against different lambdas : LASSO\n",
    "plt.figure()\n",
    "title = 'Mean of mean squared errors computed using five-fold cross-validation against hyperparameter $\\lambda$ \\n'\n",
    "plt.title(title)\n",
    "plt.xlabel('$\\lambda$')\n",
    "plt.ylabel('Mean of MSEs')\n",
    "plt.plot(lambdas,lbda_MMSE)"
   ]
  },
  {
   "cell_type": "markdown",
   "metadata": {},
   "source": [
    "We have an optimal hyperparameter that is $\\lambda\\approx 2327.51$. We now compute the $R^2$ score for a $\\beta$ vector obtained on the full data set. We also compute the score on the unused testing data set, using the optimal $\\lambda$. "
   ]
  },
  {
   "cell_type": "code",
   "execution_count": 202,
   "metadata": {},
   "outputs": [
    {
     "name": "stdout",
     "output_type": "stream",
     "text": [
      "beta_LASSO =  [ 2.59244275e+00  3.70541093e-02  1.25512614e+00 -2.51006000e-03\n",
      "  3.61845960e-01  1.81569736e-03  3.94104704e-01 -7.61873140e-02\n",
      " -3.65516622e-02 -1.54841140e-02  7.22181153e-07]\n"
     ]
    }
   ],
   "source": [
    "# Training on full dataset - LASSO Regression\n",
    "betaLASSO, _ = gradientDescentHuber(predictors = dataArray[:,:10], target = dataArray[:,10], lbda = bestLambdaLASSO, \\\n",
    "                     initialGuess = initialBeta, step = 1e-3, maxIt = 100000, \\\n",
    "                         tol = 1e-7, c = 1e-6, printPath = False)\n",
    "print('beta_LASSO = ',betaLASSO)"
   ]
  },
  {
   "cell_type": "code",
   "execution_count": 203,
   "metadata": {},
   "outputs": [
    {
     "name": "stdout",
     "output_type": "stream",
     "text": [
      "R^2 with LASSO on full data set =  0.8717725639585844\n",
      "Previous (Linear Regression) R^2 = 0.8718259975718018\n",
      "Difference = -5.343361321741291e-05\n"
     ]
    }
   ],
   "source": [
    "# Computing R^2 with best lambda on full data set\n",
    "RsquaredTrainingLASSO = getRsquared(predictors = dataArray[:,:10], target = dataArray[:,10], \\\n",
    "                                    beta = betaLASSO)\n",
    "print('R^2 with LASSO on full data set = ',RsquaredTrainingLASSO)\n",
    "print('Previous (Linear Regression) R^2 =', RsquaredTraining)\n",
    "print('Difference =', RsquaredTrainingLASSO - RsquaredTraining)"
   ]
  },
  {
   "cell_type": "code",
   "execution_count": 206,
   "metadata": {},
   "outputs": [
    {
     "name": "stdout",
     "output_type": "stream",
     "text": [
      "R^2 with LASSO on testing set =  0.8641651128285768\n",
      "Previous (Linear Regression) R^2 = 0.8642933369927278\n",
      "Difference = -0.0001282241641510362\n"
     ]
    }
   ],
   "source": [
    "# Computing R^2 with best lambda on testing data set\n",
    "RsquaredTestingLASSO = getRsquared(predictors = testingDataArray[:,:10], target = testingDataArray[:,10],\\\n",
    "                                   beta = betaLASSO)\n",
    "print('R^2 with LASSO on testing set = ',RsquaredTestingLASSO)\n",
    "print('Previous (Linear Regression) R^2 =', RsquaredTesting)\n",
    "print('Difference =', RsquaredTestingLASSO - RsquaredTesting)"
   ]
  },
  {
   "cell_type": "markdown",
   "metadata": {},
   "source": [
    "### 1.3.2 Comparing regression coefficients\n",
    "\n",
    "We analyze the different $\\beta$ obtained with the relaxed LASSO method and the Ridge regression method. "
   ]
  },
  {
   "cell_type": "code",
   "execution_count": 212,
   "metadata": {},
   "outputs": [
    {
     "name": "stdout",
     "output_type": "stream",
     "text": [
      "Coefficients of LASSO :  [ 2.59244275e+00  3.70541093e-02  1.25512614e+00 -2.51006000e-03\n",
      "  3.61845960e-01  1.81569736e-03  3.94104704e-01 -7.61873140e-02\n",
      " -3.65516622e-02 -1.54841140e-02  7.22181153e-07]\n",
      "\n",
      "Coefficients of RIDGE :  [ 2.61821445  0.04433401  1.25230457 -0.03780147  0.36279609  0.00495367\n",
      "  0.39065473 -0.07463672 -0.03570967 -0.01524778  0.00319929]\n",
      "\n",
      "Norm of beta RIDGE - Norm of beta LASSO =  0.021574597198687595\n"
     ]
    }
   ],
   "source": [
    "# Comparing beta of LASSO and RIDGE regression\n",
    "print('Coefficients of LASSO : ',betaLASSO)\n",
    "print('')\n",
    "print('Coefficients of RIDGE : ',betaRIDGE)\n",
    "print('')\n",
    "print('Norm of beta RIDGE - Norm of beta LASSO = ', np.linalg.norm(betaRIDGE) - np.linalg.norm(betaLASSO))"
   ]
  },
  {
   "cell_type": "markdown",
   "metadata": {},
   "source": [
    "As said previously, both method used here are shrinkage methods that incite coefficients to be small. As Ridge regression will constrain some coefficients to be small-scale but not zero, the Lasso method will enforce many coefficients to be zero, leaving some other non-zero entries (for instance see the difference between $\\beta^{RIDGE}_{11}\\approx 0.003$ and $\\beta^{LASSO}_{11}\\approx 10^{-7}$).\n",
    "\n",
    "Both methods reduce accuracy on the training set. However, Ridge regression will lower overfitting and provide a better generalizability of the model, while the Lasso method will better select a minimum set of non-covariate predictors that correlate best with the target, thus informing the user on the underlying phenomenon at stake."
   ]
  },
  {
   "cell_type": "markdown",
   "metadata": {
    "id": "oi0I8ERdy0mD"
   },
   "source": [
    "<a name=\"task-2\"></a>\n",
    "\n",
    "# Task 2: Classification [^](#outline)"
   ]
  },
  {
   "cell_type": "markdown",
   "metadata": {
    "id": "BgBfTmgpy08Z"
   },
   "source": [
    "<a name=\"q21\"></a>\n",
    "\n",
    "## 2.1 kNN classifier [^](#outline)\n",
    "\n",
    "Our goal here is to predict a 2-classes categorical output based on a 30-features input. This classification task is made to predict the diagnosis of breast tumour samples as ‘benign’ ('B') or ‘malignant’ ('M'). We use features and targets available in the $\\texttt{tumour_samples.csv}$ dataset file. \n",
    "\n",
    "We start by visualizing the data :"
   ]
  },
  {
   "cell_type": "code",
   "execution_count": 213,
   "metadata": {},
   "outputs": [
    {
     "data": {
      "text/html": [
       "<div>\n",
       "<style scoped>\n",
       "    .dataframe tbody tr th:only-of-type {\n",
       "        vertical-align: middle;\n",
       "    }\n",
       "\n",
       "    .dataframe tbody tr th {\n",
       "        vertical-align: top;\n",
       "    }\n",
       "\n",
       "    .dataframe thead th {\n",
       "        text-align: right;\n",
       "    }\n",
       "</style>\n",
       "<table border=\"1\" class=\"dataframe\">\n",
       "  <thead>\n",
       "    <tr style=\"text-align: right;\">\n",
       "      <th></th>\n",
       "      <th>Unnamed: 0</th>\n",
       "      <th>n1_radius</th>\n",
       "      <th>n1_texture</th>\n",
       "      <th>n1_perimeter</th>\n",
       "      <th>n1_area</th>\n",
       "      <th>n1_smoothness</th>\n",
       "      <th>n1_compactness</th>\n",
       "      <th>n1_concavity</th>\n",
       "      <th>n1_concave_points</th>\n",
       "      <th>n1_symmetry</th>\n",
       "      <th>...</th>\n",
       "      <th>n3_texture</th>\n",
       "      <th>n3_perimeter</th>\n",
       "      <th>n3_area</th>\n",
       "      <th>n3_smoothness</th>\n",
       "      <th>n3_compactness</th>\n",
       "      <th>n3_concavity</th>\n",
       "      <th>n3_concave_points</th>\n",
       "      <th>n3_symmetry</th>\n",
       "      <th>n3_fractal_dimension</th>\n",
       "      <th>DIAGNOSIS</th>\n",
       "    </tr>\n",
       "  </thead>\n",
       "  <tbody>\n",
       "    <tr>\n",
       "      <th>0</th>\n",
       "      <td>0</td>\n",
       "      <td>10.855170</td>\n",
       "      <td>15.248290</td>\n",
       "      <td>69.167041</td>\n",
       "      <td>359.534878</td>\n",
       "      <td>0.105488</td>\n",
       "      <td>0.080200</td>\n",
       "      <td>0.066410</td>\n",
       "      <td>0.034194</td>\n",
       "      <td>0.182796</td>\n",
       "      <td>...</td>\n",
       "      <td>18.984557</td>\n",
       "      <td>81.443134</td>\n",
       "      <td>466.879302</td>\n",
       "      <td>0.149080</td>\n",
       "      <td>0.200185</td>\n",
       "      <td>0.205695</td>\n",
       "      <td>0.111592</td>\n",
       "      <td>0.335999</td>\n",
       "      <td>0.093477</td>\n",
       "      <td>B</td>\n",
       "    </tr>\n",
       "    <tr>\n",
       "      <th>1</th>\n",
       "      <td>1</td>\n",
       "      <td>10.068958</td>\n",
       "      <td>15.532758</td>\n",
       "      <td>66.130635</td>\n",
       "      <td>330.040665</td>\n",
       "      <td>0.099813</td>\n",
       "      <td>0.109540</td>\n",
       "      <td>0.057583</td>\n",
       "      <td>0.023322</td>\n",
       "      <td>0.195650</td>\n",
       "      <td>...</td>\n",
       "      <td>22.840293</td>\n",
       "      <td>82.133171</td>\n",
       "      <td>473.367822</td>\n",
       "      <td>0.125478</td>\n",
       "      <td>0.330466</td>\n",
       "      <td>0.283304</td>\n",
       "      <td>0.088021</td>\n",
       "      <td>0.312882</td>\n",
       "      <td>0.096158</td>\n",
       "      <td>B</td>\n",
       "    </tr>\n",
       "    <tr>\n",
       "      <th>2</th>\n",
       "      <td>2</td>\n",
       "      <td>12.271409</td>\n",
       "      <td>18.100314</td>\n",
       "      <td>78.195610</td>\n",
       "      <td>421.537832</td>\n",
       "      <td>0.105147</td>\n",
       "      <td>0.095315</td>\n",
       "      <td>0.043317</td>\n",
       "      <td>0.031539</td>\n",
       "      <td>0.188801</td>\n",
       "      <td>...</td>\n",
       "      <td>26.365608</td>\n",
       "      <td>84.598334</td>\n",
       "      <td>620.586067</td>\n",
       "      <td>0.146766</td>\n",
       "      <td>0.118707</td>\n",
       "      <td>0.147900</td>\n",
       "      <td>0.050402</td>\n",
       "      <td>0.291805</td>\n",
       "      <td>0.069556</td>\n",
       "      <td>B</td>\n",
       "    </tr>\n",
       "    <tr>\n",
       "      <th>3</th>\n",
       "      <td>3</td>\n",
       "      <td>10.531733</td>\n",
       "      <td>18.452486</td>\n",
       "      <td>67.227069</td>\n",
       "      <td>340.063033</td>\n",
       "      <td>0.086041</td>\n",
       "      <td>0.049961</td>\n",
       "      <td>0.049709</td>\n",
       "      <td>0.011046</td>\n",
       "      <td>0.203093</td>\n",
       "      <td>...</td>\n",
       "      <td>24.385385</td>\n",
       "      <td>73.296855</td>\n",
       "      <td>429.675600</td>\n",
       "      <td>0.100060</td>\n",
       "      <td>0.143683</td>\n",
       "      <td>0.177225</td>\n",
       "      <td>0.028111</td>\n",
       "      <td>0.287749</td>\n",
       "      <td>0.073174</td>\n",
       "      <td>B</td>\n",
       "    </tr>\n",
       "    <tr>\n",
       "      <th>4</th>\n",
       "      <td>4</td>\n",
       "      <td>12.367686</td>\n",
       "      <td>14.399191</td>\n",
       "      <td>80.643814</td>\n",
       "      <td>460.849710</td>\n",
       "      <td>0.106410</td>\n",
       "      <td>0.101420</td>\n",
       "      <td>0.020806</td>\n",
       "      <td>0.021990</td>\n",
       "      <td>0.195326</td>\n",
       "      <td>...</td>\n",
       "      <td>19.614305</td>\n",
       "      <td>89.910502</td>\n",
       "      <td>472.323112</td>\n",
       "      <td>0.138135</td>\n",
       "      <td>0.276127</td>\n",
       "      <td>0.151098</td>\n",
       "      <td>0.074396</td>\n",
       "      <td>0.345258</td>\n",
       "      <td>0.095830</td>\n",
       "      <td>B</td>\n",
       "    </tr>\n",
       "  </tbody>\n",
       "</table>\n",
       "<p>5 rows × 32 columns</p>\n",
       "</div>"
      ],
      "text/plain": [
       "   Unnamed: 0  n1_radius  n1_texture  n1_perimeter     n1_area  n1_smoothness  \\\n",
       "0           0  10.855170   15.248290     69.167041  359.534878       0.105488   \n",
       "1           1  10.068958   15.532758     66.130635  330.040665       0.099813   \n",
       "2           2  12.271409   18.100314     78.195610  421.537832       0.105147   \n",
       "3           3  10.531733   18.452486     67.227069  340.063033       0.086041   \n",
       "4           4  12.367686   14.399191     80.643814  460.849710       0.106410   \n",
       "\n",
       "   n1_compactness  n1_concavity  n1_concave_points  n1_symmetry  ...  \\\n",
       "0        0.080200      0.066410           0.034194     0.182796  ...   \n",
       "1        0.109540      0.057583           0.023322     0.195650  ...   \n",
       "2        0.095315      0.043317           0.031539     0.188801  ...   \n",
       "3        0.049961      0.049709           0.011046     0.203093  ...   \n",
       "4        0.101420      0.020806           0.021990     0.195326  ...   \n",
       "\n",
       "   n3_texture  n3_perimeter     n3_area  n3_smoothness  n3_compactness  \\\n",
       "0   18.984557     81.443134  466.879302       0.149080        0.200185   \n",
       "1   22.840293     82.133171  473.367822       0.125478        0.330466   \n",
       "2   26.365608     84.598334  620.586067       0.146766        0.118707   \n",
       "3   24.385385     73.296855  429.675600       0.100060        0.143683   \n",
       "4   19.614305     89.910502  472.323112       0.138135        0.276127   \n",
       "\n",
       "   n3_concavity  n3_concave_points  n3_symmetry  n3_fractal_dimension  \\\n",
       "0      0.205695           0.111592     0.335999              0.093477   \n",
       "1      0.283304           0.088021     0.312882              0.096158   \n",
       "2      0.147900           0.050402     0.291805              0.069556   \n",
       "3      0.177225           0.028111     0.287749              0.073174   \n",
       "4      0.151098           0.074396     0.345258              0.095830   \n",
       "\n",
       "   DIAGNOSIS  \n",
       "0          B  \n",
       "1          B  \n",
       "2          B  \n",
       "3          B  \n",
       "4          B  \n",
       "\n",
       "[5 rows x 32 columns]"
      ]
     },
     "execution_count": 213,
     "metadata": {},
     "output_type": "execute_result"
    }
   ],
   "source": [
    "# Load tumour data into a pandas dataframe \n",
    "df_tumour = pd.read_csv(\"tumour_samples.csv\")\n",
    "# Displaying the first five rows\n",
    "df_tumour.head()"
   ]
  },
  {
   "cell_type": "code",
   "execution_count": 216,
   "metadata": {},
   "outputs": [
    {
     "name": "stdout",
     "output_type": "stream",
     "text": [
      "Number of samples : 2566\n"
     ]
    }
   ],
   "source": [
    "# Finding number of samples\n",
    "nb_samples = df_tumour['n1_radius'].count()\n",
    "print('Number of samples : ' + str(nb_samples))"
   ]
  },
  {
   "cell_type": "markdown",
   "metadata": {},
   "source": [
    "### 2.1.1 Training the k-NN\n",
    "\n",
    "For a new entry feature variable $\\mathbf{x}_i\\in\\mathbb{R}^{30}$, this method computes its $k$-nearest-neigbors in the training set - here in the sense of the euclidian norm - and further uses the majority rule upon the classes of said neigbors to provide a predicted class for this unseen inputed variable. \n",
    "\n",
    "We will here also consider that the training set has been cleaned and pre-processed accordingly.\n",
    "\n",
    "In the following, we build a set of functions to implement this method and we use a 5-fold cross-validation process to find the optimal hyperparameter $k$. "
   ]
  },
  {
   "cell_type": "code",
   "execution_count": 375,
   "metadata": {},
   "outputs": [],
   "source": [
    "# Converting our dataframe to a numpy array\n",
    "dataArray = df_tumour.to_numpy()\n",
    "# Standardization\n",
    "dataArray[:,1:31] = (dataArray[:,1:31] - np.mean(dataArray[:,1:31])) / np.std(dataArray[:,1:31])"
   ]
  },
  {
   "cell_type": "code",
   "execution_count": 376,
   "metadata": {},
   "outputs": [],
   "source": [
    "def getNeighbors(inputFeatures, k, predictors = dataArray) :\n",
    "    \"\"\"\n",
    "    This function computes the indexes of the k-nearest-neighbors of the inputFeatures vector in the\n",
    "    predictors array, with respect to the euclidean distance.\n",
    "\n",
    "    Parameters\n",
    "    ----------\n",
    "    inputFeatures : a p-dimensionnal numpy array - the input vector for which we compute the neighbors\n",
    "    k : an integer - the number of neighbors searched for\n",
    "    dataArray : an Nx(p+2)-dimensionnal numpy array containing both the predictors and the target value - an \n",
    "        identifier index is also set at the begining of the rows \n",
    "\n",
    "    Returns\n",
    "    -------\n",
    "    neighborsIndexes : a k-dimensionnal numpy array - the indexes of the k-closest neighbors\n",
    "    \"\"\"\n",
    "    distances = np.zeros(len(predictors)) # Initializing\n",
    "    \n",
    "    for ind, predictor in enumerate(predictors) :\n",
    "        distances[ind] = 1 / np.linalg.norm(predictor[1:31] - inputFeatures) # Computing all distances \n",
    "        # We will look for the argmax - we thus take 1/distance\n",
    "    \n",
    "    neighborsIndexes = np.argpartition(distances, -k)[-k:] # Indexes of k lowest distances\n",
    "        \n",
    "    return neighborsIndexes"
   ]
  },
  {
   "cell_type": "code",
   "execution_count": 377,
   "metadata": {},
   "outputs": [],
   "source": [
    "def kNN(inputFeatures, k, predictors = dataArray) :\n",
    "    \"\"\"\n",
    "    This function computes a prediction for the inputFeatures vector, based on the majority rule \n",
    "    applied to its k-nearest-neighbors.\n",
    "    \n",
    "    Parameters\n",
    "    ----------\n",
    "    inputFeatures : a p-dimensionnal numpy array - the input vector for which we compute the prediction\n",
    "    k : an integer - the number of neighbors\n",
    "    predictors : an Nx(p+2)-dimensionnal numpy array containing both the predictors and the target value - an \n",
    "        identifier index is also set at the begining of the rows \n",
    "\n",
    "    Returns\n",
    "    -------\n",
    "    prediction : a string or an integer - the prediction - -1 is returned if the majority rule cannot be applied\n",
    "    \"\"\"\n",
    "    \n",
    "    # Computing nearest neighbors\n",
    "    neighborsIndexes = getNeighbors(inputFeatures, k, predictors) \n",
    "    neighbors = predictors[neighborsIndexes]\n",
    "    \n",
    "    # Counting the number of 'M' and 'B' classes in the neighbors \n",
    "    nbM = list(neighbors[:,31]).count('M')\n",
    "    nbB = list(neighbors[:,31]).count('B')\n",
    "    \n",
    "    # Majority rule\n",
    "    if nbM > nbB :\n",
    "        return 'M'\n",
    "    elif nbB > nbM :\n",
    "        return 'B'\n",
    "    else : # If the number of 'M' equals the number of 'B' we abandon the prediction \n",
    "        return -1"
   ]
  },
  {
   "cell_type": "markdown",
   "metadata": {},
   "source": [
    "To compute the optimal $k$ by using the cross-validation method, we here measure accuracy, that is to say the proportion of correct predictions made over the validation set. "
   ]
  },
  {
   "cell_type": "code",
   "execution_count": 378,
   "metadata": {},
   "outputs": [],
   "source": [
    "def fiveFoldValidationKNN(dataArray, k) :\n",
    "    \"\"\"\n",
    "    This function computes the mean of accuracies of a five-fold cross-validation process made\n",
    "    on the KNN model.\n",
    "\n",
    "    Parameters\n",
    "    ----------\n",
    "    dataArray : an Nx(p+2)-dimensionnal numpy array containing both the predictors and the target value\n",
    "    k : an integer - the number of neighbors\n",
    "\n",
    "    Returns\n",
    "    -------\n",
    "    meanAccuracy : a float number - the mean of accuracies of the five-fold cross-validation \n",
    "    \"\"\"\n",
    "    \n",
    "    accuracies = np.zeros(5) # Container for the accuracies\n",
    "\n",
    "    # As seen in coding task - List of five index arrays, each correspond to one of the five folds.\n",
    "    folds_indexes = np.split(np.arange(dataArray.shape[0]-1), 5) # We drop the last one to allow division by 5\n",
    "    \n",
    "    for i in range(5) : # Five fold\n",
    "\n",
    "        # Building validation subset\n",
    "        validationSubset  = dataArray[folds_indexes[i]] \n",
    "        training_indexes = [] # Initializing \n",
    "        # Building training subset\n",
    "        for j in range(5) :\n",
    "            if j != i : \n",
    "                training_indexes += list(folds_indexes[j])\n",
    "        trainingSubset = dataArray[training_indexes]\n",
    "        \n",
    "        \n",
    "        accuracy = 0\n",
    "        # Training and Validation\n",
    "        for inputFeatures in validationSubset :\n",
    "            prediction = kNN(inputFeatures = inputFeatures[1:31], k = k, predictors = trainingSubset)\n",
    "            if prediction != -1 : # Ties are considered as a missed prediction here \n",
    "                if prediction == inputFeatures[31] :\n",
    "                    accuracy += 1\n",
    "        accuracies[i] = accuracy / len(validationSubset)\n",
    "    \n",
    "    return np.mean(accuracies)"
   ]
  },
  {
   "cell_type": "code",
   "execution_count": 379,
   "metadata": {},
   "outputs": [],
   "source": [
    "def chooseBestK(dataArray, returnArray = False):\n",
    "    \"\"\"\n",
    "    This function computes the optimal hyperparameter k by using a five-fold cross-validation\n",
    "    method for the kNN model.\n",
    "\n",
    "    Parameters\n",
    "    ----------\n",
    "    dataArray : an Nx(p+2)-dimensionnal numpy array containing both the predictors and the target value\n",
    "    returnArray : boolean value - if set to True the function returns the arrays containing the means \n",
    "        of accuracies and the tested k \n",
    "\n",
    "    Returns\n",
    "    -------\n",
    "    best_k : a integer - the optimal hyperparameter\n",
    "    kList : an M-dimensionnal numpy array containing the tested k\n",
    "    meanAccuracies : an M-dimensionnal numpy array containing the means of accuracies\n",
    "    best_k_ind : an integer - the optimal k index in kList\n",
    "    \n",
    "    \"\"\"\n",
    "    # Initialization\n",
    "    kList = np.arange(start = 1, stop = 8, step = 1) # Scanning k\n",
    "    meanAccuracies = np.zeros(kList.shape[0])\n",
    "    \n",
    "    for i, k in enumerate(kList) :\n",
    "        # Maximizing mean of accuracies\n",
    "        meanAccuracies[i] = fiveFoldValidationKNN(dataArray = dataArray, k = k)\n",
    "        print('Cross-validation for k = ' + str(k) + ' gives a mean of accuracies = ' + str(meanAccuracies[i]))\n",
    "        \n",
    "    best_k_ind = np.argmax(meanAccuracies) # A maximizer of accuracies \n",
    "    \n",
    "    if returnArray :\n",
    "        return kList[best_k_ind], kList, meanAccuracies, best_k_ind\n",
    "    \n",
    "    return kList[best_k_ind]"
   ]
  },
  {
   "cell_type": "code",
   "execution_count": 380,
   "metadata": {},
   "outputs": [
    {
     "name": "stdout",
     "output_type": "stream",
     "text": [
      "Cross-validation for k = 1 gives a mean of accuracies = 0.9586744639376217\n",
      "Cross-validation for k = 2 gives a mean of accuracies = 0.9391812865497075\n",
      "Cross-validation for k = 3 gives a mean of accuracies = 0.9629629629629628\n",
      "Cross-validation for k = 4 gives a mean of accuracies = 0.9536062378167642\n",
      "Cross-validation for k = 5 gives a mean of accuracies = 0.9614035087719298\n",
      "Cross-validation for k = 6 gives a mean of accuracies = 0.9551656920077972\n",
      "Cross-validation for k = 7 gives a mean of accuracies = 0.9614035087719298\n"
     ]
    }
   ],
   "source": [
    "# Computing optimal k for KNN\n",
    "bestK, kList, meanAccuracies, best_k_ind \\\n",
    " = chooseBestK(dataArray = dataArray, returnArray = True)"
   ]
  },
  {
   "cell_type": "code",
   "execution_count": 381,
   "metadata": {},
   "outputs": [
    {
     "name": "stdout",
     "output_type": "stream",
     "text": [
      "Optimal k = 3\n",
      "Maximum mean of accuracies = 0.9629629629629628\n"
     ]
    }
   ],
   "source": [
    "# Optimal k hyperparameter for kNN\n",
    "print('Optimal k = ' + str(bestK))\n",
    "# Corresponding mean of MSEs\n",
    "print('Maximum mean of accuracies = ' + str(meanAccuracies[best_k_ind]))"
   ]
  },
  {
   "cell_type": "markdown",
   "metadata": {},
   "source": [
    "### 2.1.2 Computing accuracies\n",
    "\n",
    "We compute the accuracies of our model having fixed $k$ to an optimum ($k=3$), on both the training and the unseen testing set. "
   ]
  },
  {
   "cell_type": "code",
   "execution_count": 386,
   "metadata": {},
   "outputs": [],
   "source": [
    "def accuracyKNN(testingArray, k, trainingArray = dataArray) :\n",
    "    \"\"\"\n",
    "    This function computes the accuracy of the KNN model, trained on the dataArray.\n",
    "\n",
    "    Parameters\n",
    "    ----------\n",
    "    testingArray : an Nx(p+2)-dimensionnal numpy array contain containing both the predictors and \n",
    "        the target value of the testing set \n",
    "    k : an integer - the number of neighbors\n",
    "    trainingArray : an Nx(p+2)-dimensionnal numpy array containing both the predictors and \n",
    "        the target value of the training set \n",
    "\n",
    "    Returns\n",
    "    -------\n",
    "    accuracy : a float number - the accuracy of the model\n",
    "    \"\"\"\n",
    "    \n",
    "    accuracy = 0\n",
    "    \n",
    "    # Training and Testing\n",
    "    for inputFeatures in testingArray :\n",
    "        prediction = kNN(inputFeatures = inputFeatures[1:31], k = k, predictors = trainingArray)\n",
    "        if prediction != -1 : # Ties are considered as a missed prediction here \n",
    "            if prediction == inputFeatures[31] :\n",
    "                accuracy += 1\n",
    "    accuracy = accuracy / len(testingArray)\n",
    "    \n",
    "    return accuracy"
   ]
  },
  {
   "cell_type": "code",
   "execution_count": 394,
   "metadata": {},
   "outputs": [
    {
     "name": "stdout",
     "output_type": "stream",
     "text": [
      "Accuracy on full training data = 0.975448168355417\n"
     ]
    }
   ],
   "source": [
    "# Computing accuracy on full training data \n",
    "accuracyTraining = accuracyKNN(testingArray = dataArray, k = bestK)\n",
    "print('Accuracy on full training data = ' + str(accuracyTraining))"
   ]
  },
  {
   "cell_type": "code",
   "execution_count": 389,
   "metadata": {},
   "outputs": [
    {
     "data": {
      "text/html": [
       "<div>\n",
       "<style scoped>\n",
       "    .dataframe tbody tr th:only-of-type {\n",
       "        vertical-align: middle;\n",
       "    }\n",
       "\n",
       "    .dataframe tbody tr th {\n",
       "        vertical-align: top;\n",
       "    }\n",
       "\n",
       "    .dataframe thead th {\n",
       "        text-align: right;\n",
       "    }\n",
       "</style>\n",
       "<table border=\"1\" class=\"dataframe\">\n",
       "  <thead>\n",
       "    <tr style=\"text-align: right;\">\n",
       "      <th></th>\n",
       "      <th>Unnamed: 0</th>\n",
       "      <th>n1_radius</th>\n",
       "      <th>n1_texture</th>\n",
       "      <th>n1_perimeter</th>\n",
       "      <th>n1_area</th>\n",
       "      <th>n1_smoothness</th>\n",
       "      <th>n1_compactness</th>\n",
       "      <th>n1_concavity</th>\n",
       "      <th>n1_concave_points</th>\n",
       "      <th>n1_symmetry</th>\n",
       "      <th>...</th>\n",
       "      <th>n3_texture</th>\n",
       "      <th>n3_perimeter</th>\n",
       "      <th>n3_area</th>\n",
       "      <th>n3_smoothness</th>\n",
       "      <th>n3_compactness</th>\n",
       "      <th>n3_concavity</th>\n",
       "      <th>n3_concave_points</th>\n",
       "      <th>n3_symmetry</th>\n",
       "      <th>n3_fractal_dimension</th>\n",
       "      <th>DIAGNOSIS</th>\n",
       "    </tr>\n",
       "  </thead>\n",
       "  <tbody>\n",
       "    <tr>\n",
       "      <th>0</th>\n",
       "      <td>0</td>\n",
       "      <td>13.40</td>\n",
       "      <td>20.52</td>\n",
       "      <td>88.64</td>\n",
       "      <td>556.7</td>\n",
       "      <td>0.11060</td>\n",
       "      <td>0.14690</td>\n",
       "      <td>0.14450</td>\n",
       "      <td>0.08172</td>\n",
       "      <td>0.2116</td>\n",
       "      <td>...</td>\n",
       "      <td>29.66</td>\n",
       "      <td>113.30</td>\n",
       "      <td>844.4</td>\n",
       "      <td>0.15740</td>\n",
       "      <td>0.38560</td>\n",
       "      <td>0.51060</td>\n",
       "      <td>0.20510</td>\n",
       "      <td>0.3585</td>\n",
       "      <td>0.11090</td>\n",
       "      <td>M</td>\n",
       "    </tr>\n",
       "    <tr>\n",
       "      <th>1</th>\n",
       "      <td>1</td>\n",
       "      <td>13.21</td>\n",
       "      <td>25.25</td>\n",
       "      <td>84.10</td>\n",
       "      <td>537.9</td>\n",
       "      <td>0.08791</td>\n",
       "      <td>0.05205</td>\n",
       "      <td>0.02772</td>\n",
       "      <td>0.02068</td>\n",
       "      <td>0.1619</td>\n",
       "      <td>...</td>\n",
       "      <td>34.23</td>\n",
       "      <td>91.29</td>\n",
       "      <td>632.9</td>\n",
       "      <td>0.12890</td>\n",
       "      <td>0.10630</td>\n",
       "      <td>0.13900</td>\n",
       "      <td>0.06005</td>\n",
       "      <td>0.2444</td>\n",
       "      <td>0.06788</td>\n",
       "      <td>B</td>\n",
       "    </tr>\n",
       "    <tr>\n",
       "      <th>2</th>\n",
       "      <td>2</td>\n",
       "      <td>14.02</td>\n",
       "      <td>15.66</td>\n",
       "      <td>89.59</td>\n",
       "      <td>606.5</td>\n",
       "      <td>0.07966</td>\n",
       "      <td>0.05581</td>\n",
       "      <td>0.02087</td>\n",
       "      <td>0.02652</td>\n",
       "      <td>0.1589</td>\n",
       "      <td>...</td>\n",
       "      <td>19.31</td>\n",
       "      <td>96.53</td>\n",
       "      <td>688.9</td>\n",
       "      <td>0.10340</td>\n",
       "      <td>0.10170</td>\n",
       "      <td>0.06260</td>\n",
       "      <td>0.08216</td>\n",
       "      <td>0.2136</td>\n",
       "      <td>0.06710</td>\n",
       "      <td>B</td>\n",
       "    </tr>\n",
       "    <tr>\n",
       "      <th>3</th>\n",
       "      <td>3</td>\n",
       "      <td>14.26</td>\n",
       "      <td>18.17</td>\n",
       "      <td>91.22</td>\n",
       "      <td>633.1</td>\n",
       "      <td>0.06576</td>\n",
       "      <td>0.05220</td>\n",
       "      <td>0.02475</td>\n",
       "      <td>0.01374</td>\n",
       "      <td>0.1635</td>\n",
       "      <td>...</td>\n",
       "      <td>25.26</td>\n",
       "      <td>105.80</td>\n",
       "      <td>819.7</td>\n",
       "      <td>0.09445</td>\n",
       "      <td>0.21670</td>\n",
       "      <td>0.15650</td>\n",
       "      <td>0.07530</td>\n",
       "      <td>0.2636</td>\n",
       "      <td>0.07676</td>\n",
       "      <td>B</td>\n",
       "    </tr>\n",
       "    <tr>\n",
       "      <th>4</th>\n",
       "      <td>4</td>\n",
       "      <td>13.03</td>\n",
       "      <td>18.42</td>\n",
       "      <td>82.61</td>\n",
       "      <td>523.8</td>\n",
       "      <td>0.08983</td>\n",
       "      <td>0.03766</td>\n",
       "      <td>0.02562</td>\n",
       "      <td>0.02923</td>\n",
       "      <td>0.1467</td>\n",
       "      <td>...</td>\n",
       "      <td>22.81</td>\n",
       "      <td>84.46</td>\n",
       "      <td>545.9</td>\n",
       "      <td>0.09701</td>\n",
       "      <td>0.04619</td>\n",
       "      <td>0.04833</td>\n",
       "      <td>0.05013</td>\n",
       "      <td>0.1987</td>\n",
       "      <td>0.06169</td>\n",
       "      <td>B</td>\n",
       "    </tr>\n",
       "  </tbody>\n",
       "</table>\n",
       "<p>5 rows × 32 columns</p>\n",
       "</div>"
      ],
      "text/plain": [
       "   Unnamed: 0  n1_radius  n1_texture  n1_perimeter  n1_area  n1_smoothness  \\\n",
       "0           0      13.40       20.52         88.64    556.7        0.11060   \n",
       "1           1      13.21       25.25         84.10    537.9        0.08791   \n",
       "2           2      14.02       15.66         89.59    606.5        0.07966   \n",
       "3           3      14.26       18.17         91.22    633.1        0.06576   \n",
       "4           4      13.03       18.42         82.61    523.8        0.08983   \n",
       "\n",
       "   n1_compactness  n1_concavity  n1_concave_points  n1_symmetry  ...  \\\n",
       "0         0.14690       0.14450            0.08172       0.2116  ...   \n",
       "1         0.05205       0.02772            0.02068       0.1619  ...   \n",
       "2         0.05581       0.02087            0.02652       0.1589  ...   \n",
       "3         0.05220       0.02475            0.01374       0.1635  ...   \n",
       "4         0.03766       0.02562            0.02923       0.1467  ...   \n",
       "\n",
       "   n3_texture  n3_perimeter  n3_area  n3_smoothness  n3_compactness  \\\n",
       "0       29.66        113.30    844.4        0.15740         0.38560   \n",
       "1       34.23         91.29    632.9        0.12890         0.10630   \n",
       "2       19.31         96.53    688.9        0.10340         0.10170   \n",
       "3       25.26        105.80    819.7        0.09445         0.21670   \n",
       "4       22.81         84.46    545.9        0.09701         0.04619   \n",
       "\n",
       "   n3_concavity  n3_concave_points  n3_symmetry  n3_fractal_dimension  \\\n",
       "0       0.51060            0.20510       0.3585               0.11090   \n",
       "1       0.13900            0.06005       0.2444               0.06788   \n",
       "2       0.06260            0.08216       0.2136               0.06710   \n",
       "3       0.15650            0.07530       0.2636               0.07676   \n",
       "4       0.04833            0.05013       0.1987               0.06169   \n",
       "\n",
       "   DIAGNOSIS  \n",
       "0          M  \n",
       "1          B  \n",
       "2          B  \n",
       "3          B  \n",
       "4          B  \n",
       "\n",
       "[5 rows x 32 columns]"
      ]
     },
     "execution_count": 389,
     "metadata": {},
     "output_type": "execute_result"
    }
   ],
   "source": [
    "# Load testing tumour data into a pandas dataframe \n",
    "df_tumour_test = pd.read_csv(\"tumour_test.csv\")\n",
    "# Displaying the first five rows\n",
    "df_tumour_test.head()"
   ]
  },
  {
   "cell_type": "code",
   "execution_count": 390,
   "metadata": {},
   "outputs": [
    {
     "name": "stdout",
     "output_type": "stream",
     "text": [
      "Number of samples : 200\n"
     ]
    }
   ],
   "source": [
    "# Finding number of samples\n",
    "nb_samples = df_tumour_test['n1_radius'].count()\n",
    "print('Number of samples : ' + str(nb_samples))"
   ]
  },
  {
   "cell_type": "code",
   "execution_count": 391,
   "metadata": {},
   "outputs": [],
   "source": [
    "# Converting our dataframe to a numpy array\n",
    "testingDataArray = df_tumour_test.to_numpy()\n",
    "# Standardization\n",
    "testingDataArray[:,1:31] = (testingDataArray[:,1:31] - \\\n",
    "                            np.mean(testingDataArray[:,1:31])) / np.std(testingDataArray[:,1:31])"
   ]
  },
  {
   "cell_type": "code",
   "execution_count": 396,
   "metadata": {},
   "outputs": [
    {
     "name": "stdout",
     "output_type": "stream",
     "text": [
      "Accuracy on unseen testing data = 0.875\n"
     ]
    }
   ],
   "source": [
    "# Computing accuracy on unseen testing data \n",
    "accuracyTesting = accuracyKNN(testingArray = testingDataArray, k = bestK)\n",
    "print('Accuracy on unseen testing data = ' + str(accuracyTesting))"
   ]
  },
  {
   "cell_type": "markdown",
   "metadata": {},
   "source": [
    "We observe that the accuracy computed on the testing set is rather smaller than the one computed on the training set. Unsurprisingly, the model's attempts to predict unseen data are less likely to be valid, however the accuracy remains high (87%), specially considering the small amount of data available in the testing file (200 samples), on which said score has been computed."
   ]
  },
  {
   "cell_type": "markdown",
   "metadata": {
    "id": "rCPlajQOy1ER"
   },
   "source": [
    "<a name=\"q22\"></a>\n",
    "\n",
    "## 2.2 Random forest [^](#outline)\n",
    "\n",
    "We use a random forest method to perform a classification task on the same data set of tumour samples. Namely, we build decision trees that succesively split the input variable space by minimizing the $\\textit{cross-entropy}$ function, further partionning said space. We then use a majority rule to obtain a probability vector describing the chances a given input has from belonging to a specific class.\n",
    "\n",
    "We randomly sample our training set and generate $B$ decision trees, which outcomes are aggregated to produce our prediction. Moreover, the splits building our decision trees are made minimizing cross-entropy over a random sample of possible predictors to be chosen for the operation (feature bagging).\n",
    "\n",
    "In the following, we build several helper functions to perform this task.\n",
    "\n",
    "### 2.2.1 Training \n",
    "\n",
    "We use the same 5-fold cross-validation process to fix the number of trees and tree-depth hyperparameters. We use accuracy to measure the performance of the model.\n",
    "\n",
    "As the implementation becomes more complex, we now heavily $\\textbf{rely on the weekly coding tasks solutions}$, and further $\\textbf{modify them to suit our current problem}$. "
   ]
  },
  {
   "cell_type": "code",
   "execution_count": 481,
   "metadata": {},
   "outputs": [],
   "source": [
    "# In the weekly Coding Task solution functions, you may find my custom comments in the form of ### _____ ###\n",
    "\n",
    "# CT solution introduce the possibility of setting non uniform sample weights\n",
    "# We won't consider this case here\n",
    "uniform_weights = np.ones(dataArray.shape[0]) / dataArray.shape[0]"
   ]
  },
  {
   "cell_type": "code",
   "execution_count": 491,
   "metadata": {},
   "outputs": [],
   "source": [
    "## MODIFYING CT6 SOLUTIONS ## \n",
    "\n",
    "### Gini-index modified to cross-entropy ###\n",
    "def cross_entropy(y, sample_weights = uniform_weights):\n",
    "  \"\"\" \n",
    "  Calculate the cross-entropy for labels.\n",
    "  Arguments:\n",
    "      y: vector of training labels, of shape (N,).\n",
    "      sample_weights: weights for each samples, of shape (N,).\n",
    "  Returns:\n",
    "      (float): the cross-entropy for y.\n",
    "  \"\"\"\n",
    "\n",
    "  ### Weights are uniform here ### \n",
    "\n",
    "  # count different labels in y，and store in label_weights\n",
    "  # initialize with zero for each distinct label.\n",
    "  label_weights = {yi: 0 for yi in set(y)}  \n",
    "  for yi, wi in zip(y, sample_weights):\n",
    "      label_weights[yi] += wi\n",
    "\n",
    "  total_weight = sum(label_weights.values())\n",
    "\n",
    "  ### We now use the cross-entropy formula ### \n",
    "  CE = 0 \n",
    "  for label, weight in label_weights.items():\n",
    "      probability = (weight / total_weight)\n",
    "      CE += probability * np.log(probability)\n",
    "\n",
    "  return -CE"
   ]
  },
  {
   "cell_type": "code",
   "execution_count": 490,
   "metadata": {},
   "outputs": [
    {
     "name": "stdout",
     "output_type": "stream",
     "text": [
      "CE =  0.4482540468603776\n"
     ]
    }
   ],
   "source": [
    "# Trying cross-entropy over the entire data set\n",
    "print('CE = ', cross_entropy(y = dataArray[:,31]))"
   ]
  },
  {
   "cell_type": "code",
   "execution_count": 492,
   "metadata": {},
   "outputs": [],
   "source": [
    "## NOT MODIFYING THIS CT6 SOLUTION FUNCTION ## \n",
    "\n",
    "def split_samples(X, y, sample_weights, column, value, categorical):\n",
    "  \"\"\"\n",
    "  Return the split of data whose column-th feature:\n",
    "    1. equals value, in case `column` is categorical, or\n",
    "    2. less than value, in case `column` is not categorical (i.e. numerical)\n",
    "\n",
    "  Arguments:\n",
    "      X: training features, of shape (N, D).\n",
    "      y: vector of training labels, of shape (N,).\n",
    "      sample_weights: weights for each samples, of shape (N,).\n",
    "      column: the column of the feature for splitting.\n",
    "      value: splitting threshold  the samples \n",
    "      categorical: boolean value indicating whether column is a categorical variable or numerical.\n",
    "  Returns:\n",
    "      tuple(np.array, np.array): tuple of subsets of X splitted based on column-th value.\n",
    "      tuple(np.array, np.array): tuple of subsets of y splitted based on column-th value.\n",
    "      tuple(np.array, np.array): tuple of subsets of sample weights based on column-th value.\n",
    "  \"\"\" \n",
    "\n",
    "  if categorical:\n",
    "    left_mask =(X[:, column] == value)\n",
    "  else:\n",
    "    left_mask = (X[:, column] < value)\n",
    "  \n",
    "  X_left, X_right = X[left_mask, :], X[~left_mask, :]\n",
    "  y_left, y_right = y[left_mask], y[~left_mask]\n",
    "  w_left, w_right  = sample_weights[left_mask], sample_weights[~left_mask]\n",
    "\n",
    "  return (X_left, X_right), (y_left, y_right), (w_left, w_right)"
   ]
  },
  {
   "cell_type": "code",
   "execution_count": 493,
   "metadata": {},
   "outputs": [],
   "source": [
    "## MODIFYING CT6 SOLUTIONS ## \n",
    "### Now using cross-entropy ###\n",
    "\n",
    "def CE_split_value(X, y, sample_weights, column, categorical):\n",
    "  \"\"\"\n",
    "  Calculate the cross-entropy based on `column` with the split that minimizes the cross-entropy.\n",
    "  Arguments:\n",
    "      X: training features, of shape (N, D).\n",
    "      y: vector of training labels, of shape (N,).\n",
    "      sample_weights: weights for each samples, of shape (N,).\n",
    "      column: the column of the feature for calculating. 0 <= column < D\n",
    "      categorical: boolean value indicating whether column is a categorical variable or numerical.\n",
    "  Returns:\n",
    "      (float, float): the resulted cross-entropy and the corresponding value used in splitting.\n",
    "  \"\"\"\n",
    "  \n",
    "  unique_vals = np.unique(X[:, column])\n",
    "\n",
    "  assert len(unique_vals) > 1, f\"There must be more than one distinct feature value. Given: {unique_vals}.\"\n",
    "\n",
    "  CE_val, threshold = np.inf, None\n",
    "  \n",
    "  # split the values of i-th feature and calculate the cost \n",
    "  for value in unique_vals:\n",
    "    (X_l, X_r), (y_l, y_r), (w_l, w_r) = split_samples(X, y, sample_weights, column, value, categorical) \n",
    "\n",
    "    # if one of the two sides is empty, skip this split.\n",
    "    if len(y_l) == 0 or len(y_r) == 0:\n",
    "      continue\n",
    "    \n",
    "    ### Now using cross-entropy ###\n",
    "    p_left = sum(w_l)/(sum(w_l) + sum(w_r))\n",
    "    p_right = 1 - p_left\n",
    "    new_cost = p_left * cross_entropy(y_l, w_l) + p_right * cross_entropy(y_r, w_r)\n",
    "    \n",
    "    if new_cost < CE_val:\n",
    "      CE_val, threshold = new_cost, value\n",
    "    \n",
    "  return CE_val, threshold"
   ]
  },
  {
   "cell_type": "code",
   "execution_count": 494,
   "metadata": {},
   "outputs": [
    {
     "data": {
      "text/plain": [
       "(0.3461197233140173, -0.27976282172399447)"
      ]
     },
     "execution_count": 494,
     "metadata": {},
     "output_type": "execute_result"
    }
   ],
   "source": [
    "# Trying out a split on x_5\n",
    "CE_split_value(X = dataArray[:,1:31], y = dataArray[:,31], sample_weights = uniform_weights, \\\n",
    "               column = 5, categorical = False)"
   ]
  },
  {
   "cell_type": "code",
   "execution_count": 495,
   "metadata": {},
   "outputs": [],
   "source": [
    "## NOT MODIFYING THIS CT6 SOLUTION FUNCTION ## \n",
    "\n",
    "def CE_split(X, y, sample_weights, columns_dict):\n",
    "  \"\"\"\n",
    "  Choose the best feature to split according to criterion.\n",
    "  Args:\n",
    "      X: training features, of shape (N, D).\n",
    "      y: vector of training labels, of shape (N,).\n",
    "      sample_weights: weights for each samples, of shape (N,).\n",
    "      columns_dict: a dictionary mapping column indices to whether the column is categorical or numerical variable.\n",
    "  Returns:\n",
    "      (int, float): the best feature index and value used in splitting. \n",
    "      If the feature index is None, then no valid split for the current Node.\n",
    "  \"\"\"\n",
    "\n",
    "  \n",
    "  min_CE, split_column, split_val = np.inf, None, 0\n",
    "  for column, categorical in columns_dict.items():\n",
    "      # skip column if samples are not seperable by that column.\n",
    "      if len(np.unique(X[:, column])) < 2:\n",
    "        continue\n",
    "      CE, val = CE_split_value(X, y, sample_weights, column, categorical)      \n",
    "      if CE < min_CE:\n",
    "          min_CE, split_column, split_val = CE, column, val\n",
    "\n",
    "  return split_column, split_val"
   ]
  },
  {
   "cell_type": "code",
   "execution_count": 497,
   "metadata": {},
   "outputs": [],
   "source": [
    "## NOT MODIFYING THIS CT6 SOLUTION FUNCTION ## \n",
    "\n",
    "def CE_split_rf(n_features, X, y, sample_weights, columns_dict):\n",
    "  \"\"\"\n",
    "  Choose the best feature to split according to criterion.\n",
    "  Args:\n",
    "      n_features: number of sampled features.\n",
    "      X: training features, of shape (N, D).\n",
    "      y: vector of training labels, of shape (N,).\n",
    "      sample_weights: weights for each samples, of shape (N,).\n",
    "      columns_dict: a dictionary mapping column indices to whether the column is categorical or numerical variable.\n",
    "  Returns:\n",
    "      (float, int, float): the minimized cross-entropy, the best feature index and value used in splitting.\n",
    "  \"\"\"\n",
    "  columns = np.random.choice(list(columns_dict.keys()), n_features, replace=False)\n",
    "  columns_dict = {c: columns_dict[c] for c in columns}\n",
    "\n",
    "  min_CE, split_column, split_val = np.inf, 0, 0\n",
    "  for column, categorical in columns_dict.items():\n",
    "    # skip column if samples are not seperable by that column.\n",
    "    if len(np.unique(X[:, column])) < 2:\n",
    "      continue\n",
    "\n",
    "    # search for the best splitting value for the given column.\n",
    "    CE, val = CE_split_value(X, y, sample_weights, column, categorical)      \n",
    "    if CE < min_CE:\n",
    "        min_CE, split_column, split_val = CE, column, val\n",
    "\n",
    "  return min_CE, split_column, split_val"
   ]
  },
  {
   "cell_type": "code",
   "execution_count": 499,
   "metadata": {},
   "outputs": [
    {
     "name": "stdout",
     "output_type": "stream",
     "text": [
      "Predictor index to perform the split on =  22\n",
      "Threshold =  0.3614633428241891\n"
     ]
    }
   ],
   "source": [
    "# All predictors are continuous in our case \n",
    "columns_dict = {index: False for index in range(dataArray[:,1:31].shape[1])}\n",
    "\n",
    "# Trying the split - Which descriptor is best to perform the split on, what is the threshold ?\n",
    "split_column, split_val = CE_split(X = dataArray[:,1:31], \\\n",
    "                                   y = dataArray[:,31], sample_weights = uniform_weights,\\\n",
    "                                   columns_dict = columns_dict)\n",
    "\n",
    "print('Predictor index to perform the split on = ',split_column)\n",
    "print('Threshold = ',split_val)"
   ]
  },
  {
   "cell_type": "code",
   "execution_count": 500,
   "metadata": {},
   "outputs": [
    {
     "name": "stdout",
     "output_type": "stream",
     "text": [
      "Predictor index to perform the split on =  3\n",
      "Threshold =  3.5793188329304426\n"
     ]
    }
   ],
   "source": [
    "# Which descriptor is best if we try splits on a random set of descriptors ?\n",
    "# What is the corresonding threshold ?\n",
    "_ , split_column, split_val = CE_split_rf(n_features = 10, X = dataArray[:,1:31], \\\n",
    "                                   y = dataArray[:,31], sample_weights = uniform_weights,\\\n",
    "                                   columns_dict = columns_dict)\n",
    "print('Predictor index to perform the split on = ',split_column)\n",
    "print('Threshold = ',split_val)"
   ]
  },
  {
   "cell_type": "code",
   "execution_count": 501,
   "metadata": {},
   "outputs": [],
   "source": [
    "## NOT MODIFYING THIS CT6 SOLUTION FUNCTION ## \n",
    "\n",
    "def majority_vote(y, sample_weights):\n",
    "  \"\"\"\n",
    "  Return the label which appears the most in y.\n",
    "  Args:\n",
    "      y: vector of training labels, of shape (N,).\n",
    "      sample_weights: weights for each samples, of shape (N,).\n",
    "  Returns:\n",
    "      (int): the majority label\n",
    "  \"\"\"\n",
    "  majority_label = {yi: 0 for yi in set(y)}\n",
    "\n",
    "  for yi, wi in zip(y, sample_weights):\n",
    "    majority_label[yi] += wi\n",
    "  return max(majority_label, key=majority_label.get)"
   ]
  },
  {
   "cell_type": "code",
   "execution_count": 528,
   "metadata": {},
   "outputs": [],
   "source": [
    "## SLIGHTLY MODIFYING THIS CT6 SOLUTION FUNCTION ## \n",
    "### Dropping feature name ###\n",
    "\n",
    "\n",
    "def build_tree_rf(n_features, X, y, sample_weights, \\\n",
    "                  columns_dict, depth,  max_depth=10, min_samples_leaf=2):\n",
    "  \"\"\"Build the decision tree according to the data.\n",
    "  Args:\n",
    "      X: (np.array) training features, of shape (N, D).\n",
    "      y: (np.array) vector of training labels, of shape (N,).\n",
    "      sample_weights: weights for each samples, of shape (N,).\n",
    "      columns_dict: a dictionary mapping column indices to whether the column is categorical or numerical variable.\n",
    "      feature_names (list): record the name of features in X in the original dataset.\n",
    "      depth (int): current depth for this node.\n",
    "  Returns:\n",
    "      (dict): a dict denoting the decision tree (binary-tree). Each node has seven attributes:\n",
    "        1. 'feature_name': The column name of the split.\n",
    "        2. 'feature_index': The column index of the split.\n",
    "        3. 'value': The value used for the split.\n",
    "        4. 'categorical': indicator for categorical/numerical variables.\n",
    "        5. 'majority_label': For leaf nodes, this stores the dominant label. Otherwise, it is None.\n",
    "        6. 'left': The left sub-tree with the same structure.\n",
    "        7. 'right' The right sub-tree with the same structure.\n",
    "      Example:\n",
    "          mytree = {\n",
    "              'feature_index': 2,\n",
    "              'value': 3.0,\n",
    "              'categorical': False,\n",
    "              'majority_label': None,\n",
    "              'left': {\n",
    "                  'feature_name': str,\n",
    "                  'feature_index': int,\n",
    "                  'value': float,\n",
    "                  'categorical': bool,\n",
    "                  'majority_label': None,\n",
    "                  'left': {..etc.},\n",
    "                  'right': {..etc.}\n",
    "              }\n",
    "              'right': {\n",
    "                  'feature_name': str,\n",
    "                  'feature_index': int,\n",
    "                  'value': float,\n",
    "                  'categorical': bool,\n",
    "                  'majority_label': None,\n",
    "                  'left': {..etc.},\n",
    "                  'right': {..etc.}\n",
    "              }\n",
    "          }\n",
    "  \"\"\"\n",
    "  # include a clause for the cases where (i) all lables are the same, (ii) depth exceed (iii) X is too small\n",
    "  if len(np.unique(y)) == 1 or depth>=max_depth or len(X)<=min_samples_leaf: \n",
    "      return {'majority_label': majority_vote(y, sample_weights)}\n",
    "  \n",
    "  else:\n",
    "    CE, split_index, split_val = CE_split_rf(n_features, X, y, sample_weights, columns_dict)\n",
    "    \n",
    "    # If CE is infinity, it means that samples are not seperable by the sampled features.\n",
    "    if CE == np.inf:\n",
    "      return {'majority_label': majority_vote(y, sample_weights)}\n",
    "    categorical = columns_dict[split_index]\n",
    "    (X_l, X_r), (y_l, y_r), (w_l, w_r) = split_samples(X, y, sample_weights, split_index, split_val, categorical)\n",
    "    return {\n",
    "        'feature_index': split_index, ### Dropping feature name ###\n",
    "        'value': split_val,\n",
    "        'categorical': categorical,\n",
    "        'majority_label': None,\n",
    "        'left': build_tree_rf(n_features, X_l, y_l, w_l, columns_dict, depth + 1, max_depth, min_samples_leaf),\n",
    "        'right': build_tree_rf(n_features, X_r, y_r, w_r, columns_dict, depth + 1, max_depth, min_samples_leaf)\n",
    "    }"
   ]
  },
  {
   "cell_type": "code",
   "execution_count": 551,
   "metadata": {},
   "outputs": [
    {
     "data": {
      "text/plain": [
       "{'feature_index': 27,\n",
       " 'value': -0.279510198052512,\n",
       " 'categorical': False,\n",
       " 'majority_label': None,\n",
       " 'left': {'feature_index': 13,\n",
       "  'value': -0.09145766210249551,\n",
       "  'categorical': False,\n",
       "  'majority_label': None,\n",
       "  'left': {'feature_index': 0,\n",
       "   'value': -0.19479106778623373,\n",
       "   'categorical': False,\n",
       "   'majority_label': None,\n",
       "   'left': {'feature_index': 22,\n",
       "    'value': 0.29935126648984833,\n",
       "    'categorical': False,\n",
       "    'majority_label': None,\n",
       "    'left': {'feature_index': 18,\n",
       "     'value': -0.28024820848257287,\n",
       "     'categorical': False,\n",
       "     'majority_label': None,\n",
       "     'left': {'feature_index': 7,\n",
       "      'value': -0.28002689373704853,\n",
       "      'categorical': False,\n",
       "      'majority_label': None,\n",
       "      'left': {'feature_index': 23,\n",
       "       'value': 3.952424768602475,\n",
       "       'categorical': False,\n",
       "       'majority_label': None,\n",
       "       'left': {'majority_label': 'B'},\n",
       "       'right': {'feature_index': 3,\n",
       "        'value': 2.6409421582238193,\n",
       "        'categorical': False,\n",
       "        'majority_label': None,\n",
       "        'left': {'majority_label': 'M'},\n",
       "        'right': {'majority_label': 'B'}}},\n",
       "      'right': {'feature_index': 11,\n",
       "       'value': -0.2725854247192171,\n",
       "       'categorical': False,\n",
       "       'majority_label': None,\n",
       "       'left': {'majority_label': 'B'},\n",
       "       'right': {'majority_label': 'M'}}},\n",
       "     'right': {'majority_label': 'B'}},\n",
       "    'right': {'feature_index': 13,\n",
       "     'value': -0.2017146562736729,\n",
       "     'categorical': False,\n",
       "     'majority_label': None,\n",
       "     'left': {'feature_index': 0,\n",
       "      'value': -0.19669715033645002,\n",
       "      'categorical': False,\n",
       "      'majority_label': None,\n",
       "      'left': {'majority_label': 'M'},\n",
       "      'right': {'majority_label': 'B'}},\n",
       "     'right': {'feature_index': 24,\n",
       "      'value': -0.27953098356990114,\n",
       "      'categorical': False,\n",
       "      'majority_label': None,\n",
       "      'left': {'feature_index': 23,\n",
       "       'value': 3.884391185654139,\n",
       "       'categorical': False,\n",
       "       'majority_label': None,\n",
       "       'left': {'feature_index': 18,\n",
       "        'value': -0.2802433942210704,\n",
       "        'categorical': False,\n",
       "        'majority_label': None,\n",
       "        'left': {'feature_index': 10,\n",
       "         'value': -0.2787335082705997,\n",
       "         'categorical': False,\n",
       "         'majority_label': None,\n",
       "         'left': {'majority_label': 'B'},\n",
       "         'right': {'majority_label': 'M'}},\n",
       "        'right': {'majority_label': 'B'}},\n",
       "       'right': {'majority_label': 'B'}},\n",
       "      'right': {'feature_index': 11,\n",
       "       'value': -0.27643936528492047,\n",
       "       'categorical': False,\n",
       "       'majority_label': None,\n",
       "       'left': {'majority_label': 'B'},\n",
       "       'right': {'majority_label': 'M'}}}}},\n",
       "   'right': {'feature_index': 22,\n",
       "    'value': 0.38844595008236826,\n",
       "    'categorical': False,\n",
       "    'majority_label': None,\n",
       "    'left': {'feature_index': 14,\n",
       "     'value': -0.28030486338962013,\n",
       "     'categorical': False,\n",
       "     'majority_label': None,\n",
       "     'left': {'majority_label': 'M'},\n",
       "     'right': {'feature_index': 29,\n",
       "      'value': -0.279979167334013,\n",
       "      'categorical': False,\n",
       "      'majority_label': None,\n",
       "      'left': {'majority_label': 'M'},\n",
       "      'right': {'majority_label': 'B'}}},\n",
       "    'right': {'majority_label': 'M'}}},\n",
       "  'right': {'feature_index': 0,\n",
       "   'value': -0.1973277467004694,\n",
       "   'categorical': False,\n",
       "   'majority_label': None,\n",
       "   'left': {'feature_index': 22,\n",
       "    'value': 0.22941163415997476,\n",
       "    'categorical': False,\n",
       "    'majority_label': None,\n",
       "    'left': {'feature_index': 15,\n",
       "     'value': -0.28027569142599895,\n",
       "     'categorical': False,\n",
       "     'majority_label': None,\n",
       "     'left': {'feature_index': 18,\n",
       "      'value': -0.2801958708273001,\n",
       "      'categorical': False,\n",
       "      'majority_label': None,\n",
       "      'left': {'majority_label': 'M'},\n",
       "      'right': {'majority_label': 'B'}},\n",
       "     'right': {'majority_label': 'B'}},\n",
       "    'right': {'feature_index': 23,\n",
       "     'value': 4.544754285264567,\n",
       "     'categorical': False,\n",
       "     'majority_label': None,\n",
       "     'left': {'feature_index': 1,\n",
       "      'value': -0.18386868078655869,\n",
       "      'categorical': False,\n",
       "      'majority_label': None,\n",
       "      'left': {'majority_label': 'B'},\n",
       "      'right': {'feature_index': 27,\n",
       "       'value': -0.27968600935746823,\n",
       "       'categorical': False,\n",
       "       'majority_label': None,\n",
       "       'left': {'feature_index': 23,\n",
       "        'value': 3.1879050912598093,\n",
       "        'categorical': False,\n",
       "        'majority_label': None,\n",
       "        'left': {'majority_label': 'M'},\n",
       "        'right': {'feature_index': 27,\n",
       "         'value': -0.27971937410505704,\n",
       "         'categorical': False,\n",
       "         'majority_label': None,\n",
       "         'left': {'majority_label': 'B'},\n",
       "         'right': {'majority_label': 'B'}}},\n",
       "       'right': {'feature_index': 18,\n",
       "        'value': -0.2800983138116844,\n",
       "        'categorical': False,\n",
       "        'majority_label': None,\n",
       "        'left': {'majority_label': 'M'},\n",
       "        'right': {'majority_label': 'B'}}}},\n",
       "     'right': {'majority_label': 'M'}}},\n",
       "   'right': {'feature_index': 4,\n",
       "    'value': -0.2798735903276164,\n",
       "    'categorical': False,\n",
       "    'majority_label': None,\n",
       "    'left': {'feature_index': 10,\n",
       "     'value': -0.2766572325063054,\n",
       "     'categorical': False,\n",
       "     'majority_label': None,\n",
       "     'left': {'feature_index': 6,\n",
       "      'value': -0.2801047519905265,\n",
       "      'categorical': False,\n",
       "      'majority_label': None,\n",
       "      'left': {'majority_label': 'M'},\n",
       "      'right': {'majority_label': 'B'}},\n",
       "     'right': {'majority_label': 'M'}},\n",
       "    'right': {'feature_index': 21,\n",
       "     'value': -0.15926894260545973,\n",
       "     'categorical': False,\n",
       "     'majority_label': None,\n",
       "     'left': {'feature_index': 22,\n",
       "      'value': 0.4298025319344636,\n",
       "      'categorical': False,\n",
       "      'majority_label': None,\n",
       "      'left': {'majority_label': 'B'},\n",
       "      'right': {'majority_label': 'M'}},\n",
       "     'right': {'majority_label': 'M'}}}}},\n",
       " 'right': {'feature_index': 23,\n",
       "  'value': 4.695437885610253,\n",
       "  'categorical': False,\n",
       "  'majority_label': None,\n",
       "  'left': {'feature_index': 27,\n",
       "   'value': -0.27936923469834535,\n",
       "   'categorical': False,\n",
       "   'majority_label': None,\n",
       "   'left': {'feature_index': 21,\n",
       "    'value': -0.1367202830911969,\n",
       "    'categorical': False,\n",
       "    'majority_label': None,\n",
       "    'left': {'feature_index': 3,\n",
       "     'value': 3.333864762869319,\n",
       "     'categorical': False,\n",
       "     'majority_label': None,\n",
       "     'left': {'majority_label': 'B'},\n",
       "     'right': {'feature_index': 25,\n",
       "      'value': -0.27830759234390734,\n",
       "      'categorical': False,\n",
       "      'majority_label': None,\n",
       "      'left': {'feature_index': 23,\n",
       "       'value': 4.122261250563205,\n",
       "       'categorical': False,\n",
       "       'majority_label': None,\n",
       "       'left': {'majority_label': 'M'},\n",
       "       'right': {'majority_label': 'B'}},\n",
       "      'right': {'majority_label': 'M'}}},\n",
       "    'right': {'feature_index': 1,\n",
       "     'value': -0.162389752327464,\n",
       "     'categorical': False,\n",
       "     'majority_label': None,\n",
       "     'left': {'feature_index': 28,\n",
       "      'value': -0.27843506020541026,\n",
       "      'categorical': False,\n",
       "      'majority_label': None,\n",
       "      'left': {'majority_label': 'B'},\n",
       "      'right': {'majority_label': 'M'}},\n",
       "     'right': {'majority_label': 'M'}}},\n",
       "   'right': {'feature_index': 20,\n",
       "    'value': -0.22204573586689047,\n",
       "    'categorical': False,\n",
       "    'majority_label': None,\n",
       "    'left': {'majority_label': 'B'},\n",
       "    'right': {'feature_index': 22,\n",
       "     'value': 0.2447697471814464,\n",
       "     'categorical': False,\n",
       "     'majority_label': None,\n",
       "     'left': {'feature_index': 14,\n",
       "      'value': -0.280284506860173,\n",
       "      'categorical': False,\n",
       "      'majority_label': None,\n",
       "      'left': {'majority_label': 'M'},\n",
       "      'right': {'majority_label': 'B'}},\n",
       "     'right': {'majority_label': 'M'}}}},\n",
       "  'right': {'majority_label': 'M'}}}"
      ]
     },
     "execution_count": 551,
     "metadata": {},
     "output_type": "execute_result"
    }
   ],
   "source": [
    "# Trying tree generation\n",
    "tree = build_tree_rf(n_features = 5, X = dataArray[:,1:31], y = dataArray[:,31], sample_weights = uniform_weights,\\\n",
    "                  columns_dict = columns_dict, depth = 1,  max_depth=10, min_samples_leaf=2)\n",
    "tree"
   ]
  },
  {
   "cell_type": "code",
   "execution_count": 573,
   "metadata": {},
   "outputs": [],
   "source": [
    "## MODIFYING CT6 SOLUTIONS ## \n",
    "\n",
    "### Inserting max_depth as an argument for cross-validation ###\n",
    "def train_rf(B, max_depth, n_features, X, y,  columns_dict = columns_dict, sample_weights=None):\n",
    "  \"\"\"\n",
    "  Build the decision tree according to the training data.\n",
    "  Args:\n",
    "      B: number of decision trees.\n",
    "      max_depth: maximum depth of the trees\n",
    "      X: (pd.Dataframe) training features, of shape (N, D). Each X[i] is a training sample.\n",
    "      y: (pd.Series) vector of training labels, of shape (N,). y[i] is the label for X[i], and each y[i] is\n",
    "      an integer in the range 0 <= y[i] <= C. Here C = 1.\n",
    "      columns_dict: a dictionary mapping column indices to whether the column is categorical or numerical variable.\n",
    "      sample_weights: weights for each samples, of shape (N,).\n",
    "  \"\"\"\n",
    "  if sample_weights is None:\n",
    "      # if the sample weights is not provided, we assume the samples have uniform weights\n",
    "      sample_weights = np.ones(X.shape[0]) / X.shape[0]\n",
    "  else:\n",
    "      sample_weights = np.array(sample_weights) / np.sum(sample_weights)\n",
    "\n",
    "  N = X.shape[0]\n",
    "  training_indices = np.arange(N)\n",
    "  trees = []\n",
    "\n",
    "  for _ in range(B):\n",
    "    sample = np.random.choice(training_indices, N, replace=True)\n",
    "    X_sample = X[sample, :]\n",
    "    y_sample = y[sample]\n",
    "    w_sample = sample_weights[sample]\n",
    "    tree = build_tree_rf(n_features, X_sample, y_sample, w_sample, columns_dict, depth=1,\\\n",
    "                         max_depth=max_depth) ### Maximum depth is no more defaulted to 10 here ###\n",
    "    trees.append(tree)\n",
    "\n",
    "  return trees"
   ]
  },
  {
   "cell_type": "code",
   "execution_count": 536,
   "metadata": {},
   "outputs": [],
   "source": [
    "## NOT MODIFYING THOSE CT6 SOLUTION FUNCTIONS ## \n",
    "\n",
    "def classify(tree, x):\n",
    "  \"\"\"\n",
    "  Classify a single sample with the fitted decision tree.\n",
    "  Args:\n",
    "      x: ((pd.Dataframe) a single sample features, of shape (D,).\n",
    "  Returns:\n",
    "      (int): predicted testing sample label.\n",
    "  \"\"\"\n",
    "  if tree['majority_label'] is not None: \n",
    "    return tree['majority_label']\n",
    "\n",
    "  elif tree['categorical']:\n",
    "    if x[tree['feature_index']] == tree['value']:\n",
    "      return classify(tree['left'], x)\n",
    "    else:\n",
    "      return classify(tree['right'], x)\n",
    "\n",
    "  else:\n",
    "    if x[tree['feature_index']] < tree['value']:\n",
    "      return classify(tree['left'], x)\n",
    "    else:\n",
    "      return classify(tree['right'], x)\n",
    "\n",
    "\n",
    "def predict_rf(rf, X):\n",
    "  \"\"\"\n",
    "  Predict classification results for X.\n",
    "  Args:\n",
    "      rf: A trained random forest through train_rf function.\n",
    "      X: testing sample features, of shape (N, D).\n",
    "  Returns:\n",
    "      (np.array): predicted testing sample labels, of shape (N,).\n",
    "  \"\"\"\n",
    "\n",
    "  def aggregate(decisions):\n",
    "    count = defaultdict(int)\n",
    "    for decision in decisions:\n",
    "      count[decision] += 1\n",
    "    return max(count, key=count.get)\n",
    "\n",
    "  if len(X.shape) == 1:\n",
    "      return aggregate([classify(tree, X) for tree in rf])\n",
    "  else:\n",
    "      return np.array([aggregate([classify(tree, x) for tree in rf]) for x in X])\n",
    "\n",
    "### Using accuracy ###\n",
    "def rf_score(rf, X_test, y_test):\n",
    "  y_pred = predict_rf(rf, X_test) \n",
    "  return np.mean(y_pred==y_test)"
   ]
  },
  {
   "cell_type": "markdown",
   "metadata": {},
   "source": [
    "We now perform the 5-fold cross-validation as previously. "
   ]
  },
  {
   "cell_type": "code",
   "execution_count": 591,
   "metadata": {},
   "outputs": [],
   "source": [
    "def fiveFoldValidationRF(dataArray, max_depth, B) :\n",
    "    \"\"\"\n",
    "    This function computes the mean of accuracies of a five-fold cross-validation process\n",
    "    on the random forests model.\n",
    "\n",
    "    Parameters\n",
    "    ----------\n",
    "    dataArray : an Nx(p+2)-dimensionnal numpy array containing both the predictors and the target value\n",
    "    max_depth : an integer - the maximum depth of the trees\n",
    "    B : an integer - the number of trees\n",
    "\n",
    "    Returns\n",
    "    -------\n",
    "    meanAccuracy : a float number - the mean of accuracies of the five-fold cross-validation \n",
    "    \"\"\"\n",
    "    \n",
    "    accuracies = np.zeros(5) # Container for the accuracies\n",
    "\n",
    "    # As seen in coding task - List of five index arrays, each correspond to one of the five folds.\n",
    "    folds_indexes = np.split(np.arange(dataArray.shape[0]-1), 5) # We drop the last one to allow division by 5\n",
    "    \n",
    "    for i in range(5) : # Five fold\n",
    "\n",
    "        # Building validation subset\n",
    "        validationSubset  = dataArray[folds_indexes[i]] \n",
    "        training_indexes = [] # Initializing \n",
    "        # Building training subset\n",
    "        for j in range(5) :\n",
    "            if j != i : \n",
    "                training_indexes += list(folds_indexes[j])\n",
    "        trainingSubset = dataArray[training_indexes]\n",
    "        \n",
    "        \n",
    "        # Training and Validation\n",
    "        # On training subset\n",
    "        rf = train_rf(B = B, max_depth = max_depth, n_features = 10, X = trainingSubset[:,1:31],\\\n",
    "              y = trainingSubset[:,31]) \n",
    "        # On validation subset\n",
    "        accuracies[i] = rf_score(rf = rf, X_test = validationSubset[:,1:31], y_test = validationSubset[:,31])\n",
    "         \n",
    "    \n",
    "    return np.mean(accuracies)"
   ]
  },
  {
   "cell_type": "code",
   "execution_count": 602,
   "metadata": {},
   "outputs": [],
   "source": [
    "def chooseBestParamsRF(dataArray, returnArray = False):\n",
    "    \"\"\"\n",
    "    This function computes the optimal hyperparameter max_depth and B by using a five-fold cross-validation\n",
    "    method for the random forests model.\n",
    "\n",
    "    Parameters\n",
    "    ----------\n",
    "    dataArray : an Nx(p+2)-dimensionnal numpy array containing both the predictors and the target value\n",
    "    returnArray : boolean value - if set to True the function returns the arrays containing the means \n",
    "        of accuracies and the tested max_depth and B\n",
    "\n",
    "    Returns\n",
    "    -------\n",
    "    best_maxDepth : a integer - the optimal max-depth hyperparameter\n",
    "    best_B : a integer - the optimal B hyperparameter\n",
    "    maxDepthList : an M-dimensionnal numpy array containing the tested max_depth\n",
    "    BList : an N-dimensionnal numpy array containing the tested B\n",
    "    meanAccuracies : an NxM-dimensionnal numpy array containing the means of accuracies\n",
    "    best_maxDepth_ind : an integer - the optimal max_depth index in maxDepthList\n",
    "    best_B_ind : an integer - the optimal B index in BList\n",
    "    \n",
    "    \n",
    "    \"\"\"\n",
    "    # Initialization\n",
    "    BList = np.arange(start = 2, stop = 10 , step = 3) # Scanning B\n",
    "    maxDepthList = np.arange(start = 4, stop = 14, step = 4) # Scanning max_depth\n",
    "    meanAccuracies = np.zeros((BList.shape[0],maxDepthList.shape[0])) # Storing accuracies\n",
    "    \n",
    "    for i, B in enumerate(BList) :\n",
    "        for j, max_depth in enumerate(maxDepthList) :\n",
    "            # Maximizing mean of accuracies\n",
    "            meanAccuracies[i,j] = fiveFoldValidationRF(dataArray, max_depth, B)\n",
    "            print('Cross-validation for B = ' + str(B) + ' and max_depth = ' + str(max_depth) + \\\n",
    "                  ' gives a mean of accuracies = ' + str(meanAccuracies[i,j]))\n",
    "        \n",
    "    best_B_ind, best_maxDepth_ind  = np.where(meanAccuracies == np.amax(meanAccuracies))\n",
    "    # A maximizer of accuracies\n",
    "    best_B_ind = best_B_ind[0]\n",
    "    best_maxDepth_ind = best_maxDepth_ind[0]\n",
    "    \n",
    "    if returnArray :\n",
    "        return BList[best_B_ind], maxDepthList[best_maxDepth_ind], BList, maxDepthList, \\\n",
    "    meanAccuracies, best_B_ind, best_maxDepth_ind\n",
    "    \n",
    "    return BList[best_B_ind], maxDepthList[best_maxDepth_ind]"
   ]
  },
  {
   "cell_type": "code",
   "execution_count": 605,
   "metadata": {},
   "outputs": [
    {
     "name": "stdout",
     "output_type": "stream",
     "text": [
      "Cross-validation for B = 5 and max_depth = 8 gives a mean of accuracies = 0.9801169590643275\n",
      "Cross-validation for B = 5 and max_depth = 9 gives a mean of accuracies = 0.9828460038986355\n",
      "Cross-validation for B = 5 and max_depth = 10 gives a mean of accuracies = 0.9840155945419102\n",
      "Cross-validation for B = 5 and max_depth = 11 gives a mean of accuracies = 0.9828460038986353\n",
      "Cross-validation for B = 5 and max_depth = 12 gives a mean of accuracies = 0.9808966861598438\n",
      "Cross-validation for B = 6 and max_depth = 8 gives a mean of accuracies = 0.9824561403508772\n",
      "Cross-validation for B = 6 and max_depth = 9 gives a mean of accuracies = 0.9840155945419102\n",
      "Cross-validation for B = 6 and max_depth = 10 gives a mean of accuracies = 0.9847953216374268\n",
      "Cross-validation for B = 6 and max_depth = 11 gives a mean of accuracies = 0.983625730994152\n",
      "Cross-validation for B = 6 and max_depth = 12 gives a mean of accuracies = 0.9812865497076023\n",
      "Cross-validation for B = 7 and max_depth = 8 gives a mean of accuracies = 0.9832358674463937\n",
      "Cross-validation for B = 7 and max_depth = 9 gives a mean of accuracies = 0.9793372319688108\n",
      "Cross-validation for B = 7 and max_depth = 10 gives a mean of accuracies = 0.9847953216374268\n",
      "Cross-validation for B = 7 and max_depth = 11 gives a mean of accuracies = 0.983625730994152\n",
      "Cross-validation for B = 7 and max_depth = 12 gives a mean of accuracies = 0.9836257309941521\n",
      "Cross-validation for B = 8 and max_depth = 8 gives a mean of accuracies = 0.9844054580896685\n",
      "Cross-validation for B = 8 and max_depth = 9 gives a mean of accuracies = 0.9875243664717349\n",
      "Cross-validation for B = 8 and max_depth = 10 gives a mean of accuracies = 0.9859649122807017\n",
      "Cross-validation for B = 8 and max_depth = 11 gives a mean of accuracies = 0.9867446393762183\n",
      "Cross-validation for B = 8 and max_depth = 12 gives a mean of accuracies = 0.9840155945419102\n"
     ]
    }
   ],
   "source": [
    "# Computing the optimal parameters \n",
    "bestB, bestMaxDepth, BList, maxDepthList, \\\n",
    "    meanAccuracies, best_B_ind, best_maxDepth_ind = chooseBestParamsRF(dataArray, returnArray = True)"
   ]
  },
  {
   "cell_type": "code",
   "execution_count": 610,
   "metadata": {},
   "outputs": [],
   "source": [
    "### Very long wall time - Saving the variables here ###\n",
    "\n",
    "# Cross-validation for B = 5 and max_depth = 8 gives a mean of accuracies = 0.9801169590643275\n",
    "# Cross-validation for B = 5 and max_depth = 9 gives a mean of accuracies = 0.9828460038986355\n",
    "# Cross-validation for B = 5 and max_depth = 10 gives a mean of accuracies = 0.9840155945419102\n",
    "# Cross-validation for B = 5 and max_depth = 11 gives a mean of accuracies = 0.9828460038986353\n",
    "# Cross-validation for B = 5 and max_depth = 12 gives a mean of accuracies = 0.9808966861598438\n",
    "# Cross-validation for B = 6 and max_depth = 8 gives a mean of accuracies = 0.9824561403508772\n",
    "# Cross-validation for B = 6 and max_depth = 9 gives a mean of accuracies = 0.9840155945419102\n",
    "# Cross-validation for B = 6 and max_depth = 10 gives a mean of accuracies = 0.9847953216374268\n",
    "# Cross-validation for B = 6 and max_depth = 11 gives a mean of accuracies = 0.983625730994152\n",
    "# Cross-validation for B = 6 and max_depth = 12 gives a mean of accuracies = 0.9812865497076023\n",
    "# Cross-validation for B = 7 and max_depth = 8 gives a mean of accuracies = 0.9832358674463937\n",
    "# Cross-validation for B = 7 and max_depth = 9 gives a mean of accuracies = 0.9793372319688108\n",
    "# Cross-validation for B = 7 and max_depth = 10 gives a mean of accuracies = 0.9847953216374268\n",
    "# Cross-validation for B = 7 and max_depth = 11 gives a mean of accuracies = 0.983625730994152\n",
    "# Cross-validation for B = 7 and max_depth = 12 gives a mean of accuracies = 0.9836257309941521\n",
    "# Cross-validation for B = 8 and max_depth = 8 gives a mean of accuracies = 0.9844054580896685\n",
    "# Cross-validation for B = 8 and max_depth = 9 gives a mean of accuracies = 0.9875243664717349\n",
    "# Cross-validation for B = 8 and max_depth = 10 gives a mean of accuracies = 0.9859649122807017\n",
    "# Cross-validation for B = 8 and max_depth = 11 gives a mean of accuracies = 0.9867446393762183\n",
    "# Cross-validation for B = 8 and max_depth = 12 gives a mean of accuracies = 0.9840155945419102\n",
    "\n",
    "# meanAccuracies = np.array([[0.98011696, 0.982846  , 0.98401559, 0.982846  , 0.98089669],\n",
    "      # [0.98245614, 0.98401559, 0.98479532, 0.98362573, 0.98128655],\n",
    "      # [0.98323587, 0.97933723, 0.98479532, 0.98362573, 0.98362573],\n",
    "      # [0.98440546, 0.98752437, 0.98596491, 0.98674464, 0.98401559]])\n",
    "    \n",
    "# BList = np.array([5, 6, 7, 8])\n",
    "\n",
    "# maxDepthList = np.array([ 8,  9, 10, 11, 12])\n",
    "\n",
    "# bestB, bestMaxDepth = (8, 9)"
   ]
  },
  {
   "cell_type": "markdown",
   "metadata": {},
   "source": [
    "### 2.2.2 Performance assessment \n",
    "\n",
    "We compute accuracy scores on the training and testing set using our optimal hyperparameters $B$ and $\\texttt{max}$_$\\texttt{depth}$."
   ]
  },
  {
   "cell_type": "code",
   "execution_count": 946,
   "metadata": {},
   "outputs": [],
   "source": [
    "# Re importing and converting \n",
    "dataArray = df_tumour.to_numpy()\n",
    "testingDataArray = df_tumour_test.to_numpy()"
   ]
  },
  {
   "cell_type": "code",
   "execution_count": 732,
   "metadata": {},
   "outputs": [],
   "source": [
    "# Generating a random forest using the previous helper functions \n",
    "n_features = dataArray[:,1:31].shape[1] // 3\n",
    "rf = train_rf(B = bestB, max_depth = bestMaxDepth, n_features = n_features, X = dataArray[:,1:31],\\\n",
    "              y = dataArray[:,31], columns_dict = columns_dict)"
   ]
  },
  {
   "cell_type": "code",
   "execution_count": 947,
   "metadata": {},
   "outputs": [
    {
     "name": "stdout",
     "output_type": "stream",
     "text": [
      "Accuracy computed on full training set =  0.9980514419329696\n"
     ]
    }
   ],
   "source": [
    "# Computing accuracy score on full training set\n",
    "RFtrainingScore = rf_score(rf = rf, X_test = dataArray[:,1:31], y_test = dataArray[:,31])\n",
    "print('Accuracy computed on full training set = ',RFtrainingScore)"
   ]
  },
  {
   "cell_type": "code",
   "execution_count": 948,
   "metadata": {},
   "outputs": [
    {
     "name": "stdout",
     "output_type": "stream",
     "text": [
      "Accuracy computed on unseen testing set =  0.985\n"
     ]
    }
   ],
   "source": [
    "# Computing accuracy score on unseen testing set \n",
    "RFtestingScore = rf_score(rf = rf, X_test = testingDataArray[:,1:31], y_test = testingDataArray[:,31])\n",
    "print('Accuracy computed on unseen testing set = ',RFtestingScore)"
   ]
  },
  {
   "cell_type": "markdown",
   "metadata": {},
   "source": [
    "We now modify the $\\texttt{rf}$_$\\texttt{score}$ function in order to retreive the numbers of true positives, false positives, true negatives and false negatives. This will allow us to obtain the confusion matrix of the given problem."
   ]
  },
  {
   "cell_type": "code",
   "execution_count": 949,
   "metadata": {},
   "outputs": [],
   "source": [
    "def getConfusionMatrixRF(rf, X_test, y_test) :\n",
    "    \"\"\"\n",
    "    This function computes the confusion matrix for the given random forest on the given testing set.\n",
    "\n",
    "    Parameters\n",
    "    ----------\n",
    "    rf : a list of dictionnaries - A trained random forest through train_rf function\n",
    "    X_test : an Nxp-dimensionnal numpy array - the predictors\n",
    "    y_test : an N-dimensionnal numpy array - the targets\n",
    "\n",
    "    Returns\n",
    "    -------\n",
    "    TP : an integer - the number of true positives\n",
    "    TN : an integer - the number of true negatives\n",
    "    FP : an integer - the number of false positives\n",
    "    FN : an integer - the number of false negatives\n",
    "    confusionMatrix : an 2x2-dimensionnal numpy array - the confusion matrix \n",
    "    \"\"\"\n",
    "    \n",
    "    N = X_test.shape[0]\n",
    "    \n",
    "    TP = 0 # Positive is 'M' in our case\n",
    "    TN = 0 # Negative is 'B' in our case\n",
    "    FP = 0\n",
    "    FN = 0\n",
    "    \n",
    "    y_pred = predict_rf(rf, X_test)\n",
    "    predictionsCorrectness = (y_pred==y_test)\n",
    "    \n",
    "    for i in range(N) :\n",
    "        \n",
    "        if predictionsCorrectness[i] and y_test[i] == 'M' :\n",
    "            TP += 1\n",
    "        elif predictionsCorrectness[i] and y_test[i] == 'B' :\n",
    "            TN += 1\n",
    "        elif not predictionsCorrectness[i] and y_test[i] == 'M' :\n",
    "            FN += 1\n",
    "        elif not predictionsCorrectness[i] and y_test[i] == 'B' :\n",
    "            FP += 1\n",
    "    \n",
    "    confusionMatrix = np.array([[TP, FP],[FN, TN]])\n",
    "    \n",
    "    return TP, TN, FP, FN, confusionMatrix\n",
    "    "
   ]
  },
  {
   "cell_type": "code",
   "execution_count": 950,
   "metadata": {},
   "outputs": [
    {
     "name": "stdout",
     "output_type": "stream",
     "text": [
      "[[ 419    0]\n",
      " [   5 2142]]\n"
     ]
    }
   ],
   "source": [
    "# Confusion matrix on full training set \n",
    "TP, TN, FP, FN, confusionMatrix = \\\n",
    "getConfusionMatrixRF(rf = rf, X_test = dataArray[:,1:31], y_test = dataArray[:,31])\n",
    "print(confusionMatrix)"
   ]
  },
  {
   "cell_type": "code",
   "execution_count": 951,
   "metadata": {},
   "outputs": [
    {
     "name": "stdout",
     "output_type": "stream",
     "text": [
      "[[ 70   0]\n",
      " [  3 127]]\n"
     ]
    }
   ],
   "source": [
    "# Confusion matrix on unseen testing set \n",
    "TP, TN, FP, FN, confusionMatrix = \\\n",
    "getConfusionMatrixRF(rf = rf, X_test = testingDataArray[:,1:31], y_test = testingDataArray[:,31])\n",
    "print(confusionMatrix)"
   ]
  },
  {
   "cell_type": "markdown",
   "metadata": {},
   "source": [
    "We now build a series of score functions based on the confusion matrix."
   ]
  },
  {
   "cell_type": "code",
   "execution_count": 740,
   "metadata": {},
   "outputs": [],
   "source": [
    "def recall(TP,FN) :\n",
    "    \"\"\"\n",
    "    This function computes the recall based on the number of true positives and false negatives.\n",
    "\n",
    "    Parameters\n",
    "    ----------\n",
    "    TP : an integer - the number of true positives\n",
    "    FN : an integer - the number of false negatives \n",
    "    \n",
    "    Returns\n",
    "    -------\n",
    "    recall : a float number - the value of recall\n",
    "    \"\"\"\n",
    "    \n",
    "    return TP / (TP + FN)\n",
    "\n",
    "def precision(TP,FP) :\n",
    "    \"\"\"\n",
    "    This function computes the precision based on the number of true positives and false positives.\n",
    "\n",
    "    Parameters\n",
    "    ----------\n",
    "    TP : an integer - the number of true positives\n",
    "    FP : an integer - the number of false positives \n",
    "    \n",
    "    Returns\n",
    "    -------\n",
    "    precision : a float number - the value of precision\n",
    "    \"\"\"\n",
    "    \n",
    "    return TP / (TP + FP)\n",
    "\n",
    "def Fscore(TP,FP,FN) :\n",
    "    \"\"\"\n",
    "    This function computes the F-score based on the number of true positives, false positives and false negatives.\n",
    "\n",
    "    Parameters\n",
    "    ----------\n",
    "    TP : an integer - the number of true positives\n",
    "    FP : an integer - the number of false positives \n",
    "    FN : an integer - the number of false negatives \n",
    "    \n",
    "    Returns\n",
    "    -------\n",
    "    score : a float number - the value of the F-score\n",
    "    \"\"\"\n",
    "    \n",
    "    rec = recall(TP,FN)\n",
    "    prec = precision(TP,FP)\n",
    "    \n",
    "    \n",
    "    score = 2 * (prec * rec) / (prec + rec)\n",
    "    \n",
    "    \n",
    "    return score"
   ]
  },
  {
   "cell_type": "markdown",
   "metadata": {},
   "source": [
    "We can now compare the performance of the model on the training and testing set. "
   ]
  },
  {
   "cell_type": "code",
   "execution_count": 952,
   "metadata": {},
   "outputs": [
    {
     "name": "stdout",
     "output_type": "stream",
     "text": [
      "Accuracy computed on full training set =  0.9980514419329696\n",
      "Recall computed on full training set =  0.9882075471698113\n",
      "Precision computed on full training set =  1.0\n",
      "F-score computed on full training set =  0.9940688018979834\n"
     ]
    }
   ],
   "source": [
    "# Computing scores on full training set\n",
    "RFtrainingAccuracy = rf_score(rf = rf, X_test = dataArray[:,1:31], y_test = dataArray[:,31])\n",
    "TP, TN, FP, FN, confusionMatrix = \\\n",
    "getConfusionMatrixRF(rf = rf, X_test = dataArray[:,1:31], y_test = dataArray[:,31])\n",
    "RFtrainingRecall = recall(TP,FN)\n",
    "RFtrainingPrecision = precision(TP,FP)\n",
    "RFtrainingFscore = Fscore(TP,FP,FN)\n",
    "print('Accuracy computed on full training set = ',RFtrainingAccuracy)\n",
    "print('Recall computed on full training set = ',RFtrainingRecall)\n",
    "print('Precision computed on full training set = ',RFtrainingPrecision)\n",
    "print('F-score computed on full training set = ',RFtrainingFscore)"
   ]
  },
  {
   "cell_type": "code",
   "execution_count": 953,
   "metadata": {},
   "outputs": [
    {
     "name": "stdout",
     "output_type": "stream",
     "text": [
      "Accuracy computed on unseen testing set =  0.985\n",
      "Recall computed on unseen testing set =  0.958904109589041\n",
      "Precision computed on unseen testing set =  1.0\n",
      "F-score computed on unseen testing set =  0.9790209790209791\n"
     ]
    }
   ],
   "source": [
    "# Computing scores on unseen testing set\n",
    "RFtestingAccuracy = rf_score(rf = rf, X_test = testingDataArray[:,1:31], y_test = testingDataArray[:,31])\n",
    "TP, TN, FP, FN, confusionMatrix = \\\n",
    "getConfusionMatrixRF(rf = rf, X_test = testingDataArray[:,1:31], y_test = testingDataArray[:,31])\n",
    "RFtestingRecall = recall(TP,FN)\n",
    "RFtestingPrecision = precision(TP,FP)\n",
    "RFtestingFscore = Fscore(TP,FP,FN)\n",
    "print('Accuracy computed on unseen testing set = ',RFtestingAccuracy)\n",
    "print('Recall computed on unseen testing set = ',RFtestingRecall)\n",
    "print('Precision computed on unseen testing set = ',RFtestingPrecision)\n",
    "print('F-score computed on unseen testing set = ',RFtestingFscore)"
   ]
  },
  {
   "cell_type": "markdown",
   "metadata": {},
   "source": [
    "First notice that we don't have any false positives on the training data nor on the testing data, leading to a precision of 1. On the other hand, the model induces a small number of false negatives both on the training and testing data. The number of false negatives is rather low with respect to the number of samples predicted. This is a slighlty higher proportion on the testing set (recall $\\approx $ 0.95) than on the training set (recall $\\approx$ 0.99). Notice that in this medical context, unfortunately, false positives are more acceptable than false negatives, as a practitioner-based cross-checking may be triggered for all (unfrequent) positives.\n",
    "\n",
    "Unsurprisingly, the F-score (harmonic mean of precision and recall which penalizes more extreme values) is lower than the accuracy on both data. However, the model's predictions are overall rather high on both sets (more than 99% in accuracy and more than 98% in F-score). The testing set accuracy scores (accuracy and F-score) stay fairly close to the ones of the training set, displaying that the number of trees chosen is sufficient to avoid any significant overfitting. "
   ]
  },
  {
   "cell_type": "markdown",
   "metadata": {
    "id": "vfN9uz1qy1L4"
   },
   "source": [
    "<a name=\"q23\"></a>\n",
    "\n",
    "## 2.3 Support vector machine (SVM) [^](#outline)\n",
    "\n",
    "We now use a soft margin support vector machine method to perform the tumour samples classfication task. We find an optimal hyperplane best separating the two considered classes in the input space. We further use this hyperplane to predict the class of any new unseen entry, depending on the side on which said input falls. \n",
    "\n",
    "In this setting, we are seeking to minimize : $\\min_{\\mathbf{\\omega}} \\frac{1}{2}||\\mathbf{\\omega}||^2 + \\frac{\\lambda}{N} \\sum_i^N \\zeta^{(i)} \\text{ with constrain } 1-y^{(i)}(\\mathbf{\\omega}\\cdot\\mathbf{x}^{(i)}+ b)\\leq\\zeta^{(i)}$. We have that $\\mathbf{w}$ is the vector normal to the hyperplane, and $\\zeta^{(i)}= \\max(0,1-y^{(i)}(\\mathbf{\\omega}\\cdot\\mathbf{x}^{(i)}+ b))$ is a penalty term incurred for training data points on the wrong side of the plane (by considering their given class).\n",
    "\n",
    "\n",
    "As previously, in the following, we build several helper functions to perform this task.\n",
    "\n",
    "### 2.3.1 Training \n",
    "\n",
    "We use the same 5-fold cross-validation process to determine an optimal $\\textit{hardness}$ hyperparameter $\\lambda$. We use accuracy to measure the performance of the model.\n",
    "\n",
    "We still heavily $\\textbf{rely on the weekly coding tasks solutions}$, and further $\\textbf{modify them to suit our current problem}$. "
   ]
  },
  {
   "cell_type": "code",
   "execution_count": 954,
   "metadata": {},
   "outputs": [
    {
     "name": "stdout",
     "output_type": "stream",
     "text": [
      "['B' 'B' 'B' ... 'B' 'B' 'B']\n",
      "[-1.0 -1.0 -1.0 ... -1.0 -1.0 -1.0]\n"
     ]
    }
   ],
   "source": [
    "# In the weekly Coding Task solution functions, you may find my custom comments in the form of ### _____ ###\n",
    "\n",
    "# Serializing the classes : 'M' becomes 1.0 and 'B' becomes -1.0\n",
    "dataArray = df_tumour.to_numpy()\n",
    "print(dataArray[:,31])\n",
    "serialMap = {'M': 1.0, 'B': -1.0}\n",
    "length = len(dataArray[:,31])\n",
    "dataArray[:,31] = [serialMap[dataArray[i,31]] for i in range(length)]\n",
    "print(dataArray[:,31])\n",
    "\n",
    "# Standardization\n",
    "dataArray[:,1:31] = (dataArray[:,1:31] - np.mean(dataArray[:,1:31])) / np.std(dataArray[:,1:31])\n",
    "\n",
    "# Augmenting dataArray to fit intercept \n",
    "dataArray = np.insert(dataArray, 31, 1, axis=1)"
   ]
  },
  {
   "cell_type": "code",
   "execution_count": 744,
   "metadata": {},
   "outputs": [],
   "source": [
    "## NOT MODIFYING THIS CT7 SOLUTION FUNCTION ## \n",
    "\n",
    "def compute_cost(w, X, y, regul_strength=1e5):\n",
    "    n = X.shape[0]\n",
    "    distances = 1 - y * (X @ w)  \n",
    "    distances[distances < 0] = 0  # equivalent to max(0, distance)\n",
    "    hinge = regul_strength * distances.mean() \n",
    "\n",
    "    # calculate cost\n",
    "    return 0.5 * np.dot(w, w) + hinge"
   ]
  },
  {
   "cell_type": "code",
   "execution_count": 745,
   "metadata": {},
   "outputs": [],
   "source": [
    "## NOT MODIFYING THIS CT7 SOLUTION FUNCTION ## \n",
    "\n",
    "# calculate gradient of cost\n",
    "def calculate_cost_gradient(w, X_batch, y_batch, regul_strength=1e5):\n",
    "    # if only one example is passed\n",
    "    y_batch = np.asarray([y_batch])\n",
    "    X_batch = np.asarray([X_batch])  # gives multidimensional array\n",
    "\n",
    "    distance = 1 - (y_batch * (X_batch @ w))\n",
    "    dw = np.zeros(len(w), dtype = float)\n",
    "\n",
    "    for ind, d in enumerate(distance):\n",
    "        if max(0, d)==0:\n",
    "            di = w\n",
    "            di = di.astype(float)\n",
    "        else:\n",
    "            di = w - (regul_strength * y_batch[ind] * X_batch[ind])\n",
    "            di = di.astype(float)\n",
    "        dw += di\n",
    "\n",
    "    return dw/len(y_batch)  # average"
   ]
  },
  {
   "cell_type": "code",
   "execution_count": 746,
   "metadata": {},
   "outputs": [],
   "source": [
    "## NOT MODIFYING THIS CT7 SOLUTION FUNCTION ## \n",
    "\n",
    "def sgd(X, y, batch_size=32, max_iterations=2000, stop_criterion=0.01, \\\n",
    "        learning_rate=1e-5, regul_strength=1e5, print_outcome=False):\n",
    "    # initialise zero weights\n",
    "    weights = np.zeros(X.shape[1])\n",
    "    nth = 0\n",
    "    # initialise starting cost as infinity\n",
    "    prev_cost = np.inf\n",
    "    \n",
    "    # stochastic gradient descent\n",
    "    indices = np.arange(len(y))\n",
    "    for iteration in range(1, max_iterations):\n",
    "        # shuffle to prevent repeating update cycles\n",
    "        np.random.shuffle(indices)\n",
    "        batch_idx = indices[:batch_size]\n",
    "        X_b, y_b = X[batch_idx], y[batch_idx]\n",
    "        for xi, yi in zip(X_b, y_b):\n",
    "            ascent = calculate_cost_gradient(weights, xi, yi, regul_strength) \n",
    "            weights = weights - (learning_rate * ascent)\n",
    "\n",
    "        # convergence check on 2^n'th iteration\n",
    "        if iteration==2**nth or iteration==max_iterations-1:\n",
    "            # compute cost\n",
    "            cost = compute_cost(weights, X, y, regul_strength) \n",
    "            if print_outcome:\n",
    "                print(\"Iteration is: {}, Cost is: {}\".format(iteration, cost))\n",
    "            # stop criterion\n",
    "            if abs(prev_cost - cost) < stop_criterion * prev_cost:\n",
    "                return weights\n",
    "              \n",
    "            prev_cost = cost\n",
    "            nth += 1\n",
    "    \n",
    "    return weights"
   ]
  },
  {
   "cell_type": "code",
   "execution_count": 747,
   "metadata": {},
   "outputs": [
    {
     "name": "stdout",
     "output_type": "stream",
     "text": [
      "Iteration is: 1, Cost is: 681.9472616134296\n",
      "Iteration is: 2, Cost is: 558.7339312641124\n",
      "Iteration is: 4, Cost is: 333.9004692363865\n",
      "Iteration is: 8, Cost is: 220.80461451918143\n",
      "Iteration is: 16, Cost is: 171.06061846898717\n",
      "Iteration is: 32, Cost is: 223.0781753506032\n",
      "Iteration is: 64, Cost is: 143.53314127015454\n",
      "Iteration is: 128, Cost is: 125.51534903988099\n",
      "Iteration is: 256, Cost is: 133.91641291653514\n",
      "Iteration is: 512, Cost is: 126.7644988261685\n",
      "Iteration is: 1024, Cost is: 135.04624032986868\n",
      "Iteration is: 1999, Cost is: 140.28398187510544\n",
      "Training finished.\n"
     ]
    }
   ],
   "source": [
    "# Training the model \n",
    "w = sgd(X = dataArray[:,1:32], y = dataArray[:,32], regul_strength=1e3, print_outcome=True)\n",
    "print(\"Training finished.\")"
   ]
  },
  {
   "cell_type": "code",
   "execution_count": 748,
   "metadata": {},
   "outputs": [],
   "source": [
    "## NOT MODIFYING THIS CT7 SOLUTION FUNCTION ## \n",
    "\n",
    "### Using accuracy ###\n",
    "def score(w, X, y):\n",
    "    y_preds = np.sign(X @ w)\n",
    "    return np.mean(y_preds == y)"
   ]
  },
  {
   "cell_type": "markdown",
   "metadata": {},
   "source": [
    "We now use the 5-fold cross-validation process to find an optimal $\\lambda$ regarding accuracy. "
   ]
  },
  {
   "cell_type": "code",
   "execution_count": 749,
   "metadata": {},
   "outputs": [],
   "source": [
    "def fiveFoldValidationSVM(dataArray, lbda) :\n",
    "    \"\"\"\n",
    "    This function computes the mean of accuracies of a five-fold cross-validation method\n",
    "    on the SVM model.\n",
    "\n",
    "    Parameters\n",
    "    ----------\n",
    "    dataArray : an Nx(p+2)-dimensionnal numpy array containing both the predictors and the target value\n",
    "    lbda : a float - the hardness hyperparameter\n",
    "\n",
    "    Returns\n",
    "    -------\n",
    "    meanAccuracy : a float number - the mean of accuracies of the five-fold cross-validation \n",
    "    \"\"\"\n",
    "    \n",
    "    accuracies = np.zeros(5) # Container for the accuracies\n",
    "\n",
    "    # As seen in coding task - List of five index arrays, each correspond to one of the five folds.\n",
    "    folds_indexes = np.split(np.arange(dataArray.shape[0]-1), 5) # We drop the last one to allow division by 5\n",
    "    \n",
    "    for i in range(5) : # Five fold\n",
    "\n",
    "        # Building validation subset\n",
    "        validationSubset  = dataArray[folds_indexes[i]] \n",
    "        training_indexes = [] # Initializing \n",
    "        # Building training subset\n",
    "        for j in range(5) :\n",
    "            if j != i : \n",
    "                training_indexes += list(folds_indexes[j])\n",
    "        trainingSubset = dataArray[training_indexes]\n",
    "        \n",
    "        \n",
    "        # Training and Validation\n",
    "        # On training subset\n",
    "        w = sgd(X = trainingSubset[:,1:32], y = trainingSubset[:,32], regul_strength = lbda)\n",
    "        # On validation subset\n",
    "        accuracies[i] = score(w = w, X = validationSubset[:,1:32], y = validationSubset[:,32])\n",
    "         \n",
    "    \n",
    "    return np.mean(accuracies)"
   ]
  },
  {
   "cell_type": "code",
   "execution_count": 840,
   "metadata": {},
   "outputs": [],
   "source": [
    "def chooseBestLambdaSVM(dataArray, returnArray = False):\n",
    "    \"\"\"\n",
    "    This function computes the optimal hyperparameter lambda by using a five-fold cross-validation\n",
    "    method for the soft margin linear SVM method.\n",
    "\n",
    "    Parameters\n",
    "    ----------\n",
    "    dataArray : an Nx(p+2)-dimensionnal numpy array containing both the predictors and the target value\n",
    "    returnArray : boolean value - if set to True the function returns the arrays containing the means \n",
    "        of accuracies and the tested lambdas \n",
    "\n",
    "    Returns\n",
    "    -------\n",
    "    best_lambda : a float number - the optimal hyperparameter\n",
    "    lambdas : an M-dimensionnal numpy array containing the tested lambdas\n",
    "    lbdaAcc : an M-dimensionnal numpy array containing the means of accuracies\n",
    "    best_lambda_ind : an integer - the optimal lambda index in lambdas\n",
    "    \n",
    "    \"\"\"\n",
    "    # Initialization\n",
    "    lambdas = np.linspace(start = 0.001, stop = 1000, num = 100) # Scanning lambdas\n",
    "    accuracies = np.zeros(lambdas.shape[0])\n",
    "    \n",
    "    for i, lbda in enumerate(lambdas) :\n",
    "        # Maximizing mean of accuracies\n",
    "        accuracies[i] = fiveFoldValidationSVM(dataArray = dataArray, lbda = lbda)\n",
    "        if i%15 == 0 : # Prints from time to time\n",
    "            print('Cross-validation for lambda = ' + str(lbda) + ' gives a mean of accuracies = '\\\n",
    "                  + str(accuracies[i]))\n",
    "        \n",
    "    best_lambda_ind = np.argmax(accuracies) # A maximizer of means of accuracies\n",
    "    \n",
    "    if returnArray :\n",
    "        return lambdas[best_lambda_ind], lambdas, accuracies, best_lambda_ind\n",
    "    \n",
    "    return lambdas[best_lambda_ind]"
   ]
  },
  {
   "cell_type": "code",
   "execution_count": 717,
   "metadata": {},
   "outputs": [
    {
     "name": "stdout",
     "output_type": "stream",
     "text": [
      "Cross-validation for lambda = 0.001 gives a mean of accuracies = 0.8346978557504873\n",
      "Cross-validation for lambda = 151.51600000000002 gives a mean of accuracies = 0.953606237816764\n",
      "Cross-validation for lambda = 303.031 gives a mean of accuracies = 0.9247563352826511\n",
      "Cross-validation for lambda = 454.546 gives a mean of accuracies = 0.9563352826510721\n",
      "Cross-validation for lambda = 606.061 gives a mean of accuracies = 0.935672514619883\n",
      "Cross-validation for lambda = 757.576 gives a mean of accuracies = 0.9516569200779728\n",
      "Cross-validation for lambda = 909.091 gives a mean of accuracies = 0.9590643274853801\n"
     ]
    }
   ],
   "source": [
    "# Computing the optimal hyperparameter based on accuracy\n",
    "bestLambdaSVM, lambdas, accuracies, best_lambda_ind = \\\n",
    "chooseBestLambdaSVM(dataArray = dataArray, returnArray = True)"
   ]
  },
  {
   "cell_type": "code",
   "execution_count": 966,
   "metadata": {},
   "outputs": [
    {
     "name": "stdout",
     "output_type": "stream",
     "text": [
      "Optimal λ = 747.475\n",
      "Maximum mean of accuracies = 0.9594541910331383\n"
     ]
    }
   ],
   "source": [
    "# Optimal lambda hyperparameter for SVM\n",
    "print('Optimal λ = ' + str(bestLambdaSVM))\n",
    "# Corresponding mean of accuracies\n",
    "print('Maximum mean of accuracies = ' + str(accuracies[best_lambda_ind]))"
   ]
  },
  {
   "cell_type": "code",
   "execution_count": 753,
   "metadata": {},
   "outputs": [
    {
     "data": {
      "text/plain": [
       "[<matplotlib.lines.Line2D at 0x7fc9d15bc4c0>]"
      ]
     },
     "execution_count": 753,
     "metadata": {},
     "output_type": "execute_result"
    },
    {
     "data": {
      "image/png": "[encoded data removed]",
      "text/plain": [
       "<Figure size 432x288 with 1 Axes>"
      ]
     },
     "metadata": {
      "needs_background": "light"
     },
     "output_type": "display_data"
    }
   ],
   "source": [
    "# Plotting mean of accuracies against different lambdas : SVM\n",
    "plt.figure()\n",
    "title = 'Mean of accuracies computed using five-fold cross-validation against hyperparameter $\\lambda$ \\n'\n",
    "plt.title(title)\n",
    "plt.xlabel('$\\lambda$')\n",
    "plt.ylabel('Mean of accuracies')\n",
    "plt.plot(lambdas,accuracies)"
   ]
  },
  {
   "cell_type": "markdown",
   "metadata": {},
   "source": [
    "The hyperparameter $\\lambda$ balances the trade off that appears between having the largest minimum margin and having the minimum number of misclassified samples through the set. Namely, higher $\\lambda$ is, higher we penalize misclassification and thus more we request a better fitting hyperplane. However, to some extent, having a better fitting of the hyperplane disables the possibility of having large margins between the two classes values, and further weakens the possibility of having a firm separation between the data. Having $\\lambda$ small may increase said margins, however it is done at the price of some outlying misclassifications.\n",
    "\n",
    "In this case, it seems that no suitable large margin can be found may $\\lambda$ be small. Moreover, the accuracy is saturating for $\\lambda > 75$, not increasing the performance further. \n",
    "\n",
    "### 2.3.2 Receiver operating characteristic on testing set\n",
    "\n",
    "We now compute the performance of the model over the testing set for various hyperparameters. We display the results as a receiver operating characteristic curve. "
   ]
  },
  {
   "cell_type": "code",
   "execution_count": 955,
   "metadata": {},
   "outputs": [],
   "source": [
    "def getConfusionMatrixSVM(w, X_test, y_test) :\n",
    "    \"\"\"\n",
    "    This function computes the confusion matrix for the given SVM on the given testing set.\n",
    "\n",
    "    Parameters\n",
    "    ----------\n",
    "    w : an p-dimensionnal numpy array - the vector defining the hyperplane \n",
    "    X_test : an Nxp-dimensionnal numpy array - the predictors\n",
    "    y_test : an N-dimensionnal numpy array - the targets\n",
    "\n",
    "    Returns\n",
    "    -------\n",
    "    TP : an integer - the number of true positives\n",
    "    TN : an integer - the number of true negatives\n",
    "    FP : an integer - the number of false positives\n",
    "    FN : an integer - the number of false negatives\n",
    "    confusionMatrix : an 2x2-dimensionnal numpy array - the confusion matrix \n",
    "    \"\"\"\n",
    "    \n",
    "    N = X_test.shape[0]\n",
    "    \n",
    "    \n",
    "    TP = 0 # Positive is 'M' in our case\n",
    "    TN = 0 # Negative is 'B' in our case\n",
    "    FP = 0\n",
    "    FN = 0\n",
    "    \n",
    "    y_pred = np.sign(X_test @ w)\n",
    "    predictionsCorrectness = (y_pred==y_test)\n",
    "    \n",
    "    for i in range(N) :\n",
    "        \n",
    "        if predictionsCorrectness[i] and y_test[i] == 1.0 :\n",
    "            TP += 1\n",
    "        elif predictionsCorrectness[i] and y_test[i] == -1.0 :\n",
    "            TN += 1\n",
    "        elif not predictionsCorrectness[i] and y_test[i] == 1.0 :\n",
    "            FN += 1\n",
    "        elif not predictionsCorrectness[i] and y_test[i] == -1.0 :\n",
    "            FP+= 1\n",
    "    \n",
    "    confusionMatrix = np.array([[TP, FP],[FN, TN]])\n",
    "    \n",
    "    return TP, TN, FP, FN, confusionMatrix\n",
    "    "
   ]
  },
  {
   "cell_type": "code",
   "execution_count": 956,
   "metadata": {},
   "outputs": [],
   "source": [
    "# Serializing the classes : 'M' becomes 1.0 and 'B' becomes -1.0\n",
    "testingDataArray = df_tumour_test.to_numpy()\n",
    "serialMap = {'M': 1.0, 'B': -1.0}\n",
    "length = len(testingDataArray[:,31])\n",
    "testingDataArray[:,31] = [serialMap[testingDataArray[i,31]] for i in range(length)]\n",
    "\n",
    "# Standardization\n",
    "testingDataArray[:,1:31] = (testingDataArray[:,1:31] - np.mean(testingDataArray[:,1:31])) \\\n",
    "/ np.std(testingDataArray[:,1:31])\n",
    "\n",
    "# Augmenting dataArray to fit intercept \n",
    "testingDataArray = np.insert(testingDataArray, 31, 1, axis=1)"
   ]
  },
  {
   "cell_type": "code",
   "execution_count": 876,
   "metadata": {},
   "outputs": [
    {
     "name": "stdout",
     "output_type": "stream",
     "text": [
      "Iteration is: 1, Cost is: 419.4174467053221\n",
      "Iteration is: 2, Cost is: 381.9606339064277\n",
      "Iteration is: 4, Cost is: 340.90094574857045\n",
      "Iteration is: 8, Cost is: 174.86227086273485\n",
      "Iteration is: 16, Cost is: 152.24745725178806\n",
      "Iteration is: 32, Cost is: 127.83362705002139\n",
      "Iteration is: 64, Cost is: 99.73397377931684\n",
      "Iteration is: 128, Cost is: 108.32983304323041\n",
      "Iteration is: 256, Cost is: 95.34086415231133\n",
      "Iteration is: 512, Cost is: 104.78284232554064\n",
      "Iteration is: 1024, Cost is: 95.09959043195151\n",
      "Iteration is: 1999, Cost is: 96.49020235179567\n"
     ]
    }
   ],
   "source": [
    "# Training the model with optimal lambda \n",
    "wBest = sgd(X = dataArray[:,1:32], y = dataArray[:,32], regul_strength = bestLambdaSVM, print_outcome=True)"
   ]
  },
  {
   "cell_type": "code",
   "execution_count": 957,
   "metadata": {},
   "outputs": [
    {
     "name": "stdout",
     "output_type": "stream",
     "text": [
      "[[ 48   0]\n",
      " [ 25 127]]\n"
     ]
    }
   ],
   "source": [
    "# Computing confusion matrix on testing set\n",
    "TP, TN, FP, FN, confusionMatrix = getConfusionMatrixSVM(w = wBest, X_test = testingDataArray[:,1:32], \\\n",
    "                                                        y_test = testingDataArray[:,32])\n",
    "print(confusionMatrix)"
   ]
  },
  {
   "cell_type": "code",
   "execution_count": 853,
   "metadata": {},
   "outputs": [],
   "source": [
    "def ROC_SVM(X_train, y_train, X_test, y_test) :\n",
    "    \"\"\"\n",
    "    This function computes the receiver operating characteristic curve values of the SVM model. \n",
    "\n",
    "    Parameters\n",
    "    ----------\n",
    "    X_train : an Nxp-dimensionnal numpy array - the train predictors\n",
    "    y_train : an N-dimensionnal numpy array - the train targets\n",
    "    X_test : an Nxp-dimensionnal numpy array - the test predictors\n",
    "    y_test : an N-dimensionnal numpy array - the test targets\n",
    "\n",
    "    Returns\n",
    "    -------\n",
    "    FPR : an M-dimensionnal numpy array - the false positive rates \n",
    "    TPR : an M-dimensionnal numpy array- the true positive rates\n",
    "    \"\"\"\n",
    "    \n",
    "    lambdas = np.linspace(start = 0.001, stop = 50000, num = 300) # Scanning lambdas\n",
    "    \n",
    "    FPR = np.zeros(lambdas.shape[0])\n",
    "    TPR = np.zeros(lambdas.shape[0])\n",
    "    \n",
    "    for i, lbda in enumerate(lambdas) :\n",
    "        \n",
    "        # Training\n",
    "        w = sgd(X = X_train, y = y_train, regul_strength = lbda)\n",
    "        \n",
    "        # Confusion matrix\n",
    "        TP, TN, FP, FN, _ = getConfusionMatrixSVM(w = w, X_test = X_test, \\\n",
    "                                                        y_test = y_test)\n",
    "        try : # Avoid divisions by zero\n",
    "            FPR[i] = FP / (FP + TN) # False positive rate\n",
    "            TPR[i] = TP / (TP + FN) # True positive rate\n",
    "        except :\n",
    "            FPR[i] = -1.0\n",
    "            TPR[i] = -1.0\n",
    "        \n",
    "    FPR = FPR[FPR != -1.0] # Removing \n",
    "    TPR = TPR[TPR != -1.0]\n",
    "        \n",
    "    return FPR, TPR\n",
    "    "
   ]
  },
  {
   "cell_type": "code",
   "execution_count": 958,
   "metadata": {},
   "outputs": [],
   "source": [
    "# Computing best hyperparameter ROC point (FPR,TPR)\n",
    "        \n",
    "# Confusion matrix\n",
    "bestTP, bestTN, bestFP, bestFN, _ = getConfusionMatrixSVM(w = wBest, X_test = testingDataArray[:,1:32], \\\n",
    "                                                        y_test = testingDataArray[:,32])\n",
    "\n",
    "bestLbdaFPR = bestFP / (bestFP + bestTN) # False positive rate\n",
    "bestLbdaTPR = bestTP / (bestTP + bestFN) # True positive rate"
   ]
  },
  {
   "cell_type": "code",
   "execution_count": 959,
   "metadata": {},
   "outputs": [],
   "source": [
    "# Computing ROC\n",
    "FPR, TPR = ROC_SVM(X_train = dataArray[:,1:32], y_train = dataArray[:,32], \\\n",
    "        X_test = testingDataArray[:,1:32], y_test = testingDataArray[:,32])"
   ]
  },
  {
   "cell_type": "code",
   "execution_count": 960,
   "metadata": {},
   "outputs": [
    {
     "data": {
      "text/plain": [
       "<matplotlib.collections.PathCollection at 0x7fc9d0c28730>"
      ]
     },
     "execution_count": 960,
     "metadata": {},
     "output_type": "execute_result"
    },
    {
     "data": {
      "image/png": "[encoded data removed]",
      "text/plain": [
       "<Figure size 432x288 with 1 Axes>"
      ]
     },
     "metadata": {
      "needs_background": "light"
     },
     "output_type": "display_data"
    }
   ],
   "source": [
    "# Plotting ROC\n",
    "plt.figure()\n",
    "title = 'Receiver operating characteristic curve of the SVM model \\n'\n",
    "plt.title(title)\n",
    "plt.xlabel('FPR')\n",
    "plt.ylabel('TPR')\n",
    "plt.xlim([-0.01,1.1])\n",
    "plt.ylim([-0.01,1.1])\n",
    "plt.plot([i for i in range(2)], [i for i in range(2)], color = 'green', ls = '--')\n",
    "plt.scatter(FPR, TPR, s=5)\n",
    "plt.scatter(bestLbdaFPR, bestLbdaTPR, s=25, color = 'red')"
   ]
  },
  {
   "cell_type": "markdown",
   "metadata": {},
   "source": [
    "We display in red the pair (FPR,TPR) computed using our optimal hyperparameter. We are ideally seeking for the smallest false positive rate along with the greatest true positive rate possible. For our optimal $\\lambda$, we have a false positive rate of 0, displaying the fact that no false positives arise from our predictions. Although the computed hyperparameter does not maximize the true positive rate for this given false positive rate level, the performance of the model remains fairly high, being substantially better than a uniform random selection process symbolized by the dashed line.  \n",
    "\n",
    "### 2.3.3 Using balanced data\n",
    "\n",
    "We now retrain our model on a balanced dataset and further compare its performance with our previously trained SVM model."
   ]
  },
  {
   "cell_type": "code",
   "execution_count": 931,
   "metadata": {},
   "outputs": [
    {
     "data": {
      "text/html": [
       "<div>\n",
       "<style scoped>\n",
       "    .dataframe tbody tr th:only-of-type {\n",
       "        vertical-align: middle;\n",
       "    }\n",
       "\n",
       "    .dataframe tbody tr th {\n",
       "        vertical-align: top;\n",
       "    }\n",
       "\n",
       "    .dataframe thead th {\n",
       "        text-align: right;\n",
       "    }\n",
       "</style>\n",
       "<table border=\"1\" class=\"dataframe\">\n",
       "  <thead>\n",
       "    <tr style=\"text-align: right;\">\n",
       "      <th></th>\n",
       "      <th>Unnamed: 0</th>\n",
       "      <th>n1_radius</th>\n",
       "      <th>n1_texture</th>\n",
       "      <th>n1_perimeter</th>\n",
       "      <th>n1_area</th>\n",
       "      <th>n1_smoothness</th>\n",
       "      <th>n1_compactness</th>\n",
       "      <th>n1_concavity</th>\n",
       "      <th>n1_concave_points</th>\n",
       "      <th>n1_symmetry</th>\n",
       "      <th>...</th>\n",
       "      <th>n3_texture</th>\n",
       "      <th>n3_perimeter</th>\n",
       "      <th>n3_area</th>\n",
       "      <th>n3_smoothness</th>\n",
       "      <th>n3_compactness</th>\n",
       "      <th>n3_concavity</th>\n",
       "      <th>n3_concave_points</th>\n",
       "      <th>n3_symmetry</th>\n",
       "      <th>n3_fractal_dimension</th>\n",
       "      <th>DIAGNOSIS</th>\n",
       "    </tr>\n",
       "  </thead>\n",
       "  <tbody>\n",
       "    <tr>\n",
       "      <th>627</th>\n",
       "      <td>627</td>\n",
       "      <td>12.087899</td>\n",
       "      <td>16.205290</td>\n",
       "      <td>87.017535</td>\n",
       "      <td>547.339343</td>\n",
       "      <td>0.086909</td>\n",
       "      <td>0.081002</td>\n",
       "      <td>0.051634</td>\n",
       "      <td>0.029736</td>\n",
       "      <td>0.167734</td>\n",
       "      <td>...</td>\n",
       "      <td>19.771306</td>\n",
       "      <td>92.575634</td>\n",
       "      <td>621.673267</td>\n",
       "      <td>0.136089</td>\n",
       "      <td>0.263930</td>\n",
       "      <td>0.328388</td>\n",
       "      <td>0.086810</td>\n",
       "      <td>0.294363</td>\n",
       "      <td>0.077496</td>\n",
       "      <td>B</td>\n",
       "    </tr>\n",
       "    <tr>\n",
       "      <th>159</th>\n",
       "      <td>159</td>\n",
       "      <td>14.999447</td>\n",
       "      <td>23.003345</td>\n",
       "      <td>90.973309</td>\n",
       "      <td>524.088231</td>\n",
       "      <td>0.089497</td>\n",
       "      <td>0.099329</td>\n",
       "      <td>0.053181</td>\n",
       "      <td>0.033369</td>\n",
       "      <td>0.170500</td>\n",
       "      <td>...</td>\n",
       "      <td>27.307626</td>\n",
       "      <td>115.205086</td>\n",
       "      <td>1082.041301</td>\n",
       "      <td>0.132672</td>\n",
       "      <td>0.320725</td>\n",
       "      <td>0.350721</td>\n",
       "      <td>0.143251</td>\n",
       "      <td>0.301848</td>\n",
       "      <td>0.098601</td>\n",
       "      <td>M</td>\n",
       "    </tr>\n",
       "    <tr>\n",
       "      <th>390</th>\n",
       "      <td>390</td>\n",
       "      <td>22.073516</td>\n",
       "      <td>17.604050</td>\n",
       "      <td>138.498180</td>\n",
       "      <td>1425.432345</td>\n",
       "      <td>0.091908</td>\n",
       "      <td>0.084731</td>\n",
       "      <td>0.098110</td>\n",
       "      <td>0.073845</td>\n",
       "      <td>0.164388</td>\n",
       "      <td>...</td>\n",
       "      <td>25.125070</td>\n",
       "      <td>196.732308</td>\n",
       "      <td>3150.579304</td>\n",
       "      <td>0.134453</td>\n",
       "      <td>0.163258</td>\n",
       "      <td>0.293642</td>\n",
       "      <td>0.194618</td>\n",
       "      <td>0.253306</td>\n",
       "      <td>0.064516</td>\n",
       "      <td>M</td>\n",
       "    </tr>\n",
       "    <tr>\n",
       "      <th>52</th>\n",
       "      <td>52</td>\n",
       "      <td>19.262679</td>\n",
       "      <td>19.147128</td>\n",
       "      <td>124.310868</td>\n",
       "      <td>1155.136280</td>\n",
       "      <td>0.116959</td>\n",
       "      <td>0.170659</td>\n",
       "      <td>0.249389</td>\n",
       "      <td>0.109277</td>\n",
       "      <td>0.204006</td>\n",
       "      <td>...</td>\n",
       "      <td>27.899546</td>\n",
       "      <td>173.840392</td>\n",
       "      <td>2327.501525</td>\n",
       "      <td>0.145617</td>\n",
       "      <td>0.356979</td>\n",
       "      <td>0.660332</td>\n",
       "      <td>0.226506</td>\n",
       "      <td>0.322246</td>\n",
       "      <td>0.091355</td>\n",
       "      <td>M</td>\n",
       "    </tr>\n",
       "    <tr>\n",
       "      <th>714</th>\n",
       "      <td>714</td>\n",
       "      <td>12.458203</td>\n",
       "      <td>21.399172</td>\n",
       "      <td>77.306696</td>\n",
       "      <td>454.998813</td>\n",
       "      <td>0.100990</td>\n",
       "      <td>0.097003</td>\n",
       "      <td>0.056405</td>\n",
       "      <td>0.030843</td>\n",
       "      <td>0.150244</td>\n",
       "      <td>...</td>\n",
       "      <td>29.517417</td>\n",
       "      <td>88.260510</td>\n",
       "      <td>555.457650</td>\n",
       "      <td>0.142491</td>\n",
       "      <td>0.233752</td>\n",
       "      <td>0.132008</td>\n",
       "      <td>0.080336</td>\n",
       "      <td>0.235747</td>\n",
       "      <td>0.089882</td>\n",
       "      <td>B</td>\n",
       "    </tr>\n",
       "  </tbody>\n",
       "</table>\n",
       "<p>5 rows × 32 columns</p>\n",
       "</div>"
      ],
      "text/plain": [
       "     Unnamed: 0  n1_radius  n1_texture  n1_perimeter      n1_area  \\\n",
       "627         627  12.087899   16.205290     87.017535   547.339343   \n",
       "159         159  14.999447   23.003345     90.973309   524.088231   \n",
       "390         390  22.073516   17.604050    138.498180  1425.432345   \n",
       "52           52  19.262679   19.147128    124.310868  1155.136280   \n",
       "714         714  12.458203   21.399172     77.306696   454.998813   \n",
       "\n",
       "     n1_smoothness  n1_compactness  n1_concavity  n1_concave_points  \\\n",
       "627       0.086909        0.081002      0.051634           0.029736   \n",
       "159       0.089497        0.099329      0.053181           0.033369   \n",
       "390       0.091908        0.084731      0.098110           0.073845   \n",
       "52        0.116959        0.170659      0.249389           0.109277   \n",
       "714       0.100990        0.097003      0.056405           0.030843   \n",
       "\n",
       "     n1_symmetry  ...  n3_texture  n3_perimeter      n3_area  n3_smoothness  \\\n",
       "627     0.167734  ...   19.771306     92.575634   621.673267       0.136089   \n",
       "159     0.170500  ...   27.307626    115.205086  1082.041301       0.132672   \n",
       "390     0.164388  ...   25.125070    196.732308  3150.579304       0.134453   \n",
       "52      0.204006  ...   27.899546    173.840392  2327.501525       0.145617   \n",
       "714     0.150244  ...   29.517417     88.260510   555.457650       0.142491   \n",
       "\n",
       "     n3_compactness  n3_concavity  n3_concave_points  n3_symmetry  \\\n",
       "627        0.263930      0.328388           0.086810     0.294363   \n",
       "159        0.320725      0.350721           0.143251     0.301848   \n",
       "390        0.163258      0.293642           0.194618     0.253306   \n",
       "52         0.356979      0.660332           0.226506     0.322246   \n",
       "714        0.233752      0.132008           0.080336     0.235747   \n",
       "\n",
       "     n3_fractal_dimension  DIAGNOSIS  \n",
       "627              0.077496          B  \n",
       "159              0.098601          M  \n",
       "390              0.064516          M  \n",
       "52               0.091355          M  \n",
       "714              0.089882          B  \n",
       "\n",
       "[5 rows x 32 columns]"
      ]
     },
     "execution_count": 931,
     "metadata": {},
     "output_type": "execute_result"
    }
   ],
   "source": [
    "# Load balanced tumour data into a pandas dataframe \n",
    "df_tumour_bal = pd.read_csv(\"tumour_samples_bal.csv\")\n",
    "# Shuffling\n",
    "df_tumour_bal = df_tumour_bal.sample(frac=1)\n",
    "# Displaying the first five rows\n",
    "df_tumour_bal.head()"
   ]
  },
  {
   "cell_type": "code",
   "execution_count": 932,
   "metadata": {},
   "outputs": [
    {
     "name": "stdout",
     "output_type": "stream",
     "text": [
      "Number of M in balanced dataset = 400\n",
      "Number of B in balanced dataset = 400\n"
     ]
    }
   ],
   "source": [
    "# Displaying the structure of this 'balanced' dataset\n",
    "balDataArray = df_tumour_bal.to_numpy()\n",
    "print('Number of M in balanced dataset = ' + str(list(balDataArray[:,31]).count('M')))\n",
    "print('Number of B in balanced dataset = ' + str(list(balDataArray[:,31]).count('B')))"
   ]
  },
  {
   "cell_type": "code",
   "execution_count": 933,
   "metadata": {},
   "outputs": [],
   "source": [
    "# Serializing the classes : 'M' becomes 1.0 and 'B' becomes -1.0\n",
    "serialMap = {'M': 1.0, 'B': -1.0}\n",
    "length = len(balDataArray[:,31])\n",
    "balDataArray[:,31] = [serialMap[balDataArray[i,31]] for i in range(length)]\n",
    "\n",
    "# Standardization\n",
    "balDataArray[:,1:31] = (balDataArray[:,1:31] - np.mean(balDataArray[:,1:31])) / np.std(balDataArray[:,1:31])\n",
    "\n",
    "# Augmenting dataArray to fit intercept \n",
    "balDataArray = np.insert(balDataArray, 31, 1, axis=1)\n",
    "\n",
    "# Adding a row at the end to fit our fiveFoldValidationSVM function which drops the last row \n",
    "# In order for the set length to be dividable by 5, which is the case here without dropping last row\n",
    "balDataArrayFF = np.insert(balDataArray, 800, 0, axis=0)"
   ]
  },
  {
   "cell_type": "code",
   "execution_count": 934,
   "metadata": {},
   "outputs": [
    {
     "name": "stdout",
     "output_type": "stream",
     "text": [
      "Cross-validation for lambda = 0.001 gives a mean of accuracies = 0.5\n",
      "Cross-validation for lambda = 151.51600000000002 gives a mean of accuracies = 0.67\n",
      "Cross-validation for lambda = 303.031 gives a mean of accuracies = 0.7537499999999999\n",
      "Cross-validation for lambda = 454.546 gives a mean of accuracies = 0.8887499999999999\n",
      "Cross-validation for lambda = 606.061 gives a mean of accuracies = 0.88375\n",
      "Cross-validation for lambda = 757.576 gives a mean of accuracies = 0.81125\n",
      "Cross-validation for lambda = 909.091 gives a mean of accuracies = 0.8625\n"
     ]
    }
   ],
   "source": [
    "# Computing the optimal hyperparameter based on accuracy for balanced data\n",
    "bestLambdaSVM_bal, lambdas, accuracies_bal, best_lambda_ind_bal = \\\n",
    "chooseBestLambdaSVM(dataArray = balDataArrayFF, returnArray = True)"
   ]
  },
  {
   "cell_type": "code",
   "execution_count": 965,
   "metadata": {},
   "outputs": [
    {
     "name": "stdout",
     "output_type": "stream",
     "text": [
      "Optimal λ = 989.8990000000001\n",
      "Maximum mean of accuracies = 0.9099999999999999\n"
     ]
    }
   ],
   "source": [
    "# Optimal lambda hyperparameter for SVM - Balanced data\n",
    "print('Optimal λ = ' + str(bestLambdaSVM_bal))\n",
    "# Corresponding mean of accuracies\n",
    "print('Maximum mean of accuracies = ' + str(accuracies_bal[best_lambda_ind_bal]))"
   ]
  },
  {
   "cell_type": "code",
   "execution_count": 936,
   "metadata": {},
   "outputs": [
    {
     "data": {
      "text/plain": [
       "[<matplotlib.lines.Line2D at 0x7fc9b3e80940>]"
      ]
     },
     "execution_count": 936,
     "metadata": {},
     "output_type": "execute_result"
    },
    {
     "data": {
      "image/png": "[encoded data removed]",
      "text/plain": [
       "<Figure size 432x288 with 1 Axes>"
      ]
     },
     "metadata": {
      "needs_background": "light"
     },
     "output_type": "display_data"
    }
   ],
   "source": [
    "# Plotting mean of accuracies against different lambdas : SVM - Balanced data\n",
    "plt.figure()\n",
    "title = 'Mean of accuracies computed using five-fold cross-validation against hyperparameter $\\lambda$ - Balanced data \\n'\n",
    "plt.title(title)\n",
    "plt.xlabel('$\\lambda$')\n",
    "plt.ylabel('Mean of accuracies')\n",
    "plt.plot(lambdas,accuracies_bal)"
   ]
  },
  {
   "cell_type": "code",
   "execution_count": 937,
   "metadata": {},
   "outputs": [
    {
     "name": "stdout",
     "output_type": "stream",
     "text": [
      "Iteration is: 1, Cost is: 729.6589588140864\n",
      "Iteration is: 2, Cost is: 749.6105160297783\n",
      "Iteration is: 4, Cost is: 652.0789393115103\n",
      "Iteration is: 8, Cost is: 513.080291567229\n",
      "Iteration is: 16, Cost is: 337.45865886478305\n",
      "Iteration is: 32, Cost is: 316.88312247139663\n",
      "Iteration is: 64, Cost is: 270.95437577238783\n",
      "Iteration is: 128, Cost is: 264.5983498250545\n",
      "Iteration is: 256, Cost is: 234.0511697328188\n",
      "Iteration is: 512, Cost is: 279.52731220367286\n",
      "Iteration is: 1024, Cost is: 234.21883153299018\n",
      "Iteration is: 1999, Cost is: 232.61187538655582\n"
     ]
    }
   ],
   "source": [
    "# Training the model with optimal lambda - Balanced data\n",
    "wBest_bal = sgd(X = balDataArray[:,1:32], y = balDataArray[:,32],\\\n",
    "                regul_strength = bestLambdaSVM_bal, print_outcome=True)"
   ]
  },
  {
   "cell_type": "code",
   "execution_count": 961,
   "metadata": {},
   "outputs": [
    {
     "name": "stdout",
     "output_type": "stream",
     "text": [
      "[[ 70  13]\n",
      " [  3 114]]\n"
     ]
    }
   ],
   "source": [
    "# Computing confusion matrix - Balanced data\n",
    "TP_bal, TN_bal, FP_bal, FN_bal, confusionMatrix_bal = getConfusionMatrixSVM(w = wBest_bal, \\\n",
    "                                                                            X_test = testingDataArray[:,1:32], \\\n",
    "                                                        y_test = testingDataArray[:,32])\n",
    "print(confusionMatrix_bal)"
   ]
  },
  {
   "cell_type": "code",
   "execution_count": 962,
   "metadata": {},
   "outputs": [],
   "source": [
    "# Computing ROC - Balanced data\n",
    "FPR_bal, TPR_bal = ROC_SVM(X_train = balDataArray[:,1:32], y_train = balDataArray[:,32], \\\n",
    "        X_test = testingDataArray[:,1:32], y_test = testingDataArray[:,32])"
   ]
  },
  {
   "cell_type": "code",
   "execution_count": 963,
   "metadata": {},
   "outputs": [],
   "source": [
    "# Computing best hyperparameter ROC point (FPR,TPR) - Balanced data\n",
    "        \n",
    "# Confusion matrix\n",
    "bestTP_bal, bestTN_bal, bestFP_bal, bestFN_bal, _ = getConfusionMatrixSVM(w = wBest_bal,\\\n",
    "                                                                          X_test = testingDataArray[:,1:32], \\\n",
    "                                                        y_test = testingDataArray[:,32])\n",
    "\n",
    "bestLbdaFPR_bal = bestFP_bal / (bestFP_bal + bestTN_bal) # False positive rate\n",
    "bestLbdaTPR_bal = bestTP_bal / (bestTP_bal + bestFN_bal) # True positive rate"
   ]
  },
  {
   "cell_type": "code",
   "execution_count": 964,
   "metadata": {},
   "outputs": [
    {
     "data": {
      "text/plain": [
       "<matplotlib.collections.PathCollection at 0x7fc9b5911670>"
      ]
     },
     "execution_count": 964,
     "metadata": {},
     "output_type": "execute_result"
    },
    {
     "data": {
      "image/png": "[encoded data removed]",
      "text/plain": [
       "<Figure size 432x288 with 1 Axes>"
      ]
     },
     "metadata": {
      "needs_background": "light"
     },
     "output_type": "display_data"
    }
   ],
   "source": [
    "# Plotting ROC - Balanced data\n",
    "plt.figure()\n",
    "title = 'Receiver operating characteristic curve of the SVM model - using balanced data \\n'\n",
    "plt.title(title)\n",
    "plt.xlabel('FPR')\n",
    "plt.ylabel('TPR')\n",
    "plt.xlim([-0.01,1.1])\n",
    "plt.ylim([-0.01,1.1])\n",
    "plt.plot([i for i in range(2)], [i for i in range(2)], color = 'green', ls = '--')\n",
    "plt.scatter(FPR_bal, TPR_bal, s=5)\n",
    "plt.scatter(bestLbdaFPR_bal, bestLbdaTPR_bal, s=25, color = 'red')"
   ]
  },
  {
   "cell_type": "markdown",
   "metadata": {},
   "source": [
    "Training our SVM model on a balanced data set - that is to say on a data set where both classes are balanced in size - produces a receiver operating characteristic curve where optimal hyperparameters maintain the true positive rate to 1 (since no or little false negatives are predicted with said model). The relationship between the predictors and the true targets may perhaps be understood better by our model since such pairs occur more often in said balanced training dataset. Such a true positive rate can be achieved along with a rather good false positive rate (below 0.15). Notice also that for balanced data, the model performs rather similarly well than the unbalanced dataset, even though it has roughly 3 times less annotated training samples available (800 against 2566). As said previously, $\\textit{having less false negatives for a little bit more of false positives is more acceptable in this medical context}$, and thus one may prefer this balanced training set for producing a better suited model. "
   ]
  },
  {
   "cell_type": "markdown",
   "metadata": {
    "id": "MlwygRTDy1fb"
   },
   "source": [
    "<a name=\"task-3\"></a>\n",
    "\n",
    "# Task 3: Mastery Component [^](#outline)"
   ]
  },
  {
   "cell_type": "markdown",
   "metadata": {
    "id": "NdYowG2Ny1qx"
   },
   "source": [
    "<a name=\"q31\"></a>\n",
    "\n",
    "## 3.1 Logistic regression and bagging  [^](#outline)\n",
    "\n",
    "Once again, we seek to classify tumour samples that can belong to one of two given classes. We here use logistic regression to perform this task. Namely, we compute the probability of belonging to one of the classes by using the logistic function as follows : $P(y=1) = \\frac{1}{1 + e^{-\\mathbf{x}^T\\mathbf{\\beta}}}$. The vector $\\beta$ is a parameter to be found by maximizing the log-likelihood : $L = \\sum_i^N y^{(i)} \\log h_{\\beta}(\\mathbf{x}^{(i)}) + (1-y^{(i)}) \\log (1 - h_{\\beta}(\\mathbf{x}^{(i)}))$. Once a such $\\beta$ has been found, we compute our predictions by using a threshold $\\tau$ such that if $P(y=1|\\mathbf{x}^{in}) > \\tau$ then we have $\\mathbf{x}^{in} = 1$.\n",
    "\n",
    "### 3.1.1 Training \n",
    "\n",
    "We train this model on the same tumour samples training data set used previously. We approximate a vector $\\beta$ maximizing the log-likelihood using graident descent. The threshold considered here is $\\tau = 0.5$. \n",
    "\n",
    "Once again, we $\\textbf{rely on the weekly coding tasks solutions}$, and further $\\textbf{modify them to suit our current problem}$. "
   ]
  },
  {
   "cell_type": "code",
   "execution_count": 1063,
   "metadata": {},
   "outputs": [
    {
     "name": "stdout",
     "output_type": "stream",
     "text": [
      "['B' 'B' 'B' ... 'B' 'B' 'B']\n",
      "[0 0 0 ... 0 0 0]\n"
     ]
    }
   ],
   "source": [
    "# In the weekly Coding Task solution functions, you may find my custom comments in the form of ### _____ ###\n",
    "\n",
    "# Serializing the classes : 'M' becomes 1 and 'B' becomes 0\n",
    "dataArray = df_tumour.to_numpy()\n",
    "print(dataArray[:,31])\n",
    "serialMap = {'M': 1, 'B': 0}\n",
    "length = len(dataArray[:,31])\n",
    "dataArray[:,31] = [serialMap[dataArray[i,31]] for i in range(length)]\n",
    "print(dataArray[:,31])\n",
    "\n",
    "# Standardization\n",
    "dataArray[:,1:31] = (dataArray[:,1:31] - np.mean(dataArray[:,1:31])) / np.std(dataArray[:,1:31])"
   ]
  },
  {
   "cell_type": "code",
   "execution_count": 1064,
   "metadata": {},
   "outputs": [],
   "source": [
    "## SLIGHTLY MODIFYING THOSE CT4 SOLUTION FUNCTION ## \n",
    "### All 'slight modifications' proceed from small implementation differences between the CT and the coursework \n",
    "# to be fixed \n",
    "def logistic(x):\n",
    "    x = x.astype(float)\n",
    "    return 1. / (1. + np.exp(-x)) \n",
    "\n",
    "def predict_log(X, beta, beta_0):\n",
    "  y_log = logistic(X.T @ beta + beta_0) \n",
    "  return y_log.squeeze()"
   ]
  },
  {
   "cell_type": "code",
   "execution_count": 1065,
   "metadata": {},
   "outputs": [],
   "source": [
    "## SLIGHTLY MODIFYING THIS CT4 SOLUTION FUNCTION ## \n",
    "\n",
    "def initialise(d):\n",
    "  \"\"\"    \n",
    "  Argument:\n",
    "  d: size of the beta vector (or number of parameters)\n",
    "  \n",
    "  Returns:\n",
    "  beta: initialised vector of shape (d, 1)\n",
    "  beta_0: initialised scalar (corresponds to the offset)\n",
    "  \"\"\"\n",
    "  \n",
    "  beta = np.zeros(shape=(d, 1), dtype=np.float32)\n",
    "  beta_0 = 0\n",
    "  \n",
    "  assert(beta.shape==(d, 1))\n",
    "  assert(isinstance(beta_0, float) or isinstance(beta_0, int))\n",
    "  \n",
    "  return beta, beta_0"
   ]
  },
  {
   "cell_type": "code",
   "execution_count": 1066,
   "metadata": {},
   "outputs": [],
   "source": [
    "## SLIGHTLY MODIFYING THIS CT4 SOLUTION FUNCTION ## \n",
    "\n",
    "def propagate(X, y, beta, beta_0):\n",
    "  \"\"\"\n",
    "  Arguments:\n",
    "  X: data of size (d, n)\n",
    "  y: true label vector of size (1, n)\n",
    "  beta: parameters, a numpy array of size (d, 1)\n",
    "  beta_0: offset, a scalar\n",
    "\n",
    "  Returns:\n",
    "  cost: negative log-likelihood cost for logistic regression\n",
    "  dbeta: gradient of the loss with respect to beta\n",
    "  dbeta_0: gradient of the loss with respect to beta_0\n",
    "  \"\"\"\n",
    "  n = X.shape[1]\n",
    "  y_log = predict_log(X, beta, beta_0)\n",
    "\n",
    "  # cost function\n",
    "  cost = - (y * np.log(y_log) + (1-y) * np.log(1 - y_log)).mean()\n",
    "\n",
    "  # derivatives\n",
    "  dbeta = (X * (y_log - y)).mean(axis=1).reshape(-1, 1)\n",
    "  dbeta_0 =  (y_log - y).mean() \n",
    "\n",
    "  assert(dbeta.shape==beta.shape)\n",
    "  assert(type(dbeta_0)==float)\n",
    "  cost = np.squeeze(cost)\n",
    "  assert(cost.shape==())\n",
    "  \n",
    "  # store gradients in a dictionary\n",
    "  grads = {\"dbeta\": dbeta, \"dbeta_0\": dbeta_0}\n",
    "  \n",
    "  return grads, cost"
   ]
  },
  {
   "cell_type": "code",
   "execution_count": 1067,
   "metadata": {},
   "outputs": [],
   "source": [
    "## NOT MODIFYING THIS CT4 SOLUTION FUNCTION ## \n",
    "\n",
    "def optimise(X, y, beta, beta_0, num_iterations=5000, learning_rate=0.005, print_cost=False):\n",
    "  \"\"\"\n",
    "  Arguments:\n",
    "  X: data of size (d, n)\n",
    "  y: true label vector of size (1, n)\n",
    "  beta: parameters, a numpy array of size (d, 1)\n",
    "  beta_0: offset, a scalar\n",
    "  num_iterations: number of iterations gradient descent shall update the parameters\n",
    "  learning_rate: step size in updating procedure\n",
    "  print_cost: whether to print the cost every 500 iterations or not\n",
    "\n",
    "  Returns:\n",
    "  params: dictionary containing the parameters beta and offset beta_0\n",
    "  grads: dictionary containing the gradients\n",
    "  costs: list of all the costs computed during the optimisation (can be used to plot the learning curve).\n",
    "  \"\"\"\n",
    "  costs = []\n",
    "    \n",
    "  for i in range(num_iterations):\n",
    "\n",
    "      # calculate cost and gradients (hint: use your existing functions)\n",
    "      grads, cost = propagate(X, y, beta, beta_0) \n",
    "      \n",
    "      # retrieve derivatives from grads\n",
    "      dbeta = grads[\"dbeta\"]\n",
    "      dbeta_0 = grads[\"dbeta_0\"]\n",
    "      \n",
    "      # updating procedure\n",
    "      beta = beta - learning_rate * dbeta  \n",
    "      beta_0 = beta_0 - learning_rate * dbeta_0  \n",
    "      \n",
    "      # record the costs\n",
    "      if i % 100 == 0:\n",
    "          costs.append(cost)\n",
    "      \n",
    "      # print the cost every 500 iterations\n",
    "      if print_cost and i % 500 == 0:\n",
    "          print (\"cost after iteration %i: %f\" %(i, cost))\n",
    "  \n",
    "  # save parameters and gradients in dictionary\n",
    "  params = {\"beta\": beta, \"beta_0\": beta_0}\n",
    "  grads = {\"dbeta\": dbeta, \"dbeta_0\": dbeta_0}\n",
    "  \n",
    "  return params, grads, costs"
   ]
  },
  {
   "cell_type": "code",
   "execution_count": 1104,
   "metadata": {},
   "outputs": [],
   "source": [
    "## SLIGHTLY MODIFYING THIS CT4 SOLUTION FUNCTION ## \n",
    "\n",
    "def predict(X_test, beta, beta_0):\n",
    "  \"\"\"\n",
    "  Arguments:\n",
    "  X_test: test data of size (d, n)\n",
    "  beta: parameters, a numpy array of size (d, 1)\n",
    "  beta_0: offset, a scalar\n",
    "\n",
    "  Returns:\n",
    "  y_pred: vector containing all binary predictions (0/1) for the examples in X_test\n",
    "  y_log: vector containing the probabilities of belonging to each classes \n",
    "  \"\"\"\n",
    "  n = X_test.shape[1]\n",
    "  y_pred = np.zeros((1,n))\n",
    "  beta = beta.reshape(X_test.shape[0], 1)\n",
    "  \n",
    "  # compute vector y_log predicting the probabilities\n",
    "  y_log = predict_log(X_test, beta, beta_0)\n",
    "  \n",
    "  ### Rounding - Equivalent to having a threshold tau = 0.5 ###\n",
    "  y_pred = y_log.round().reshape(1, -1) \n",
    "  \n",
    "  assert(y_pred.shape==(1, n))\n",
    "  \n",
    "  return y_pred, y_log"
   ]
  },
  {
   "cell_type": "markdown",
   "metadata": {},
   "source": [
    "We here use $\\texttt{np.round()}$ which rounds the probabilities to the closest integer. This process is equivalent to setting a threshold $\\tau = 0.5$. "
   ]
  },
  {
   "cell_type": "code",
   "execution_count": 1080,
   "metadata": {},
   "outputs": [
    {
     "data": {
      "text/plain": [
       "array([0., 1., 0., 0., 1.])"
      ]
     },
     "execution_count": 1080,
     "metadata": {},
     "output_type": "execute_result"
    }
   ],
   "source": [
    "test = np.array([0.1,0.7,0.5,0.1,0.9])\n",
    "test.round()"
   ]
  },
  {
   "cell_type": "code",
   "execution_count": 1069,
   "metadata": {},
   "outputs": [
    {
     "name": "stdout",
     "output_type": "stream",
     "text": [
      "cost after iteration 0: 0.693147\n",
      "cost after iteration 500: 0.425759\n",
      "cost after iteration 1000: 0.333783\n",
      "cost after iteration 1500: 0.285486\n",
      "cost after iteration 2000: 0.255836\n",
      "cost after iteration 2500: 0.235765\n",
      "cost after iteration 3000: 0.221255\n",
      "cost after iteration 3500: 0.210259\n",
      "cost after iteration 4000: 0.201628\n",
      "cost after iteration 4500: 0.194667\n"
     ]
    }
   ],
   "source": [
    "# Computing beta on training set \n",
    "initialBeta, initialBeta0 = initialise(dataArray[:,1:31].shape[1])\n",
    "params, grads, costs = optimise(X = dataArray[:,1:31].T, y = dataArray[:,31],\\\n",
    "                                beta = initialBeta, beta_0 = initialBeta0, \\\n",
    "                                num_iterations=5000, \\\n",
    "                                learning_rate=0.005, print_cost = True)"
   ]
  },
  {
   "cell_type": "code",
   "execution_count": 1105,
   "metadata": {},
   "outputs": [],
   "source": [
    "def accuracyLogisticReg(X_train, y_train, X_test, y_test,  num_iterations=5000, learning_rate=0.005) :\n",
    "    \"\"\"\n",
    "    This function computes the accuracy of the logistic regression model on a testing set.\n",
    "\n",
    "    Parameters\n",
    "    ----------\n",
    "    X_train : an pxN-dimensionnal numpy array - the train predictors\n",
    "    y_train : an N-dimensionnal numpy array - the train targets\n",
    "    X_test : an pxN-dimensionnal numpy array - the test predictors\n",
    "    y_test : an N-dimensionnal numpy array - the test targets\n",
    "    num_iterations : an integer - the maximum number of iterations for the gradient descent \n",
    "    learning_rate : a float number - the step size of the gradient descent \n",
    "\n",
    "    Returns\n",
    "    -------\n",
    "    accuracy : a float number - the accuracy of the model\n",
    "    \"\"\"\n",
    "    \n",
    "    # Initializing our parameter\n",
    "    initialBeta, initialBeta0 = initialise(X_train.shape[0])\n",
    "    \n",
    "    # Training \n",
    "    parameters, grads, costs = optimise(X = X_train, y = y_train, \\\n",
    "                                        beta = initialBeta, beta_0 = initialBeta0, \\\n",
    "                                        num_iterations = num_iterations, \\\n",
    "                                        learning_rate = learning_rate)\n",
    "    beta = parameters[\"beta\"]\n",
    "    beta0 = parameters[\"beta_0\"]\n",
    "    \n",
    "    # Predicting\n",
    "    yPredictions, _ = predict(X_test, beta, beta0)\n",
    "\n",
    "    # Accuracy\n",
    "    accuracy = 100 - np.mean(np.abs(yPredictions - y_test)) * 100 # Taken from CT4\n",
    "    \n",
    "    return accuracy "
   ]
  },
  {
   "cell_type": "code",
   "execution_count": 1113,
   "metadata": {},
   "outputs": [],
   "source": [
    "# Serializing the classes : 'M' becomes 1 and 'B' becomes 0\n",
    "testingDataArray = df_tumour_test.to_numpy()\n",
    "serialMap = {'M': 1, 'B': 0}\n",
    "length = len(testingDataArray[:,31])\n",
    "testingDataArray[:,31] = [serialMap[testingDataArray[i,31]] for i in range(length)]\n",
    "\n",
    "# Standardization\n",
    "testingDataArray[:,1:31] = (testingDataArray[:,1:31] - np.mean(testingDataArray[:,1:31])) \\\n",
    "/ np.std(testingDataArray[:,1:31])"
   ]
  },
  {
   "cell_type": "code",
   "execution_count": 1114,
   "metadata": {},
   "outputs": [
    {
     "name": "stdout",
     "output_type": "stream",
     "text": [
      "Accuracy of our logistic regression model = 82.5\n"
     ]
    }
   ],
   "source": [
    "# Accuracy on testing data\n",
    "accuracyLR = accuracyLogisticReg(X_train = dataArray[:,1:31].T, y_train = dataArray[:,31], \\\n",
    "          X_test = testingDataArray[:,1:31].T, y_test = testingDataArray[:,31])\n",
    "print('Accuracy of our logistic regression model = ' + str(accuracyLR))"
   ]
  },
  {
   "cell_type": "markdown",
   "metadata": {},
   "source": [
    "### 3.1.2 Bagging and logistic regression\n",
    "\n",
    "We now use the bagging process to improve our method, that is to say we draw $B$ random samples with replacement from our training dataset and we further train the model on each of said samples. We obtain $B$ vectors $\\beta_b$, which further gives us $B$ probability vectors for each new entry value to predict. We aggregate those probability vectors by computing their average. We then use the same threshold $\\tau = 0.5$ on this average vector to obtain our classification prediction.\n",
    "\n",
    "We use the 5-fold cross-validation process to find the optimal number of bootstrap samples $B$."
   ]
  },
  {
   "cell_type": "code",
   "execution_count": null,
   "metadata": {},
   "outputs": [],
   "source": [
    "def accuracyLogisticRegBagging(X_train, y_train, X_test, y_test, B, \\\n",
    "                               num_iterations=5000, learning_rate=0.005) :\n",
    "    \"\"\"\n",
    "    This function computes the accuracy of the logistic regression model on a testing set, using the \n",
    "    bagging process.\n",
    "\n",
    "    Parameters\n",
    "    ----------\n",
    "    X_train : an pxN-dimensionnal numpy array - the train predictors\n",
    "    y_train : an N-dimensionnal numpy array - the train targets\n",
    "    X_test : an pxN-dimensionnal numpy array - the test predictors\n",
    "    y_test : an N-dimensionnal numpy array - the test targets\n",
    "    B : an integer - the number of bootstrap samples\n",
    "    num_iterations : an integer - the maximum number of iterations for the gradient descent \n",
    "    learning_rate : a float number - the step size of the gradient descent \n",
    "\n",
    "    Returns\n",
    "    -------\n",
    "    accuracy : a float number - the accuracy of the model\n",
    "    \"\"\"\n",
    "    # Retreiving N\n",
    "    N = X_train.shape[1]\n",
    "    # Indices in X_train\n",
    "    training_indices = np.arange(N)\n",
    "    \n",
    "    # Number of elements per sample\n",
    "    sampleSize = N//2 # This could be another hyperparameter to fine tune \n",
    "    \n",
    "    # Vector containing the aggregate of probabilities \n",
    "    meanYlog = np.zeros(X_test.shape[1])\n",
    "    \n",
    "    for _ in range(B) :\n",
    "        \n",
    "        # Sampling - Size of samples is N//2\n",
    "        sample = np.random.choice(training_indices, sampleSize, replace=True) # Taken from CT6\n",
    "        X_sample = X_train[: , sample]\n",
    "        y_sample = y_train[sample] \n",
    "        \n",
    "    \n",
    "        # Initializing our parameter\n",
    "        initialBeta, initialBeta0 = initialise(X_sample.shape[0])\n",
    "\n",
    "        # Training \n",
    "        parameters, grads, costs = optimise(X = X_sample, y = y_sample, \\\n",
    "                                            beta = initialBeta, beta_0 = initialBeta0, \\\n",
    "                                            num_iterations = num_iterations, \\\n",
    "                                            learning_rate = learning_rate)\n",
    "        beta = parameters[\"beta\"]\n",
    "        beta0 = parameters[\"beta_0\"]\n",
    "\n",
    "        # Predicting\n",
    "        _, y_log = predict(X_test, beta, beta0)\n",
    "        \n",
    "        # Aggregating \n",
    "        meanYlog += y_log\n",
    "    \n",
    "    # Discretization\n",
    "    meanYlog = (1/B) * meanYlog\n",
    "    yPredictions = meanYlog.round().reshape(1, -1) \n",
    "\n",
    "    # Accuracy\n",
    "    accuracy = 100 - np.mean(np.abs(yPredictions - y_test)) * 100 # Taken from CT4\n",
    "    \n",
    "    return accuracy"
   ]
  },
  {
   "cell_type": "markdown",
   "metadata": {},
   "source": [
    "Notice that we chose here to set the samples size to $\\texttt{N//2}$. This choice is arbitrary and this hyperparameter could be fine tuned also using a cross-validation process.  "
   ]
  },
  {
   "cell_type": "code",
   "execution_count": 1120,
   "metadata": {},
   "outputs": [
    {
     "name": "stdout",
     "output_type": "stream",
     "text": [
      "Accuracy of our logistic regression model with bagging (B=3) = 82.5\n"
     ]
    }
   ],
   "source": [
    "accuracyLRwBagging = accuracyLogisticRegBagging(X_train = dataArray[:,1:31].T, y_train = dataArray[:,31], \\\n",
    "          X_test = testingDataArray[:,1:31].T, y_test = testingDataArray[:,31], B = 3)\n",
    "print('Accuracy of our logistic regression model with bagging (B=3) = ' + str(accuracyLRwBagging))"
   ]
  },
  {
   "cell_type": "code",
   "execution_count": 1121,
   "metadata": {},
   "outputs": [],
   "source": [
    "def fiveFoldValidationLR(dataArray, B) :\n",
    "    \"\"\"\n",
    "    This function computes the mean of accuracies of a five-fold cross-validation \n",
    "    of the logistic regression model with bagging.\n",
    "\n",
    "    Parameters\n",
    "    ----------\n",
    "    dataArray : an Nx(p+2)-dimensionnal numpy array containing both the predictors and the target value\n",
    "    B : an integer - the number of bootstrap samples\n",
    "\n",
    "    Returns\n",
    "    -------\n",
    "    meanAccuracy : a float number - the mean of accuracies of the five-fold cross-validation \n",
    "    \"\"\"\n",
    "    \n",
    "    accuracies = np.zeros(5) # Container for the accuracies \n",
    "\n",
    "    # As seen in coding task - List of five index arrays, each correspond to one of the five folds.\n",
    "    folds_indexes = np.split(np.arange(dataArray.shape[0]-1), 5) # We drop the last one to allow division by 5\n",
    "    \n",
    "    for i in range(5) : # Five fold\n",
    "\n",
    "        # Building validation subset\n",
    "        validationSubset  = dataArray[folds_indexes[i]] \n",
    "        training_indexes = [] # Initializing \n",
    "        # Building training subset\n",
    "        for j in range(5) :\n",
    "            if j != i : \n",
    "                training_indexes += list(folds_indexes[j])\n",
    "        trainingSubset = dataArray[training_indexes]\n",
    "        \n",
    "        \n",
    "        # Training and Validation\n",
    "        # On training subset\n",
    "        # On validation subset\n",
    "        accuracies[i] = accuracyLogisticRegBagging(X_train = trainingSubset[:,1:31].T, \\\n",
    "                                                   y_train = trainingSubset[:,31].T, \\\n",
    "                                                   X_test = validationSubset[:,1:31].T, \\\n",
    "                                                   y_test = validationSubset[:,31].T, \\\n",
    "                                                   B = B)\n",
    "         \n",
    "    \n",
    "    return np.mean(accuracies)"
   ]
  },
  {
   "cell_type": "code",
   "execution_count": 1130,
   "metadata": {},
   "outputs": [],
   "source": [
    "def chooseBestBlogisticReg(dataArray, returnArray = False):\n",
    "    \"\"\"\n",
    "    This function computes the optimal hyperparameter B by using a five-fold cross-validation\n",
    "    method for the logistic regression with bagging.\n",
    "\n",
    "    Parameters\n",
    "    ----------\n",
    "    dataArray : an Nx(p+2)-dimensionnal numpy array containing both the predictors and the target value\n",
    "    returnArray : boolean value - if set to True the function returns the arrays containing the means \n",
    "        of accuracies and the tested B \n",
    "\n",
    "    Returns\n",
    "    -------\n",
    "    best_B : an integer - the optimal hyperparameter\n",
    "    Blist : an M-dimensionnal numpy array containing the tested B\n",
    "    BAcc : an M-dimensionnal numpy array containing the means of accuracies\n",
    "    best_B_ind : an integer - the optimal B index in Blist\n",
    "    \n",
    "    \"\"\"\n",
    "    # Initialization\n",
    "    Blist = np.arange(start = 2, stop = 30, step = 3) # Scanning B\n",
    "    accuracies = np.zeros(Blist.shape[0])\n",
    "    \n",
    "    for i, B in enumerate(Blist) :\n",
    "        # Maximizing mean of accuracies\n",
    "        accuracies[i] = fiveFoldValidationLR(dataArray = dataArray, B = B)\n",
    "        print('Cross-validation for B = ' + str(B) + ' gives a mean of accuracies = '\\\n",
    "                  + str(accuracies[i]))\n",
    "        \n",
    "    best_B_ind = np.argmax(accuracies) # A maximizer of means of accuracies\n",
    "    \n",
    "    if returnArray :\n",
    "        return Blist[best_B_ind], Blist, accuracies, best_B_ind\n",
    "    \n",
    "    return Blist[best_B_ind]"
   ]
  },
  {
   "cell_type": "code",
   "execution_count": 1132,
   "metadata": {},
   "outputs": [
    {
     "name": "stdout",
     "output_type": "stream",
     "text": [
      "Cross-validation for B = 2 gives a mean of accuracies = 94.11306042884989\n",
      "Cross-validation for B = 5 gives a mean of accuracies = 94.07407407407406\n",
      "Cross-validation for B = 8 gives a mean of accuracies = 94.26900584795322\n",
      "Cross-validation for B = 11 gives a mean of accuracies = 94.19103313840155\n",
      "Cross-validation for B = 14 gives a mean of accuracies = 93.99610136452242\n",
      "Cross-validation for B = 17 gives a mean of accuracies = 94.15204678362572\n",
      "Cross-validation for B = 20 gives a mean of accuracies = 94.15204678362572\n",
      "Cross-validation for B = 23 gives a mean of accuracies = 94.03508771929823\n",
      "Cross-validation for B = 26 gives a mean of accuracies = 93.9961013645224\n",
      "Cross-validation for B = 29 gives a mean of accuracies = 93.95711500974657\n"
     ]
    }
   ],
   "source": [
    "bestB, Blist, accuracies, best_B_ind = chooseBestBlogisticReg(dataArray = dataArray, returnArray = True)"
   ]
  },
  {
   "cell_type": "code",
   "execution_count": 1133,
   "metadata": {},
   "outputs": [
    {
     "name": "stdout",
     "output_type": "stream",
     "text": [
      "Optimal B = 8\n",
      "Maximum mean of accuracies = 94.26900584795322\n"
     ]
    }
   ],
   "source": [
    "# Optimal B hyperparameter for logistic regression with bagging\n",
    "print('Optimal B = ' + str(bestB))\n",
    "# Corresponding mean of accuracies\n",
    "print('Maximum mean of accuracies = ' + str(accuracies[best_B_ind]))"
   ]
  },
  {
   "cell_type": "markdown",
   "metadata": {},
   "source": [
    "### 3.1.3\n",
    "\n",
    "We now compare the accuracy obtained by the model with and without bagging, on the testing set, while using our optimal parameter $B=8$. "
   ]
  },
  {
   "cell_type": "code",
   "execution_count": 1134,
   "metadata": {},
   "outputs": [
    {
     "name": "stdout",
     "output_type": "stream",
     "text": [
      "Accuracy of our logistic regression model = 82.5\n"
     ]
    }
   ],
   "source": [
    "accuracyLR = accuracyLogisticReg(X_train = dataArray[:,1:31].T, y_train = dataArray[:,31], \\\n",
    "          X_test = testingDataArray[:,1:31].T, y_test = testingDataArray[:,31])\n",
    "print('Accuracy of our logistic regression model = ' + str(accuracyLR))"
   ]
  },
  {
   "cell_type": "code",
   "execution_count": 1135,
   "metadata": {},
   "outputs": [
    {
     "name": "stdout",
     "output_type": "stream",
     "text": [
      "Accuracy of our logistic regression model with bagging (B=8) = 83.0\n"
     ]
    }
   ],
   "source": [
    "accuracyLRwBaggingBestB = accuracyLogisticRegBagging(X_train = dataArray[:,1:31].T, y_train = dataArray[:,31], \\\n",
    "          X_test = testingDataArray[:,1:31].T, y_test = testingDataArray[:,31], B = bestB)\n",
    "print('Accuracy of our logistic regression model with bagging (B=8) = ' + str(accuracyLRwBaggingBestB))"
   ]
  },
  {
   "cell_type": "markdown",
   "metadata": {},
   "source": [
    "As we compute the predictions using the logistic regression model on the full training set we obtain an accuracy close to 94%. However, the accuracy computed on the unused testing set is rather lower (82.5%). This might highlight an overfitting of the model on the training data. We further use a bagging process, randomly sampling the training data and then aggregating the results in order to reduce the variability arising from any new entry data. Even though the accuracy obtained using bagging is better (83%), applying this method does not improve substantially the performance of our model on unseen data. Thus, one may prefer using one of our better performing previously seen models (SVM, Random forests).  "
   ]
  },
  {
   "cell_type": "markdown",
   "metadata": {
    "id": "9XbuLm6qy100"
   },
   "source": [
    "<a name=\"q32\"></a>\n",
    "\n",
    "## 3.2 Kernelised SVM classifier [^](#outline)\n",
    "\n",
    "We now perform the same classification task, again using a soft margin SVM, this time implementing a kernelised version of the method. Namely, we replace the dot products involved in the optimisation process of the classic SVM method by a non-linear kernel function. The kernel function maps two vectors to the dot product of a pair of nonlinearly transformed vectors of higher-dimension. The idea is to lift our data to a higher dimensional space, in which a separating hyperplane can be found with low penalties. In pratice, we choose those kernel functions such that we only have to compute a function of the usual dot-product. \n",
    "\n",
    "The kernel function we consider here is the Gaussian radial basis function given by $k(\\mathbf{x},\\mathbf{y}) = e^{\\frac{-||\\mathbf{x}-\\mathbf{y}||^2}{\\sigma}}$. \n",
    "\n",
    "In this new setting, we are seeking to minimize : $\\min_{\\mathbf{\\omega_z}} \\frac{1}{2}||\\mathbf{\\omega_z}||^2 + \\frac{\\lambda}{N} \\sum_i^N \\max(0,1-y^{(i)}(\\mathbf{\\omega_z}\\cdot\\mathbf{z}^{(i)}+b))$, where $\\mathbf{\\omega_z}\\cdot\\mathbf{z}^{(i)} = k(\\mathbf{\\omega},\\mathbf{x}^{(i)})$. \n",
    "\n",
    "### 3.2.1 Implementation\n",
    "\n",
    "Notice that $||\\mathbf{\\omega_z}||^2 = \\mathbf{\\omega_z} \\cdot \\mathbf{\\omega_z} = k(\\mathbf{\\omega},\\mathbf{\\omega}) = 1$. We thus seek to minimize : $\\sum_i^N \\max(0,1-y^{(i)}(k(\\mathbf{\\omega},\\mathbf{x}^{(i)})+b))$. The gradient sums either zeros or terms of the form $-\\frac{2}{\\sigma}y^{(i)}k(\\mathbf{\\omega},\\mathbf{x}^{(i)})(\\mathbf{\\omega}-\\mathbf{x}^{(i)}) $.\n",
    "\n",
    "We modify the functions implemented previously, and we build several new helper functions to perform this task."
   ]
  },
  {
   "cell_type": "code",
   "execution_count": 1291,
   "metadata": {},
   "outputs": [],
   "source": [
    "# In the weekly Coding Task solutions functions, you may find my custom comments in the form of ### _____ ###\n",
    "\n",
    "# Serializing the classes : 'M' becomes 1.0 and 'B' becomes -1.0\n",
    "dataArray = df_tumour.to_numpy()\n",
    "serialMap = {'M': 1.0, 'B': -1.0}\n",
    "length = len(dataArray[:,31])\n",
    "dataArray[:,31] = [serialMap[dataArray[i,31]] for i in range(length)]\n",
    "\n",
    "# Standardization\n",
    "dataArray[:,1:31] = (dataArray[:,1:31] - np.mean(dataArray[:,1:31])) / np.std(dataArray[:,1:31])\n",
    "\n",
    "# Augmenting dataArray to fit intercept \n",
    "#dataArray = np.insert(dataArray, 31, 1, axis=1)"
   ]
  },
  {
   "cell_type": "code",
   "execution_count": 1138,
   "metadata": {},
   "outputs": [],
   "source": [
    "def ker(x,y,sigma) :\n",
    "    \"\"\"\n",
    "    This function computes the Gaussian radial basis kernel function.\n",
    "    \n",
    "    Parameters\n",
    "    ----------\n",
    "    x : an M-dimensionnal numpy array - a vector\n",
    "    y : an M-dimensionnal numpy array - a vector\n",
    "    sigma : a float number - a hyperparameter\n",
    "\n",
    "\n",
    "    Returns\n",
    "    -------\n",
    "    ker : a float number - the value of the Gaussian radial basis kernel function\n",
    "    \n",
    "    \"\"\"\n",
    "    \n",
    "    return np.exp(-(np.linalg.norm(x-y)**2)/sigma)"
   ]
  },
  {
   "cell_type": "code",
   "execution_count": 1255,
   "metadata": {},
   "outputs": [],
   "source": [
    "## MODIFYING THIS CT7 SOLUTION FUNCTION ## \n",
    "\n",
    "def compute_cost(w, X, y, sigma):\n",
    "    n = X.shape[0]\n",
    "    distances = np.zeros(n)\n",
    "    for i in range(n) :\n",
    "        distances[i] = 1 - y[i] * (ker(X[i],w[1:],sigma) + w[0]) ### Using ker ###\n",
    "    distances[distances < 0] = 0  # equivalent to max(0, distance)\n",
    "\n",
    "    # calculate cost\n",
    "    return np.sum(distances)"
   ]
  },
  {
   "cell_type": "code",
   "execution_count": 1309,
   "metadata": {},
   "outputs": [],
   "source": [
    "## MODIFYING THIS CT7 SOLUTION FUNCTION ## \n",
    "\n",
    "# calculate gradient of cost\n",
    "def calculate_cost_gradient(w, X_batch, y_batch, sigma):\n",
    "    # if only one example is passed\n",
    "    y_batch = np.asarray([y_batch])\n",
    "    X_batch = np.asarray([X_batch])  # gives multidimensional array\n",
    "\n",
    "    #distance = 1 - (y_batch * (X_batch @ w))\n",
    "    n = X_batch.shape[0]\n",
    "    distances = np.zeros(n)\n",
    "    for i in range(n) :\n",
    "        distances[i] = 1 - y_batch[i] * ker(X_batch[i],w[1:],sigma) ### Using ker ###\n",
    "    dw = np.zeros(len(w), dtype = float)\n",
    "\n",
    "    for ind, d in enumerate(distances):\n",
    "        if max(0, d)!=0:\n",
    "            #di = w - (regul_strength * y_batch[ind] * X_batch[ind])\n",
    "            ### Not efficient ###\n",
    "            ### Using ker ###\n",
    "            di = np.zeros(len(w), dtype = float)\n",
    "            di[1:] = -(2/sigma) * y_batch[ind] * ker(X_batch[ind],w[1:],sigma) * (w[1:] - X_batch[ind])\n",
    "            di[0] = -y_batch[ind]\n",
    "            di = di.astype(float)\n",
    "            dw += di\n",
    "\n",
    "    return dw/len(y_batch)  # average"
   ]
  },
  {
   "cell_type": "code",
   "execution_count": 1306,
   "metadata": {},
   "outputs": [],
   "source": [
    "## MODIFYING THIS CT7 SOLUTION FUNCTION ## \n",
    "\n",
    "def sgd(X, y, batch_size=32, max_iterations=5000, stop_criterion=1e-20, \\\n",
    "        learning_rate=1e-5, sigma=1, print_outcome=False):\n",
    "    # initialise zero weights\n",
    "    weights = np.zeros(X.shape[1]+1)\n",
    "    #np.random.uniform(size=X.shape[1]+1)\n",
    "    nth = 0\n",
    "    # initialise starting cost as infinity\n",
    "    prev_cost = np.inf\n",
    "    \n",
    "    # stochastic gradient descent\n",
    "    indices = np.arange(len(y))\n",
    "    for iteration in range(1, max_iterations):\n",
    "        # shuffle to prevent repeating update cycles\n",
    "        np.random.shuffle(indices)\n",
    "        batch_idx = indices[:batch_size]\n",
    "        X_b, y_b = X[batch_idx], y[batch_idx]\n",
    "        for xi, yi in zip(X_b, y_b):\n",
    "            ascent = calculate_cost_gradient(weights, xi, yi, sigma) ### Using sigma ###\n",
    "            weights = weights - (learning_rate * ascent)\n",
    "\n",
    "        # convergence check on 2^n'th iteration\n",
    "        if iteration==2**nth or iteration==max_iterations-1:\n",
    "            # compute cost\n",
    "            cost = compute_cost(weights, X, y, sigma) ### Using sigma ###\n",
    "            if print_outcome:\n",
    "                print(\"Iteration is: {}, Cost is: {}\".format(iteration, cost))\n",
    "            # stop criterion\n",
    "            if abs(prev_cost - cost) < stop_criterion * prev_cost:\n",
    "                return weights\n",
    "              \n",
    "            prev_cost = cost\n",
    "            nth += 1\n",
    "    \n",
    "    return weights"
   ]
  },
  {
   "cell_type": "code",
   "execution_count": 1311,
   "metadata": {},
   "outputs": [
    {
     "name": "stdout",
     "output_type": "stream",
     "text": [
      "Iteration is: 1, Cost is: 2565.55332\n",
      "Iteration is: 2, Cost is: 2565.10664\n",
      "Iteration is: 4, Cost is: 2564.52252\n",
      "Iteration is: 8, Cost is: 2563.1824800000004\n",
      "Iteration is: 16, Cost is: 2560.2962399999997\n",
      "Iteration is: 32, Cost is: 2554.1458000000002\n",
      "Iteration is: 64, Cost is: 2542.257240000001\n",
      "Iteration is: 128, Cost is: 2518.651920000001\n",
      "Iteration is: 256, Cost is: 2472.57515999999\n",
      "Iteration is: 512, Cost is: 2377.6384800000174\n",
      "Iteration is: 1024, Cost is: 2188.349239999864\n",
      "Iteration is: 2048, Cost is: 1808.2245599994835\n",
      "Iteration is: 4096, Cost is: 1056.0154400023453\n",
      "Iteration is: 4999, Cost is: 877.9343999993837\n",
      "Training finished.\n"
     ]
    }
   ],
   "source": [
    "# Training the model \n",
    "w = sgd(X = dataArray[:,1:31], y = dataArray[:,31], sigma=0.000001, print_outcome=True)\n",
    "print(\"Training finished.\")"
   ]
  },
  {
   "cell_type": "code",
   "execution_count": 1316,
   "metadata": {},
   "outputs": [],
   "source": [
    "## MODIFYING THIS CT7 SOLUTION FUNCTION ## \n",
    "\n",
    "### Using accuracy ###\n",
    "def score(w, X, y, sigma):\n",
    "    n = X.shape[0]\n",
    "    y_preds = np.zeros(n)\n",
    "    for i in range(n) :\n",
    "        y_preds[i] = np.sign(ker(X[i],w[1:],sigma) + w[0]) ### Using ker ###\n",
    "    return np.mean(y_preds == y)"
   ]
  },
  {
   "cell_type": "code",
   "execution_count": 1317,
   "metadata": {},
   "outputs": [
    {
     "data": {
      "text/plain": [
       "0.8347622759158223"
      ]
     },
     "execution_count": 1317,
     "metadata": {},
     "output_type": "execute_result"
    }
   ],
   "source": [
    "score(w, X = dataArray[:,1:31], y = dataArray[:,31], sigma = 0.000001)"
   ]
  },
  {
   "cell_type": "code",
   "execution_count": 1296,
   "metadata": {},
   "outputs": [],
   "source": [
    "# Serializing the classes : 'M' becomes 1.0 and 'B' becomes -1.0\n",
    "testingDataArray = df_tumour_test.to_numpy()\n",
    "serialMap = {'M': 1.0, 'B': -1.0}\n",
    "length = len(testingDataArray[:,31])\n",
    "testingDataArray[:,31] = [serialMap[testingDataArray[i,31]] for i in range(length)]\n",
    "\n",
    "# Standardization\n",
    "testingDataArray[:,1:31] = (testingDataArray[:,1:31]\\\n",
    "                            - np.mean(testingDataArray[:,1:31])) / np.std(testingDataArray[:,1:31])\n",
    "\n",
    "# Augmenting dataArray to fit intercept \n",
    "#dataArray = np.insert(dataArray, 31, 1, axis=1)"
   ]
  }
 ],
 "metadata": {
  "colab": {
   "collapsed_sections": [],
   "name": "SurnameCID_CW1.ipynb",
   "provenance": []
  },
  "kernelspec": {
   "display_name": "Python 3",
   "language": "python",
   "name": "python3"
  },
  "language_info": {
   "codemirror_mode": {
    "name": "ipython",
    "version": 3
   },
   "file_extension": ".py",
   "mimetype": "text/x-python",
   "name": "python",
   "nbconvert_exporter": "python",
   "pygments_lexer": "ipython3",
   "version": "3.9.0"
  }
 },
 "nbformat": 4,
 "nbformat_minor": 1
}
